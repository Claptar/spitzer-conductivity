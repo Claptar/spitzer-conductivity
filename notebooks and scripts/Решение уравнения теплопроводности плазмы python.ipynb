{
 "cells": [
  {
   "cell_type": "markdown",
   "metadata": {
    "pycharm": {
     "name": "#%% md\n"
    }
   },
   "source": [
    "# Решение спитцеровской теплопроводности в плазме"
   ]
  },
  {
   "cell_type": "markdown",
   "source": [
    "## Неявный метод с неоднородностью на нижнем слое"
   ],
   "metadata": {
    "collapsed": false,
    "pycharm": {
     "name": "#%% md\n"
    }
   }
  },
  {
   "cell_type": "code",
   "execution_count": null,
   "outputs": [],
   "source": [
    "from scipy.optimize import root\n",
    "import matplotlib.pyplot as plt\n",
    "import numpy as np"
   ],
   "metadata": {
    "collapsed": false,
    "pycharm": {
     "name": "#%%\n"
    }
   }
  },
  {
   "cell_type": "code",
   "execution_count": null,
   "outputs": [],
   "source": [
    "def qei(Te, Ti):\n",
    "    if Te == 0:\n",
    "        return 0.0\n",
    "    else:\n",
    "        return (Te - Ti) / Te ** 2"
   ],
   "metadata": {
    "collapsed": false,
    "pycharm": {
     "name": "#%%\n"
    }
   }
  },
  {
   "cell_type": "code",
   "execution_count": null,
   "outputs": [],
   "source": [
    "def f_electron_ion(z, u1, u2, n, tau, h, M, kappa=0.2, alpha=2.5):\n",
    "    Func = np.zeros(M, dtype=np.double)\n",
    "    # Задаём уравнение с граничным условием для электронной температуры\n",
    "    k1 = 0.5 * (z[0] ** alpha + z[1] ** alpha)\n",
    "    Func[0] = (z[0] - u1[n, 0]) / tau - kappa / h * (k1 * (z[1] - z[0]) / h) - qei(u1[n, 0], u2[n, 0])\n",
    "    # Задаём уравнения для электронной температуры\n",
    "    for m in range(1, M - 1):\n",
    "        k1 = 0.5 * (z[m] ** alpha + z[m + 1] ** alpha)\n",
    "        k2 = 0.5 * (z[m] ** alpha + z[m - 1] ** alpha)\n",
    "        Func[m] =  (z[m] - u1[n, m]) / tau - kappa / h * (k1 * (z[m + 1] - z[m]) / h - k2 * (z[m] - z[m - 1]) / h) - qei(u1[n, m], u2[n, m])\n",
    "    # Заполняем предпоследний узел\n",
    "    m = M - 1\n",
    "    k1 = 0.5 * z[m] ** alpha\n",
    "    k2 = 0.5 * (z[m] ** alpha + z[m - 1] ** alpha)\n",
    "    Func[m] = (z[m] - u1[n, m]) / tau - kappa / h * (k1 * (0 - z[m]) / h - k2 * (z[m] - z[m - 1]) / h) - qei(u1[n, m], u2[n, m])\n",
    "    return Func"
   ],
   "metadata": {
    "collapsed": false,
    "pycharm": {
     "name": "#%%\n"
    }
   }
  },
  {
   "cell_type": "code",
   "execution_count": null,
   "outputs": [],
   "source": [
    "def j_electron_ion(z, u1, u2, n, tau, h, M, kappa=0.2, alpha=2.5):\n",
    "    J = np.zeros((M, M), dtype=np.double)\n",
    "    # Запишем частные производные для первого уравнения электронной температуры\n",
    "    J[0, 0] = 1 / tau - kappa / (2 * h ** 2) * (alpha * z[0] ** (alpha - 1) * (z[1] - z[0]) - (z[0] ** alpha + z[1] ** alpha))\n",
    "    J[0, 1] = - kappa / (2 * h ** 2) * (alpha * z[1] ** (alpha - 1) * (z[1] - z[0]) + (z[0] ** alpha + z[1] ** alpha))\n",
    "    # Запишем частные производные для уравнений электронной температуры\n",
    "    for i in range(1, M - 1):\n",
    "        J[i,i - 1] = kappa / (2 * h ** 2) * (alpha * z[i - 1] ** (alpha - 1) * (z[i] - z[i - 1]) - (z[i - 1] ** alpha + z[i] ** alpha))\n",
    "        J[i, i] = 1 / tau - kappa / (2 * h ** 2) * (alpha * z[i] ** (alpha - 1) * (z[i + 1] - z[i]) - (z[i] ** alpha + z[i + 1] ** alpha) - alpha * z[i] ** (alpha - 1) * (z[i] - z[i - 1]) - (z[i - 1] ** alpha + z[i] ** alpha))\n",
    "        J[i,i + 1] = - kappa / (2 * h ** 2) * (alpha * z[i + 1] ** (alpha - 1) * (z[i + 1] - z[i]) + (z[i] ** alpha + z[i + 1] ** alpha))\n",
    "    # Запишем частные производные для последнего уравнения электронной температуры\n",
    "    i = M - 1\n",
    "    J[i,i - 1] = kappa / (2 * h ** 2) * (alpha * z[i - 1] ** (alpha - 1) * (z[i] - z[i - 1]) - (z[i - 1] ** alpha + z[i] ** alpha))\n",
    "    J[i, i] = 1 / tau - kappa / (2 * h ** 2) * (alpha * z[i] ** (alpha - 1) * (0 - z[i]) - (z[i] ** alpha + 0) - alpha * z[i] ** (alpha - 1) * (z[i] - z[i - 1]) - (z[i - 1] ** alpha + z[i] ** alpha))\n",
    "    return J"
   ],
   "metadata": {
    "collapsed": false,
    "pycharm": {
     "name": "#%%\n"
    }
   }
  },
  {
   "cell_type": "code",
   "execution_count": null,
   "outputs": [],
   "source": [
    "# Начальные значения\n",
    "a = 0\n",
    "b = 2\n",
    "t_0 = 0\n",
    "T = 0.01\n",
    "To = 2"
   ],
   "metadata": {
    "collapsed": false,
    "pycharm": {
     "name": "#%%\n"
    }
   }
  },
  {
   "cell_type": "code",
   "execution_count": null,
   "outputs": [],
   "source": [
    "# Число узлов\n",
    "N = 6000\n",
    "M = 400\n",
    "\n",
    "# Размер шага сетки\n",
    "h = (b - a) / M\n",
    "tau = (T - t_0) / N\n",
    "print(f'{h=}, {tau=: .4f}')\n",
    "\n",
    "tau / h ** 2 * 0.5"
   ],
   "metadata": {
    "collapsed": false,
    "pycharm": {
     "name": "#%%\n"
    }
   }
  },
  {
   "cell_type": "code",
   "execution_count": null,
   "outputs": [],
   "source": [
    "t = np.linspace(t_0, T, N + 1)\n",
    "x = np.linspace(a, b, M + 1)"
   ],
   "metadata": {
    "collapsed": false,
    "pycharm": {
     "name": "#%%\n"
    }
   }
  },
  {
   "cell_type": "code",
   "execution_count": null,
   "outputs": [],
   "source": [
    "def u_init(x, To):\n",
    "    u = np.zeros(x.size)\n",
    "    for i in range(len(x)):\n",
    "        if x[i] <= 1:\n",
    "            u[i] = To\n",
    "    return u"
   ],
   "metadata": {
    "collapsed": false,
    "pycharm": {
     "name": "#%%\n"
    }
   }
  },
  {
   "cell_type": "code",
   "execution_count": null,
   "outputs": [],
   "source": [
    "u1 = np.zeros((N + 1, M + 1), dtype=np.double)\n",
    "u1[0, :] = u_init(x, 2)\n",
    "\n",
    "u2 = np.zeros((N + 1, M + 1), dtype=np.double)\n",
    "u2[0, :] = u_init(x, 2)"
   ],
   "metadata": {
    "collapsed": false,
    "pycharm": {
     "name": "#%%\n"
    }
   }
  },
  {
   "cell_type": "code",
   "execution_count": null,
   "outputs": [],
   "source": [
    "u1[1, :]"
   ],
   "metadata": {
    "collapsed": false,
    "pycharm": {
     "name": "#%%\n"
    }
   }
  },
  {
   "cell_type": "code",
   "execution_count": null,
   "outputs": [],
   "source": [
    "from tqdm.notebook import tqdm\n",
    "import time"
   ],
   "metadata": {
    "collapsed": false,
    "pycharm": {
     "name": "#%%\n"
    }
   }
  },
  {
   "cell_type": "code",
   "execution_count": null,
   "outputs": [],
   "source": [
    "for n in tqdm(range(N)):\n",
    "    res_electron = root(fun=f_electron_ion, x0=u1[n, :-1], args=(u1, u2, n, tau, h, M, 0.2, 2.5), method='krylov', jac=j_electron_ion)\n",
    "    res_ion = root(fun=f_electron_ion, x0=u2[n, :-1], args=(u1, u2, n, tau, h, M, 0.3, 1.5), method='krylov', jac=j_electron_ion)\n",
    "    u1[n + 1, :-1] = res_electron.x\n",
    "    u2[n + 1, :-1] = res_ion.x"
   ],
   "metadata": {
    "collapsed": false,
    "pycharm": {
     "name": "#%%\n"
    }
   }
  },
  {
   "cell_type": "code",
   "execution_count": null,
   "outputs": [],
   "source": [
    "res_electron.x"
   ],
   "metadata": {
    "collapsed": false,
    "pycharm": {
     "name": "#%%\n"
    }
   }
  },
  {
   "cell_type": "code",
   "execution_count": null,
   "outputs": [],
   "source": [
    "np.all(u1[1, :] == u1[2, :])"
   ],
   "metadata": {
    "collapsed": false,
    "pycharm": {
     "name": "#%%\n"
    }
   }
  },
  {
   "cell_type": "code",
   "execution_count": null,
   "outputs": [],
   "source": [
    "from matplotlib import pyplot as plt\n",
    "from matplotlib.pyplot import axes\n",
    "from celluloid import Camera\n",
    "\n",
    "fig = plt.figure()\n",
    "camera = Camera(fig)\n",
    "ax = axes(xlim=(0, 1.5), ylim=(0, 2.5))\n",
    "\n",
    "for i in range(0, N, 20):\n",
    "    ax.plot(x, u1[i, :], color=\"blue\")\n",
    "    ax.plot(x, u2[i, :], color=\"red\")\n",
    "    camera.snap()\n",
    "animation = camera.animate()\n",
    "animation.save('oh_my.gif', writer = 'imagemagick')"
   ],
   "metadata": {
    "collapsed": false,
    "pycharm": {
     "name": "#%%\n"
    }
   }
  },
  {
   "cell_type": "code",
   "execution_count": null,
   "outputs": [],
   "source": [
    "from IPython.display import Image\n",
    "Image(url='oh_my.gif')"
   ],
   "metadata": {
    "collapsed": false,
    "pycharm": {
     "name": "#%%\n"
    }
   }
  },
  {
   "cell_type": "code",
   "execution_count": null,
   "outputs": [],
   "source": [],
   "metadata": {
    "collapsed": false,
    "pycharm": {
     "name": "#%%\n"
    }
   }
  },
  {
   "cell_type": "code",
   "execution_count": null,
   "outputs": [],
   "source": [
    "import numpy as np\n",
    "from matplotlib import pyplot as plt\n",
    "from matplotlib.animation import FuncAnimation\n",
    "plt.style.use('seaborn-pastel')\n",
    "\n",
    "fig = plt.figure()\n",
    "ax = plt.axes(xlim=(0, 4), ylim=(-2, 2))\n",
    "line, = ax.plot([], [], lw=3)\n",
    "\n",
    "def init():\n",
    "    line.set_data([], [])\n",
    "    return line,\n",
    "def animate(i):\n",
    "    x = np.linspace(0, 4, 1000)\n",
    "    y = np.sin(2 * np.pi * (x - 0.01 * i))\n",
    "    line.set_data(x, y)\n",
    "    return line,\n",
    "\n",
    "anim = FuncAnimation(fig, animate, init_func=init,\n",
    "                               frames=200, interval=20, blit=True)\n",
    "\n",
    "anim.save('sine_wave.gif', writer='imagemagick')"
   ],
   "metadata": {
    "collapsed": false,
    "pycharm": {
     "name": "#%%\n"
    }
   }
  },
  {
   "cell_type": "markdown",
   "source": [
    "# Решение одномерного квазилинейного уравнения"
   ],
   "metadata": {
    "collapsed": false,
    "pycharm": {
     "name": "#%% md\n"
    }
   }
  },
  {
   "cell_type": "code",
   "execution_count": null,
   "outputs": [],
   "source": [],
   "metadata": {
    "collapsed": false,
    "pycharm": {
     "name": "#%%\n"
    }
   }
  },
  {
   "cell_type": "code",
   "execution_count": null,
   "outputs": [],
   "source": [
    "import numpy as np\n",
    "from matplotlib import pyplot as plt\n",
    "from matplotlib.animation import FuncAnimation\n",
    "plt.style.use('seaborn-pastel')\n",
    "\n",
    "fig = plt.figure()\n",
    "ax = plt.axes(xlim=(0, 4), ylim=(-2, 2))\n",
    "line, = ax.plot([], [], lw=3)\n",
    "\n",
    "def init():\n",
    "    line.set_data([], [])\n",
    "    return line,\n",
    "def animate(i):\n",
    "    x = np.linspace(0, 4, 1000)\n",
    "    y = np.sin(2 * np.pi * (x - 0.01 * i))\n",
    "    line.set_data(x, y)\n",
    "    return line,\n",
    "\n",
    "anim = FuncAnimation(fig, animate, init_func=init,\n",
    "                               frames=200, interval=20, blit=True)\n",
    "\n",
    "anim.save('sine_wave.gif', writer='imagemagick')"
   ],
   "metadata": {
    "collapsed": false,
    "pycharm": {
     "name": "#%%\n"
    }
   }
  },
  {
   "cell_type": "markdown",
   "source": [
    "## Решение при помощи потоковой прогонки"
   ],
   "metadata": {
    "collapsed": false,
    "pycharm": {
     "name": "#%% md\n"
    }
   }
  },
  {
   "cell_type": "code",
   "execution_count": null,
   "outputs": [],
   "source": [
    "def K_1_2(y_m, y_m_1, alpha):\n",
    "    return (y_m ** alpha + y_m_1 ** alpha) / 2"
   ],
   "metadata": {
    "collapsed": false,
    "pycharm": {
     "name": "#%%\n"
    }
   }
  },
  {
   "cell_type": "code",
   "execution_count": null,
   "outputs": [],
   "source": [
    "def W_1_2(y_m, y_m_1, h):\n",
    "    "
   ],
   "metadata": {
    "collapsed": false,
    "pycharm": {
     "name": "#%%\n"
    }
   }
  }
 ],
 "metadata": {
  "kernelspec": {
   "display_name": "Python 3 (ipykernel)",
   "language": "python",
   "name": "python3"
  },
  "language_info": {
   "codemirror_mode": {
    "name": "ipython",
    "version": 3
   },
   "file_extension": ".py",
   "mimetype": "text/x-python",
   "name": "python",
   "nbconvert_exporter": "python",
   "pygments_lexer": "ipython3",
   "version": "3.9.12"
  }
 },
 "nbformat": 4,
 "nbformat_minor": 1
}