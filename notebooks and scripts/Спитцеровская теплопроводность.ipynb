{
 "cells": [
  {
   "cell_type": "markdown",
   "metadata": {
    "pycharm": {
     "name": "#%% md\n"
    }
   },
   "source": [
    "# Решение спитцеровского уравнения теплопроводности плазмы"
   ]
  },
  {
   "cell_type": "code",
   "execution_count": 3,
   "outputs": [],
   "source": [
    "import numpy as np\n",
    "import matplotlib.pyplot as plt\n",
    "from tqdm.notebook import tqdm\n",
    "from matplotlib.pyplot import axes\n",
    "from celluloid import Camera\n",
    "from numba import njit\n",
    "import utils"
   ],
   "metadata": {
    "collapsed": false,
    "pycharm": {
     "name": "#%%\n"
    }
   }
  },
  {
   "cell_type": "markdown",
   "source": [
    "## Неявная разностная схема с нелинейностью на верхнем слое\n",
    "\n",
    "Для численного решения задачи будем использовать неявную разностную схему с нелинейностью на нижнем слое\n",
    "\n",
    "$$\n",
    "\\frac{y^{n+1}_{m} - y^{n}_{m}}{\\tau} = \\frac{1}{h}\\left[k^{n + 1}_{m + 1/2}\\frac{y^{n+1}_{m+1} - y^{n+1}_{m}}{h} - k^{n+1}_{m - 1/2}\\frac{y^{n+1}_{m} - y^{n+1}_{m - 1}}{h}\\right]\n",
    "$$"
   ],
   "metadata": {
    "collapsed": false,
    "pycharm": {
     "name": "#%% md\n"
    }
   }
  },
  {
   "cell_type": "code",
   "execution_count": 22,
   "outputs": [],
   "source": [
    "@njit\n",
    "def k_12(y_m, y_m_1, alpha, kappa=1):\n",
    "    return kappa * (y_m ** alpha + y_m_1 ** alpha) / 2"
   ],
   "metadata": {
    "collapsed": false,
    "pycharm": {
     "name": "#%%\n"
    }
   }
  },
  {
   "cell_type": "code",
   "execution_count": 23,
   "outputs": [],
   "source": [
    "from numpy.linalg import inv\n",
    "\n",
    "@njit\n",
    "def thomas_block_solver(A, B, C, D):\n",
    "    M = len(D)\n",
    "    u_sol = np.zeros_like(D)\n",
    "    P = np.zeros_like(B)\n",
    "    Q = np.zeros_like(D)\n",
    "    # Forward first coefs\n",
    "    P[0] = inv(B[0]) @ C[0]\n",
    "    Q[0] = - inv(B[0]) @ D[0]\n",
    "    # Forward coefs\n",
    "    for m in range(1, M - 1):\n",
    "        inv_denom = inv(B[m] - A[m - 1] @ P[m - 1])\n",
    "        P[m] = inv_denom @ C[m]\n",
    "        Q[m] = inv_denom @ (A[m - 1] @ Q[m - 1] - D[m])\n",
    "    #Forward last\n",
    "    m = M - 1\n",
    "    Q[m] = inv(B[m] - A[m - 1] @ P[m - 1]) @ (A[m - 1] @ Q[m - 1] - D[m])\n",
    "\n",
    "    # backward\n",
    "    u_sol[-1] = Q[-1]\n",
    "    for m in range(M - 1, -1, -1):\n",
    "        u_sol[m - 1] = P[m - 1] @ u_sol[m] + Q[m - 1]\n",
    "\n",
    "    return u_sol"
   ],
   "metadata": {
    "collapsed": false,
    "pycharm": {
     "name": "#%%\n"
    }
   }
  },
  {
   "cell_type": "code",
   "execution_count": 24,
   "outputs": [],
   "source": [
    "@njit\n",
    "def qei(y):\n",
    "    Te, Ti = y\n",
    "    if Te == 0:\n",
    "        return 0, 0, 0\n",
    "    try:\n",
    "        q = (Te - Ti) / Te ** 2\n",
    "        dq_dTe = (2 * Te * Ti - Te ** 2) / Te ** 4\n",
    "        dq_dTi = - 1 / Te ** 2\n",
    "    except Exception:\n",
    "        q, dq_dTe, dq_dTi = 0, 0, 0\n",
    "    return q, dq_dTe, dq_dTi"
   ],
   "metadata": {
    "collapsed": false,
    "pycharm": {
     "name": "#%%\n"
    }
   }
  },
  {
   "cell_type": "code",
   "execution_count": 25,
   "outputs": [],
   "source": [
    "from numpy.linalg import norm\n",
    "\n",
    "def make_block(u, m, tau, h, u_n, alpha=(2.5, 1.5), kappa=(0.2, 0.3)):\n",
    "    alpha = np.array(alpha)\n",
    "    kappa = np.array(kappa)\n",
    "    sigma = tau / h ** 2\n",
    "    A, B, C, D = np.zeros((2, 2)), np.zeros((2, 2)), np.zeros((2, 2)), np.zeros((2, 2))\n",
    "    dkappa = lambda x: kappa * 0.5 * alpha * x ** (alpha - 1)\n",
    "    q, dq_dTe, dq_dTi = qei(u[m])\n",
    "    dphi_dy = np.array([- dq_dTe, dq_dTi])\n",
    "    phi = np.array([- q, q])\n",
    "    if m == 0:\n",
    "        C = np.diagflat(k_12(u[m], u[m + 1], alpha, kappa) + dkappa(u[m + 1]) * (u[m + 1] - u[m]))\n",
    "        B = np.diagflat(1 / sigma + k_12(u[m], u[m + 1], alpha, kappa) - dkappa(u[m]) * (u[m + 1] - u[m]))\n",
    "        B -= np.diagflat(h ** 2 * dphi_dy)\n",
    "        B[0, 1], B[1, 0] = dphi_dy[1], dphi_dy[0]\n",
    "        D = (u[m] - u_n[m]) / sigma - k_12(u[m + 1], u[m], alpha, kappa) * (u[m + 1] - u[m])\n",
    "        D -= h ** 2 * phi\n",
    "        return C, B, D\n",
    "    A = np.diagflat(k_12(u[m - 1], u[m], alpha, kappa) - dkappa(u[m - 1]) * (u[m] - u[m - 1]))\n",
    "    C = np.diagflat(k_12(u[m], u[m + 1], alpha, kappa) + dkappa(u[m + 1]) * (u[m + 1] - u[m]))\n",
    "    B = np.diagflat(1 / sigma + k_12(u[m], u[m + 1], alpha, kappa) + k_12(u[m - 1], u[m], alpha, kappa) - dkappa(u[m]) * (u[m + 1] - u[m]) + dkappa(u[m]) * (u[m] - u[m - 1]))\n",
    "    D = (u[m] - u_n[m]) / sigma - k_12(u[m + 1], u[m], alpha, kappa) * (u[m + 1] - u[m]) + k_12(u[m], u[m - 1], alpha, kappa) * (u[m] - u[m - 1])\n",
    "    if norm(h ** 2 * dphi_dy) / norm(np.diag(B)) < 1e14:\n",
    "        B -= np.diagflat(h ** 2 * dphi_dy)\n",
    "        B[0, 1], B[1, 0] = h ** 2 * dphi_dy[1], h ** 2 * dphi_dy[0]\n",
    "        D -= h ** 2 * phi\n",
    "    return A, B, C, D"
   ],
   "metadata": {
    "collapsed": false,
    "pycharm": {
     "name": "#%%\n"
    }
   }
  },
  {
   "cell_type": "code",
   "execution_count": 26,
   "outputs": [],
   "source": [
    "def make_block_diagonals(u1_s, u2_s, tau, h, u1_n, u2_n, alpha=(2.5, 1.5), kappa=(0.2, 0.3)):\n",
    "    M = len(u1_s)\n",
    "    A = np.zeros((M - 1, 2, 2))\n",
    "    B = np.zeros((M, 2, 2))\n",
    "    C = np.zeros((M - 1, 2, 2))\n",
    "    D = np.zeros((M, 2))\n",
    "    u_s = np.vstack([u1_s, u2_s]).T\n",
    "    u_n = np.vstack([u1_n, u2_n]).T\n",
    "    # first row\n",
    "    C[0], B[0], D[0] = make_block(u_s, 0, tau, h, u_n, alpha=alpha, kappa=kappa)\n",
    "    # rows m = 1, ..., M - 2\n",
    "    for m in range(1, M - 1):\n",
    "        A[m - 1], B[m], C[m], D[m] = make_block(u_s, m, tau, h, u_n, alpha=alpha, kappa=kappa)\n",
    "    # last row\n",
    "    B[M - 1] = np.eye(2)\n",
    "    return A, B, C, D"
   ],
   "metadata": {
    "collapsed": false,
    "pycharm": {
     "name": "#%%\n"
    }
   }
  },
  {
   "cell_type": "code",
   "execution_count": 27,
   "outputs": [],
   "source": [
    "def newton_solver(u1, u2, tau, h, alpha=(2.5, 1.5), kappa=(0.2, 0.3), iter=10):\n",
    "    u1_s, u2_s = u1, u2\n",
    "    for i in range(iter):\n",
    "        A, B, C, D = make_block_diagonals(u1_s, u2_s, tau, h, u1, u2, alpha=alpha, kappa=kappa)\n",
    "        du = thomas_block_solver(A, B, C, D)\n",
    "        u1_s = u1_s + du[:, 0]\n",
    "        u2_s = u2_s + du[:, 1]\n",
    "    return u1_s, u2_s"
   ],
   "metadata": {
    "collapsed": false,
    "pycharm": {
     "name": "#%%\n"
    }
   }
  },
  {
   "cell_type": "markdown",
   "source": [
    "### Применение"
   ],
   "metadata": {
    "collapsed": false,
    "pycharm": {
     "name": "#%% md\n"
    }
   }
  },
  {
   "cell_type": "code",
   "execution_count": 35,
   "outputs": [
    {
     "name": "stdout",
     "output_type": "stream",
     "text": [
      "v = 0.3523459179744088\n"
     ]
    }
   ],
   "source": [
    "# Начальные значения\n",
    "a = 0\n",
    "b = 4\n",
    "t_0 = 0\n",
    "T = 4\n",
    "To = 2\n",
    "const = 3\n",
    "alpha = 2.5\n",
    "kappa = 0.2\n",
    "\n",
    "print(f'v = {np.sqrt(const ** (1 / alpha) * kappa / alpha)}')"
   ],
   "metadata": {
    "collapsed": false,
    "pycharm": {
     "name": "#%%\n"
    }
   }
  },
  {
   "cell_type": "code",
   "execution_count": 36,
   "outputs": [
    {
     "name": "stdout",
     "output_type": "stream",
     "text": [
      "h= 0.02010050, tau= 0.00066678\n",
      "sigma =  0.8252\n"
     ]
    }
   ],
   "source": [
    "# Число узлов\n",
    "N = 6000\n",
    "M = 200\n",
    "\n",
    "# Размер шага сетки\n",
    "h = (b - a) / (M - 1)\n",
    "tau = (T - t_0) / (N - 1)\n",
    "print(f'{h=: .8f}, {tau=: .8f}')\n",
    "print(f'sigma = {tau / h ** 2 * 0.5: .4f}')"
   ],
   "metadata": {
    "collapsed": false,
    "pycharm": {
     "name": "#%%\n"
    }
   }
  },
  {
   "cell_type": "code",
   "execution_count": 37,
   "outputs": [],
   "source": [
    "t = np.linspace(t_0, T, N)\n",
    "x = np.linspace(a, b, M)"
   ],
   "metadata": {
    "collapsed": false,
    "pycharm": {
     "name": "#%%\n"
    }
   }
  },
  {
   "cell_type": "code",
   "execution_count": 38,
   "outputs": [],
   "source": [
    "def u_init(x, To):\n",
    "    u = np.zeros(x.size)\n",
    "    for i in range(len(x)):\n",
    "        if x[i] <= 1:\n",
    "            u[i] = To\n",
    "    return u"
   ],
   "metadata": {
    "collapsed": false,
    "pycharm": {
     "name": "#%%\n"
    }
   }
  },
  {
   "cell_type": "code",
   "execution_count": 39,
   "outputs": [],
   "source": [
    "u1 = np.zeros((N, M), dtype=np.double)\n",
    "u1[0, :] = u_init(x, To)\n",
    "u2 = np.zeros((N, M), dtype=np.double)\n",
    "u2[0, :] = u_init(x, To)"
   ],
   "metadata": {
    "collapsed": false,
    "pycharm": {
     "name": "#%%\n"
    }
   }
  },
  {
   "cell_type": "code",
   "execution_count": 40,
   "outputs": [
    {
     "data": {
      "text/plain": "{'divide': 'raise', 'over': 'warn', 'under': 'ignore', 'invalid': 'raise'}"
     },
     "execution_count": 40,
     "metadata": {},
     "output_type": "execute_result"
    }
   ],
   "source": [
    "np.seterr(divide='raise', invalid='raise')"
   ],
   "metadata": {
    "collapsed": false,
    "pycharm": {
     "name": "#%%\n"
    }
   }
  },
  {
   "cell_type": "code",
   "execution_count": 41,
   "outputs": [
    {
     "data": {
      "text/plain": "  0%|          | 0/5999 [00:00<?, ?it/s]",
      "application/vnd.jupyter.widget-view+json": {
       "version_major": 2,
       "version_minor": 0,
       "model_id": "cd843899019f4cb0baeefbd508d1b0d1"
      }
     },
     "metadata": {},
     "output_type": "display_data"
    },
    {
     "ename": "KeyboardInterrupt",
     "evalue": "",
     "output_type": "error",
     "traceback": [
      "\u001B[1;31m---------------------------------------------------------------------------\u001B[0m",
      "\u001B[1;31mKeyboardInterrupt\u001B[0m                         Traceback (most recent call last)",
      "Input \u001B[1;32mIn [41]\u001B[0m, in \u001B[0;36m<cell line: 1>\u001B[1;34m()\u001B[0m\n\u001B[0;32m      1\u001B[0m \u001B[38;5;28;01mfor\u001B[39;00m n \u001B[38;5;129;01min\u001B[39;00m tqdm(\u001B[38;5;28mrange\u001B[39m(N \u001B[38;5;241m-\u001B[39m \u001B[38;5;241m1\u001B[39m)):\n\u001B[1;32m----> 2\u001B[0m     u1_sol, u2_sol \u001B[38;5;241m=\u001B[39m \u001B[43mnewton_solver\u001B[49m\u001B[43m(\u001B[49m\u001B[43mu1\u001B[49m\u001B[43m[\u001B[49m\u001B[43mn\u001B[49m\u001B[43m,\u001B[49m\u001B[43m \u001B[49m\u001B[43m:\u001B[49m\u001B[43m]\u001B[49m\u001B[43m,\u001B[49m\u001B[43m \u001B[49m\u001B[43mu2\u001B[49m\u001B[43m[\u001B[49m\u001B[43mn\u001B[49m\u001B[43m,\u001B[49m\u001B[43m \u001B[49m\u001B[43m:\u001B[49m\u001B[43m]\u001B[49m\u001B[43m,\u001B[49m\u001B[43m \u001B[49m\u001B[43mtau\u001B[49m\u001B[43m,\u001B[49m\u001B[43m \u001B[49m\u001B[43mh\u001B[49m\u001B[43m,\u001B[49m\u001B[43m \u001B[49m\u001B[43malpha\u001B[49m\u001B[38;5;241;43m=\u001B[39;49m\u001B[43m(\u001B[49m\u001B[38;5;241;43m2.5\u001B[39;49m\u001B[43m,\u001B[49m\u001B[43m \u001B[49m\u001B[38;5;241;43m1.5\u001B[39;49m\u001B[43m)\u001B[49m\u001B[43m,\u001B[49m\u001B[43m \u001B[49m\u001B[43mkappa\u001B[49m\u001B[38;5;241;43m=\u001B[39;49m\u001B[43m(\u001B[49m\u001B[38;5;241;43m0.2\u001B[39;49m\u001B[43m,\u001B[49m\u001B[43m \u001B[49m\u001B[38;5;241;43m0.3\u001B[39;49m\u001B[43m)\u001B[49m\u001B[43m,\u001B[49m\u001B[43m \u001B[49m\u001B[38;5;28;43miter\u001B[39;49m\u001B[38;5;241;43m=\u001B[39;49m\u001B[38;5;241;43m2\u001B[39;49m\u001B[43m)\u001B[49m\n\u001B[0;32m      3\u001B[0m     u1[n \u001B[38;5;241m+\u001B[39m \u001B[38;5;241m1\u001B[39m, :], u2[n \u001B[38;5;241m+\u001B[39m \u001B[38;5;241m1\u001B[39m, :] \u001B[38;5;241m=\u001B[39m u1_sol, u2_sol\n",
      "Input \u001B[1;32mIn [27]\u001B[0m, in \u001B[0;36mnewton_solver\u001B[1;34m(u1, u2, tau, h, alpha, kappa, iter)\u001B[0m\n\u001B[0;32m      2\u001B[0m u1_s, u2_s \u001B[38;5;241m=\u001B[39m u1, u2\n\u001B[0;32m      3\u001B[0m \u001B[38;5;28;01mfor\u001B[39;00m i \u001B[38;5;129;01min\u001B[39;00m \u001B[38;5;28mrange\u001B[39m(\u001B[38;5;28miter\u001B[39m):\n\u001B[1;32m----> 4\u001B[0m     A, B, C, D \u001B[38;5;241m=\u001B[39m \u001B[43mmake_block_diagonals\u001B[49m\u001B[43m(\u001B[49m\u001B[43mu1_s\u001B[49m\u001B[43m,\u001B[49m\u001B[43m \u001B[49m\u001B[43mu2_s\u001B[49m\u001B[43m,\u001B[49m\u001B[43m \u001B[49m\u001B[43mtau\u001B[49m\u001B[43m,\u001B[49m\u001B[43m \u001B[49m\u001B[43mh\u001B[49m\u001B[43m,\u001B[49m\u001B[43m \u001B[49m\u001B[43mu1\u001B[49m\u001B[43m,\u001B[49m\u001B[43m \u001B[49m\u001B[43mu2\u001B[49m\u001B[43m,\u001B[49m\u001B[43m \u001B[49m\u001B[43malpha\u001B[49m\u001B[38;5;241;43m=\u001B[39;49m\u001B[43malpha\u001B[49m\u001B[43m,\u001B[49m\u001B[43m \u001B[49m\u001B[43mkappa\u001B[49m\u001B[38;5;241;43m=\u001B[39;49m\u001B[43mkappa\u001B[49m\u001B[43m)\u001B[49m\n\u001B[0;32m      5\u001B[0m     du \u001B[38;5;241m=\u001B[39m thomas_block_solver(A, B, C, D)\n\u001B[0;32m      6\u001B[0m     u1_s \u001B[38;5;241m=\u001B[39m u1_s \u001B[38;5;241m+\u001B[39m du[:, \u001B[38;5;241m0\u001B[39m]\n",
      "Input \u001B[1;32mIn [26]\u001B[0m, in \u001B[0;36mmake_block_diagonals\u001B[1;34m(u1_s, u2_s, tau, h, u1_n, u2_n, alpha, kappa)\u001B[0m\n\u001B[0;32m     11\u001B[0m \u001B[38;5;66;03m# rows m = 1, ..., M - 2\u001B[39;00m\n\u001B[0;32m     12\u001B[0m \u001B[38;5;28;01mfor\u001B[39;00m m \u001B[38;5;129;01min\u001B[39;00m \u001B[38;5;28mrange\u001B[39m(\u001B[38;5;241m1\u001B[39m, M \u001B[38;5;241m-\u001B[39m \u001B[38;5;241m1\u001B[39m):\n\u001B[1;32m---> 13\u001B[0m     A[m \u001B[38;5;241m-\u001B[39m \u001B[38;5;241m1\u001B[39m], B[m], C[m], D[m] \u001B[38;5;241m=\u001B[39m \u001B[43mmake_block\u001B[49m\u001B[43m(\u001B[49m\u001B[43mu_s\u001B[49m\u001B[43m,\u001B[49m\u001B[43m \u001B[49m\u001B[43mm\u001B[49m\u001B[43m,\u001B[49m\u001B[43m \u001B[49m\u001B[43mtau\u001B[49m\u001B[43m,\u001B[49m\u001B[43m \u001B[49m\u001B[43mh\u001B[49m\u001B[43m,\u001B[49m\u001B[43m \u001B[49m\u001B[43mu_n\u001B[49m\u001B[43m,\u001B[49m\u001B[43m \u001B[49m\u001B[43malpha\u001B[49m\u001B[38;5;241;43m=\u001B[39;49m\u001B[43malpha\u001B[49m\u001B[43m,\u001B[49m\u001B[43m \u001B[49m\u001B[43mkappa\u001B[49m\u001B[38;5;241;43m=\u001B[39;49m\u001B[43mkappa\u001B[49m\u001B[43m)\u001B[49m\n\u001B[0;32m     14\u001B[0m \u001B[38;5;66;03m# last row\u001B[39;00m\n\u001B[0;32m     15\u001B[0m B[M \u001B[38;5;241m-\u001B[39m \u001B[38;5;241m1\u001B[39m] \u001B[38;5;241m=\u001B[39m np\u001B[38;5;241m.\u001B[39meye(\u001B[38;5;241m2\u001B[39m)\n",
      "Input \u001B[1;32mIn [25]\u001B[0m, in \u001B[0;36mmake_block\u001B[1;34m(u, m, tau, h, u_n, alpha, kappa)\u001B[0m\n\u001B[0;32m     22\u001B[0m B \u001B[38;5;241m=\u001B[39m np\u001B[38;5;241m.\u001B[39mdiagflat(\u001B[38;5;241m1\u001B[39m \u001B[38;5;241m/\u001B[39m sigma \u001B[38;5;241m+\u001B[39m k_12(u[m], u[m \u001B[38;5;241m+\u001B[39m \u001B[38;5;241m1\u001B[39m], alpha, kappa) \u001B[38;5;241m+\u001B[39m k_12(u[m \u001B[38;5;241m-\u001B[39m \u001B[38;5;241m1\u001B[39m], u[m], alpha, kappa) \u001B[38;5;241m-\u001B[39m dkappa(u[m]) \u001B[38;5;241m*\u001B[39m (u[m \u001B[38;5;241m+\u001B[39m \u001B[38;5;241m1\u001B[39m] \u001B[38;5;241m-\u001B[39m u[m]) \u001B[38;5;241m+\u001B[39m dkappa(u[m]) \u001B[38;5;241m*\u001B[39m (u[m] \u001B[38;5;241m-\u001B[39m u[m \u001B[38;5;241m-\u001B[39m \u001B[38;5;241m1\u001B[39m]))\n\u001B[0;32m     23\u001B[0m D \u001B[38;5;241m=\u001B[39m (u[m] \u001B[38;5;241m-\u001B[39m u_n[m]) \u001B[38;5;241m/\u001B[39m sigma \u001B[38;5;241m-\u001B[39m k_12(u[m \u001B[38;5;241m+\u001B[39m \u001B[38;5;241m1\u001B[39m], u[m], alpha, kappa) \u001B[38;5;241m*\u001B[39m (u[m \u001B[38;5;241m+\u001B[39m \u001B[38;5;241m1\u001B[39m] \u001B[38;5;241m-\u001B[39m u[m]) \u001B[38;5;241m+\u001B[39m k_12(u[m], u[m \u001B[38;5;241m-\u001B[39m \u001B[38;5;241m1\u001B[39m], alpha, kappa) \u001B[38;5;241m*\u001B[39m (u[m] \u001B[38;5;241m-\u001B[39m u[m \u001B[38;5;241m-\u001B[39m \u001B[38;5;241m1\u001B[39m])\n\u001B[1;32m---> 24\u001B[0m \u001B[38;5;28;01mif\u001B[39;00m norm(h \u001B[38;5;241m*\u001B[39m\u001B[38;5;241m*\u001B[39m \u001B[38;5;241m2\u001B[39m \u001B[38;5;241m*\u001B[39m dphi_dy) \u001B[38;5;241m/\u001B[39m \u001B[43mnorm\u001B[49m\u001B[43m(\u001B[49m\u001B[43mnp\u001B[49m\u001B[38;5;241;43m.\u001B[39;49m\u001B[43mdiag\u001B[49m\u001B[43m(\u001B[49m\u001B[43mB\u001B[49m\u001B[43m)\u001B[49m\u001B[43m)\u001B[49m \u001B[38;5;241m<\u001B[39m \u001B[38;5;241m1e14\u001B[39m:\n\u001B[0;32m     25\u001B[0m     B \u001B[38;5;241m-\u001B[39m\u001B[38;5;241m=\u001B[39m np\u001B[38;5;241m.\u001B[39mdiagflat(h \u001B[38;5;241m*\u001B[39m\u001B[38;5;241m*\u001B[39m \u001B[38;5;241m2\u001B[39m \u001B[38;5;241m*\u001B[39m dphi_dy)\n\u001B[0;32m     26\u001B[0m     B[\u001B[38;5;241m0\u001B[39m, \u001B[38;5;241m1\u001B[39m], B[\u001B[38;5;241m1\u001B[39m, \u001B[38;5;241m0\u001B[39m] \u001B[38;5;241m=\u001B[39m h \u001B[38;5;241m*\u001B[39m\u001B[38;5;241m*\u001B[39m \u001B[38;5;241m2\u001B[39m \u001B[38;5;241m*\u001B[39m dphi_dy[\u001B[38;5;241m1\u001B[39m], h \u001B[38;5;241m*\u001B[39m\u001B[38;5;241m*\u001B[39m \u001B[38;5;241m2\u001B[39m \u001B[38;5;241m*\u001B[39m dphi_dy[\u001B[38;5;241m0\u001B[39m]\n",
      "File \u001B[1;32m<__array_function__ internals>:5\u001B[0m, in \u001B[0;36mnorm\u001B[1;34m(*args, **kwargs)\u001B[0m\n",
      "File \u001B[1;32m~\\anaconda3\\envs\\computations\\lib\\site-packages\\numpy\\linalg\\linalg.py:2526\u001B[0m, in \u001B[0;36mnorm\u001B[1;34m(x, ord, axis, keepdims)\u001B[0m\n\u001B[0;32m   2521\u001B[0m ndim \u001B[38;5;241m=\u001B[39m x\u001B[38;5;241m.\u001B[39mndim\n\u001B[0;32m   2522\u001B[0m \u001B[38;5;28;01mif\u001B[39;00m ((\u001B[38;5;28mord\u001B[39m \u001B[38;5;129;01mis\u001B[39;00m \u001B[38;5;28;01mNone\u001B[39;00m) \u001B[38;5;129;01mor\u001B[39;00m\n\u001B[0;32m   2523\u001B[0m     (\u001B[38;5;28mord\u001B[39m \u001B[38;5;129;01min\u001B[39;00m (\u001B[38;5;124m'\u001B[39m\u001B[38;5;124mf\u001B[39m\u001B[38;5;124m'\u001B[39m, \u001B[38;5;124m'\u001B[39m\u001B[38;5;124mfro\u001B[39m\u001B[38;5;124m'\u001B[39m) \u001B[38;5;129;01mand\u001B[39;00m ndim \u001B[38;5;241m==\u001B[39m \u001B[38;5;241m2\u001B[39m) \u001B[38;5;129;01mor\u001B[39;00m\n\u001B[0;32m   2524\u001B[0m     (\u001B[38;5;28mord\u001B[39m \u001B[38;5;241m==\u001B[39m \u001B[38;5;241m2\u001B[39m \u001B[38;5;129;01mand\u001B[39;00m ndim \u001B[38;5;241m==\u001B[39m \u001B[38;5;241m1\u001B[39m)):\n\u001B[1;32m-> 2526\u001B[0m     x \u001B[38;5;241m=\u001B[39m \u001B[43mx\u001B[49m\u001B[38;5;241;43m.\u001B[39;49m\u001B[43mravel\u001B[49m\u001B[43m(\u001B[49m\u001B[43morder\u001B[49m\u001B[38;5;241;43m=\u001B[39;49m\u001B[38;5;124;43m'\u001B[39;49m\u001B[38;5;124;43mK\u001B[39;49m\u001B[38;5;124;43m'\u001B[39;49m\u001B[43m)\u001B[49m\n\u001B[0;32m   2527\u001B[0m     \u001B[38;5;28;01mif\u001B[39;00m isComplexType(x\u001B[38;5;241m.\u001B[39mdtype\u001B[38;5;241m.\u001B[39mtype):\n\u001B[0;32m   2528\u001B[0m         sqnorm \u001B[38;5;241m=\u001B[39m dot(x\u001B[38;5;241m.\u001B[39mreal, x\u001B[38;5;241m.\u001B[39mreal) \u001B[38;5;241m+\u001B[39m dot(x\u001B[38;5;241m.\u001B[39mimag, x\u001B[38;5;241m.\u001B[39mimag)\n",
      "\u001B[1;31mKeyboardInterrupt\u001B[0m: "
     ]
    }
   ],
   "source": [
    "for n in tqdm(range(N - 1)):\n",
    "    u1_sol, u2_sol = newton_solver(u1[n, :], u2[n, :], tau, h, alpha=(2.5, 1.5), kappa=(0.2, 0.3), iter=2)\n",
    "    u1[n + 1, :], u2[n + 1, :] = u1_sol, u2_sol"
   ],
   "metadata": {
    "collapsed": false,
    "pycharm": {
     "name": "#%%\n"
    }
   }
  },
  {
   "cell_type": "code",
   "execution_count": 77,
   "outputs": [],
   "source": [
    "from scipy.optimize import root\n",
    "root()"
   ],
   "metadata": {
    "collapsed": false,
    "pycharm": {
     "name": "#%%\n"
    }
   }
  },
  {
   "cell_type": "markdown",
   "source": [
    "#### Визуализация"
   ],
   "metadata": {
    "collapsed": false,
    "pycharm": {
     "name": "#%% md\n"
    }
   }
  },
  {
   "cell_type": "code",
   "execution_count": 75,
   "outputs": [
    {
     "data": {
      "text/plain": "<Figure size 640x480 with 1 Axes>",
      "image/png": "[encoded data removed]"
     },
     "metadata": {},
     "output_type": "display_data"
    }
   ],
   "source": [
    "fig = plt.figure()\n",
    "camera = Camera(fig)\n",
    "ax = axes(xlim=(a, b), ylim=(0, 2.5))\n",
    "\n",
    "for i in range(0, N, 10):\n",
    "    ax.plot(x, u1[i, :], color=\"red\")\n",
    "    ax.fill_between(x, u1[i, :], color='red', alpha=0.3)\n",
    "    ax.plot(x, u2[i, :], color=\"blue\")\n",
    "    ax.fill_between(x, u2[i, :], color='blue', alpha=0.3)\n",
    "    #zeld_sol = zeldovich_solution(x, t[i], alpha, kappa, const)\n",
    "    #ax.plot(x, zeld_sol, color=\"blue\")\n",
    "    camera.snap()"
   ],
   "metadata": {
    "collapsed": false,
    "pycharm": {
     "name": "#%%\n"
    }
   }
  },
  {
   "cell_type": "code",
   "execution_count": 76,
   "outputs": [
    {
     "name": "stderr",
     "output_type": "stream",
     "text": [
      "MovieWriter imagemagick unavailable; using Pillow instead.\n"
     ]
    }
   ],
   "source": [
    "animation = camera.animate()\n",
    "animation.save('spitz_with_f.gif', writer = 'imagemagick', fps=tau * 10 * 1e3)"
   ],
   "metadata": {
    "collapsed": false,
    "pycharm": {
     "name": "#%%\n"
    }
   }
  },
  {
   "cell_type": "markdown",
   "source": [
    "<img alt=\"SegmentLocal\" height=\"400\" src=\"spitz_with_f.gif\" title=\"segment\" width=\"600\"/>"
   ],
   "metadata": {
    "collapsed": false,
    "pycharm": {
     "name": "#%% md\n"
    }
   }
  }
 ],
 "metadata": {
  "kernelspec": {
   "display_name": "Python 3 (ipykernel)",
   "language": "python",
   "name": "python3"
  },
  "language_info": {
   "codemirror_mode": {
    "name": "ipython",
    "version": 3
   },
   "file_extension": ".py",
   "mimetype": "text/x-python",
   "name": "python",
   "nbconvert_exporter": "python",
   "pygments_lexer": "ipython3",
   "version": "3.9.13"
  }
 },
 "nbformat": 4,
 "nbformat_minor": 1
}