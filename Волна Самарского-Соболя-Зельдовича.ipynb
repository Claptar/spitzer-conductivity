{
 "cells": [
  {
   "cell_type": "markdown",
   "source": [
    "# Для исследования разностных схем будем использовать задачу Самарского-Соболя-Зельдовича\n",
    "\n",
    "$$\n",
    "\\begin{cases}\n",
    " \\frac{\\partial u}{\\partial t} = \\frac{\\partial}{\\partial x}u^{\\alpha}\\frac{\\partial u}{\\partial x} \\\\\n",
    " u(x, 0) = 0 \\\\\n",
    " u(0, t) = ct^{1/\\alpha} \\\\\n",
    " \\lim_{x \\rightarrow +\\inf}u(x,t) = 0\n",
    " \\end{cases}\n",
    "$$"
   ],
   "metadata": {
    "collapsed": false,
    "pycharm": {
     "name": "#%% md\n"
    }
   }
  },
  {
   "cell_type": "markdown",
   "source": [
    "## Неявная разностная схема с нелинейностью на нижнем слое\n",
    "\n",
    "Для численного решения задачи будем использовать неявную разностную схему с нелинейностью на нижнем слое\n",
    "\n",
    "$$\n",
    "\\frac{y^{n+1}_{m} - y^{n}_{m}}{\\tau} = \\frac{1}{h}\\left[k^n_{m + 1/2}\\frac{y^{n+1}_{m+1} - y^{n+1}_{m}}{h} - k^n_{m - 1/2}\\frac{y^{n+1}_{m} - y^{n+1}_{m - 1}}{h}\\right]\n",
    "$$"
   ],
   "metadata": {
    "collapsed": false,
    "pycharm": {
     "name": "#%% md\n"
    }
   }
  },
  {
   "cell_type": "code",
   "execution_count": 1,
   "outputs": [],
   "source": [
    "import numpy as np\n",
    "import matplotlib.pyplot as plt\n",
    "from tqdm.notebook import tqdm\n",
    "from matplotlib.pyplot import axes\n",
    "from celluloid import Camera\n",
    "from numba import njit\n",
    "import utils"
   ],
   "metadata": {
    "collapsed": false,
    "pycharm": {
     "name": "#%%\n"
    }
   }
  },
  {
   "cell_type": "markdown",
   "source": [
    "### Реализация"
   ],
   "metadata": {
    "collapsed": false,
    "pycharm": {
     "name": "#%% md\n"
    }
   }
  },
  {
   "cell_type": "code",
   "execution_count": 40,
   "outputs": [],
   "source": [
    "@njit\n",
    "def k_12(y_m, y_m_1, alpha):\n",
    "    return (y_m ** alpha + y_m_1 ** alpha) / 2"
   ],
   "metadata": {
    "collapsed": false,
    "pycharm": {
     "name": "#%%\n"
    }
   }
  },
  {
   "cell_type": "code",
   "execution_count": 41,
   "outputs": [],
   "source": [
    "@njit\n",
    "def make_diagonals(u, n, tau, h, M, alpha=2.5, kappa=0.2):\n",
    "    # init variables\n",
    "    a = np.zeros(M - 1)\n",
    "    b = np.zeros(M)\n",
    "    c = np.zeros(M - 1)\n",
    "    d = np.zeros(M)\n",
    "    sigma = kappa * tau / h ** 2\n",
    "    y = u[n, :]\n",
    "    # first row\n",
    "    b[0] = 1\n",
    "    d[0] = - u[n + 1, 0]\n",
    "    # rows m = 2,...,M - 1\n",
    "    for m in range(1, M - 1):\n",
    "        a[m - 1] = k_12(y[m - 1], y[m], alpha) * sigma\n",
    "        c[m] = k_12(y[m], y[m + 1], alpha) * sigma\n",
    "        b[m] = 1 + a[m - 1] + c[m]\n",
    "        d[m] = - y[m]\n",
    "    # last row\n",
    "    m = M - 1\n",
    "    b[m] = 1\n",
    "    d[m] = - y[m]\n",
    "    return a, b, c, d"
   ],
   "metadata": {
    "collapsed": false,
    "pycharm": {
     "name": "#%%\n"
    }
   }
  },
  {
   "cell_type": "code",
   "execution_count": 42,
   "outputs": [],
   "source": [
    "@njit\n",
    "def thomas_solver(a, b, c, d):\n",
    "    # init arrays\n",
    "    M = len(b)\n",
    "    u_sol = np.zeros(M)\n",
    "    P = np.zeros(M)\n",
    "    Q = np.zeros(M)\n",
    "    # Forward first coefs\n",
    "    P[0] = c[0] / b[0]\n",
    "    Q[0] = - d[0] / b[0]\n",
    "    # Forward coefs n = 1 ... M - 1\n",
    "    for m in range(1, M - 1):\n",
    "        P[m] = c[m] / (b[m] - a[m - 1] * P[m - 1])\n",
    "        Q[m] = (a[m - 1] * Q[m - 1] - d[m]) / (b[m] - a[m - 1] * P[m - 1])\n",
    "    #Forward last\n",
    "    m = M - 1\n",
    "    Q[m] = (a[m - 1] * Q[m - 1] - d[m]) / (b[m] - a[m - 1] * P[m - 1])\n",
    "\n",
    "    # backward\n",
    "    u_sol[-1] = Q[-1]\n",
    "    for m in range(M - 1, -1, -1):\n",
    "        u_sol[m - 1] = P[m - 1] * u_sol[m] + Q[m - 1]\n",
    "\n",
    "    return u_sol"
   ],
   "metadata": {
    "collapsed": false,
    "pycharm": {
     "name": "#%%\n"
    }
   }
  },
  {
   "cell_type": "markdown",
   "source": [
    "### Применение"
   ],
   "metadata": {
    "collapsed": false,
    "pycharm": {
     "name": "#%% md\n"
    }
   }
  },
  {
   "cell_type": "code",
   "execution_count": 3,
   "outputs": [
    {
     "name": "stdout",
     "output_type": "stream",
     "text": [
      "v = 0.3523459179744088\n"
     ]
    }
   ],
   "source": [
    "# Начальные значения\n",
    "a = 0\n",
    "b = 2\n",
    "t_0 = 0\n",
    "T = 4\n",
    "To = 2\n",
    "const = 3\n",
    "alpha = 2.5\n",
    "kappa = 0.2\n",
    "\n",
    "print(f'v = {np.sqrt(const ** (1 / alpha) * kappa / alpha)}')"
   ],
   "metadata": {
    "collapsed": false,
    "pycharm": {
     "name": "#%%\n"
    }
   }
  },
  {
   "cell_type": "code",
   "execution_count": 4,
   "outputs": [
    {
     "name": "stdout",
     "output_type": "stream",
     "text": [
      "h= 0.02020202, tau= 0.00066678\n",
      "sigma =  0.8169\n"
     ]
    }
   ],
   "source": [
    "# Число узлов\n",
    "N = 6000\n",
    "M = 100\n",
    "\n",
    "# Размер шага сетки\n",
    "h = (b - a) / (M - 1)\n",
    "tau = (T - t_0) / (N - 1)\n",
    "print(f'{h=: .8f}, {tau=: .8f}')\n",
    "print(f'sigma = {tau / h ** 2 * 0.5: .4f}')"
   ],
   "metadata": {
    "collapsed": false,
    "pycharm": {
     "name": "#%%\n"
    }
   }
  },
  {
   "cell_type": "code",
   "execution_count": 5,
   "outputs": [],
   "source": [
    "t = np.linspace(t_0, T, N)\n",
    "x = np.linspace(a, b, M)"
   ],
   "metadata": {
    "collapsed": false,
    "pycharm": {
     "name": "#%%\n"
    }
   }
  },
  {
   "cell_type": "code",
   "execution_count": 6,
   "outputs": [],
   "source": [
    "u = np.zeros((N, M), dtype=np.double)\n",
    "u[:, 0] = const * t ** (1 / alpha)"
   ],
   "metadata": {
    "collapsed": false,
    "pycharm": {
     "name": "#%%\n"
    }
   }
  },
  {
   "cell_type": "code",
   "execution_count": 47,
   "outputs": [
    {
     "data": {
      "text/plain": "  0%|          | 0/5999 [00:00<?, ?it/s]",
      "application/vnd.jupyter.widget-view+json": {
       "version_major": 2,
       "version_minor": 0,
       "model_id": "e0ca413ddc734a56878dad42c2000db5"
      }
     },
     "metadata": {},
     "output_type": "display_data"
    }
   ],
   "source": [
    "for n in tqdm(range(N - 1)):\n",
    "    a_e, b_e, c_e, d_e = make_diagonals(u, n, tau, h, M, alpha=alpha, kappa=kappa)\n",
    "    u_sol = thomas_solver(a_e, b_e, c_e, d_e)\n",
    "    u[n + 1, :] = u_sol"
   ],
   "metadata": {
    "collapsed": false,
    "pycharm": {
     "name": "#%%\n"
    }
   }
  },
  {
   "cell_type": "markdown",
   "source": [
    "#### Визуализация"
   ],
   "metadata": {
    "collapsed": false,
    "pycharm": {
     "name": "#%% md\n"
    }
   }
  },
  {
   "cell_type": "code",
   "execution_count": 58,
   "outputs": [
    {
     "data": {
      "text/plain": "<Figure size 640x480 with 1 Axes>",
      "image/png": "[encoded data removed]"
     },
     "metadata": {},
     "output_type": "display_data"
    }
   ],
   "source": [
    "fig = plt.figure()\n",
    "camera = Camera(fig)\n",
    "ax = axes(xlim=(a, b), ylim=(0, 5))\n",
    "\n",
    "for i in range(0, N, 10):\n",
    "    ax.plot(x, u[i, :], color=\"red\")\n",
    "    ax.fill_between(x, u[i, :], color='red', alpha=0.3)\n",
    "    camera.snap()"
   ],
   "metadata": {
    "collapsed": false,
    "pycharm": {
     "name": "#%%\n"
    }
   }
  },
  {
   "cell_type": "code",
   "execution_count": 59,
   "outputs": [
    {
     "name": "stderr",
     "output_type": "stream",
     "text": [
      "MovieWriter imagemagick unavailable; using Pillow instead.\n"
     ]
    }
   ],
   "source": [
    "animation = camera.animate()\n",
    "animation.save('spitz.gif', writer = 'imagemagick', fps=tau * 10 * 1e3)"
   ],
   "metadata": {
    "collapsed": false,
    "pycharm": {
     "name": "#%%\n"
    }
   }
  },
  {
   "cell_type": "code",
   "execution_count": 60,
   "outputs": [
    {
     "data": {
      "text/html": "<img src=\"spitz.gif\"/>",
      "text/plain": "<IPython.core.display.Image object>"
     },
     "execution_count": 60,
     "metadata": {},
     "output_type": "execute_result"
    }
   ],
   "source": [
    "from IPython.display import Image\n",
    "Image(url='spitz.gif')"
   ],
   "metadata": {
    "collapsed": false,
    "pycharm": {
     "name": "#%%\n"
    }
   }
  },
  {
   "cell_type": "markdown",
   "source": [
    "## Решение неоднородной задачи с помощью схемы с нелинейностью на нижнем слое\n",
    "\n",
    "Для численного решения задачи будем использовать неявную разностную схему с нелинейностью на нижнем слое\n",
    "\n",
    "$$\n",
    "\\frac{y^{n+1}_{m} - y^{n}_{m}}{\\tau} = \\frac{1}{h}\\left[k^n_{m + 1/2}\\frac{y^{n+1}_{m+1} - y^{n+1}_{m}}{h} - k^n_{m - 1/2}\\frac{y^{n+1}_{m} - y^{n+1}_{m - 1}}{h}\\right]\n",
    "$$"
   ],
   "metadata": {
    "collapsed": false,
    "pycharm": {
     "name": "#%% md\n"
    }
   }
  },
  {
   "cell_type": "markdown",
   "source": [
    "### Реализация"
   ],
   "metadata": {
    "collapsed": false,
    "pycharm": {
     "name": "#%% md\n"
    }
   }
  },
  {
   "cell_type": "code",
   "execution_count": 58,
   "outputs": [],
   "source": [
    "def k_12(y_m, y_m_1, alpha):\n",
    "    return (y_m ** alpha + y_m_1 ** alpha) / 2"
   ],
   "metadata": {
    "collapsed": false,
    "pycharm": {
     "name": "#%%\n"
    }
   }
  },
  {
   "cell_type": "code",
   "execution_count": 59,
   "outputs": [],
   "source": [
    "def make_diagonals(u, n, tau, h, M, alpha=2.5, kappa=0.2):\n",
    "    # init variables\n",
    "    a = np.zeros(M - 1)\n",
    "    b = np.zeros(M)\n",
    "    c = np.zeros(M - 1)\n",
    "    d = np.zeros(M)\n",
    "    sigma = kappa * tau / h ** 2\n",
    "    y = u[n, :]\n",
    "    # first row\n",
    "    c[0] = k_12(y[0], y[1], alpha) * sigma\n",
    "    b[0] = 1 + c[0]\n",
    "    d[0] = - y[0]\n",
    "    # rows m = 2,...,M - 1\n",
    "    for m in range(1, M - 1):\n",
    "        a[m - 1] = k_12(y[m - 1], y[m], alpha) * sigma\n",
    "        c[m] = k_12(y[m], y[m + 1], alpha) * sigma\n",
    "        b[m] = 1 + a[m - 1] + c[m]\n",
    "        d[m] = - y[m]\n",
    "    # last row\n",
    "    m = M - 1\n",
    "    b[m] = 1\n",
    "    d[m] = - y[m]\n",
    "    return a, b, c, d"
   ],
   "metadata": {
    "collapsed": false,
    "pycharm": {
     "name": "#%%\n"
    }
   }
  },
  {
   "cell_type": "code",
   "execution_count": 60,
   "outputs": [],
   "source": [
    "def thomas_solver(a, b, c, d):\n",
    "    # init arrays\n",
    "    M = len(b)\n",
    "    u_sol = np.zeros(M)\n",
    "    P = np.zeros(M)\n",
    "    Q = np.zeros(M)\n",
    "    # Forward first coefs\n",
    "    P[0] = c[0] / b[0]\n",
    "    Q[0] = - d[0] / b[0]\n",
    "    # Forward coefs n = 1 ... M - 1\n",
    "    for m in range(1, M - 1):\n",
    "        P[m] = c[m] / (b[m] - a[m - 1] * P[m - 1])\n",
    "        Q[m] = (a[m - 1] * Q[m - 1] - d[m]) / (b[m] - a[m - 1] * P[m - 1])\n",
    "    #Forward last\n",
    "    m = M - 1\n",
    "    Q[m] = (a[m - 1] * Q[m - 1] - d[m]) / (b[m] - a[m - 1] * P[m - 1])\n",
    "\n",
    "    # backward\n",
    "    u_sol[-1] = Q[-1]\n",
    "    for m in range(M - 1, -1, -1):\n",
    "        u_sol[m - 1] = P[m - 1] * u_sol[m] + Q[m - 1]\n",
    "\n",
    "    return u_sol"
   ],
   "metadata": {
    "collapsed": false,
    "pycharm": {
     "name": "#%%\n"
    }
   }
  },
  {
   "cell_type": "markdown",
   "source": [
    "### Применение"
   ],
   "metadata": {
    "collapsed": false,
    "pycharm": {
     "name": "#%% md\n"
    }
   }
  },
  {
   "cell_type": "code",
   "execution_count": 61,
   "outputs": [
    {
     "name": "stdout",
     "output_type": "stream",
     "text": [
      "v = 0.3523459179744088\n"
     ]
    }
   ],
   "source": [
    "# Начальные значения\n",
    "a = 0\n",
    "b = 2\n",
    "t_0 = 0\n",
    "T = 4\n",
    "To = 2\n",
    "const = 3\n",
    "alpha = 2.5\n",
    "kappa = 0.2\n",
    "\n",
    "print(f'v = {np.sqrt(const ** (1 / alpha) * kappa / alpha)}')"
   ],
   "metadata": {
    "collapsed": false,
    "pycharm": {
     "name": "#%%\n"
    }
   }
  },
  {
   "cell_type": "code",
   "execution_count": 62,
   "outputs": [
    {
     "name": "stdout",
     "output_type": "stream",
     "text": [
      "h= 0.02020202, tau= 0.00066678\n",
      "sigma =  0.8169\n"
     ]
    }
   ],
   "source": [
    "# Число узлов\n",
    "N = 6000\n",
    "M = 100\n",
    "\n",
    "# Размер шага сетки\n",
    "h = (b - a) / (M - 1)\n",
    "tau = (T - t_0) / (N - 1)\n",
    "print(f'{h=: .8f}, {tau=: .8f}')\n",
    "print(f'sigma = {tau / h ** 2 * 0.5: .4f}')"
   ],
   "metadata": {
    "collapsed": false,
    "pycharm": {
     "name": "#%%\n"
    }
   }
  },
  {
   "cell_type": "code",
   "execution_count": 63,
   "outputs": [],
   "source": [
    "t = np.linspace(t_0, T, N)\n",
    "x = np.linspace(a, b, M)"
   ],
   "metadata": {
    "collapsed": false,
    "pycharm": {
     "name": "#%%\n"
    }
   }
  },
  {
   "cell_type": "code",
   "execution_count": 64,
   "outputs": [],
   "source": [
    "def u_init(x, To):\n",
    "    u = np.zeros(x.size)\n",
    "    for i in range(len(x)):\n",
    "        if x[i] <= 1:\n",
    "            u[i] = To\n",
    "    return u"
   ],
   "metadata": {
    "collapsed": false,
    "pycharm": {
     "name": "#%%\n"
    }
   }
  },
  {
   "cell_type": "code",
   "execution_count": 65,
   "outputs": [],
   "source": [
    "u = np.zeros((N + 1, M), dtype=np.double)\n",
    "u[0, :] = u_init(x, 2)"
   ],
   "metadata": {
    "collapsed": false,
    "pycharm": {
     "name": "#%%\n"
    }
   }
  },
  {
   "cell_type": "code",
   "execution_count": 70,
   "outputs": [
    {
     "data": {
      "text/plain": "{'divide': 'raise', 'over': 'raise', 'under': 'raise', 'invalid': 'raise'}"
     },
     "execution_count": 70,
     "metadata": {},
     "output_type": "execute_result"
    }
   ],
   "source": [
    "np.seterr(all='warn')"
   ],
   "metadata": {
    "collapsed": false,
    "pycharm": {
     "name": "#%%\n"
    }
   }
  },
  {
   "cell_type": "code",
   "execution_count": 71,
   "outputs": [
    {
     "data": {
      "text/plain": "  0%|          | 0/5999 [00:00<?, ?it/s]",
      "application/vnd.jupyter.widget-view+json": {
       "version_major": 2,
       "version_minor": 0,
       "model_id": "f1dafe0c716445aea126b2c77276f81c"
      }
     },
     "metadata": {},
     "output_type": "display_data"
    },
    {
     "name": "stderr",
     "output_type": "stream",
     "text": [
      "C:\\Users\\aleks\\AppData\\Local\\Temp\\ipykernel_13120\\445448729.py:2: RuntimeWarning: underflow encountered in double_scalars\n",
      "  return (y_m ** alpha + y_m_1 ** alpha) / 2\n",
      "C:\\Users\\aleks\\AppData\\Local\\Temp\\ipykernel_13120\\598935392.py:12: RuntimeWarning: underflow encountered in double_scalars\n",
      "  P[m] = c[m] / (b[m] - a[m - 1] * P[m - 1])\n",
      "C:\\Users\\aleks\\AppData\\Local\\Temp\\ipykernel_13120\\598935392.py:13: RuntimeWarning: underflow encountered in double_scalars\n",
      "  Q[m] = (a[m - 1] * Q[m - 1] - d[m]) / (b[m] - a[m - 1] * P[m - 1])\n",
      "C:\\Users\\aleks\\AppData\\Local\\Temp\\ipykernel_13120\\598935392.py:21: RuntimeWarning: underflow encountered in double_scalars\n",
      "  u_sol[m - 1] = P[m - 1] * u_sol[m] + Q[m - 1]\n",
      "C:\\Users\\aleks\\AppData\\Local\\Temp\\ipykernel_13120\\3514771672.py:16: RuntimeWarning: underflow encountered in double_scalars\n",
      "  c[m] = k_12(y[m], y[m + 1], alpha) * sigma\n",
      "C:\\Users\\aleks\\AppData\\Local\\Temp\\ipykernel_13120\\3514771672.py:15: RuntimeWarning: underflow encountered in double_scalars\n",
      "  a[m - 1] = k_12(y[m - 1], y[m], alpha) * sigma\n"
     ]
    }
   ],
   "source": [
    "for n in tqdm(range(N - 1)):\n",
    "    a_e, b_e, c_e, d_e = make_diagonals(u, n, tau, h, M, alpha=alpha, kappa=kappa)\n",
    "    u_sol = thomas_solver(a_e, b_e, c_e, d_e)\n",
    "    u[n + 1, :] = u_sol"
   ],
   "metadata": {
    "collapsed": false,
    "pycharm": {
     "name": "#%%\n"
    }
   }
  },
  {
   "cell_type": "markdown",
   "source": [
    "#### Визуализация"
   ],
   "metadata": {
    "collapsed": false,
    "pycharm": {
     "name": "#%% md\n"
    }
   }
  },
  {
   "cell_type": "code",
   "execution_count": 72,
   "outputs": [
    {
     "data": {
      "text/plain": "<Figure size 640x480 with 1 Axes>",
      "image/png": "[encoded data removed]"
     },
     "metadata": {},
     "output_type": "display_data"
    }
   ],
   "source": [
    "fig = plt.figure()\n",
    "camera = Camera(fig)\n",
    "ax = axes(xlim=(a, b), ylim=(0, 3))\n",
    "\n",
    "for i in range(0, N, 10):\n",
    "    ax.plot(x, u[i, :], color=\"red\")\n",
    "    ax.fill_between(x, u[i, :], color='red', alpha=0.3)\n",
    "    camera.snap()"
   ],
   "metadata": {
    "collapsed": false,
    "pycharm": {
     "name": "#%%\n"
    }
   }
  },
  {
   "cell_type": "code",
   "execution_count": 73,
   "outputs": [
    {
     "name": "stderr",
     "output_type": "stream",
     "text": [
      "MovieWriter imagemagick unavailable; using Pillow instead.\n"
     ]
    }
   ],
   "source": [
    "animation = camera.animate()\n",
    "animation.save('spitzer_one.gif', writer = 'imagemagick', fps=tau * 10 * 1e3)"
   ],
   "metadata": {
    "collapsed": false,
    "pycharm": {
     "name": "#%%\n"
    }
   }
  },
  {
   "cell_type": "code",
   "execution_count": 60,
   "outputs": [
    {
     "data": {
      "text/html": "<img src=\"spitz.gif\"/>",
      "text/plain": "<IPython.core.display.Image object>"
     },
     "execution_count": 60,
     "metadata": {},
     "output_type": "execute_result"
    }
   ],
   "source": [
    "from IPython.display import Image\n",
    "Image(url='spitz.gif')"
   ],
   "metadata": {
    "collapsed": false,
    "pycharm": {
     "name": "#%%\n"
    }
   }
  },
  {
   "cell_type": "markdown",
   "source": [
    "## Зельдович нелинейность на верхнем слое\n",
    "\n",
    "Для численного решения задачи будем использовать неявную разностную схему с нелинейностью на верхнем слое\n",
    "\n",
    "$$\n",
    "\\frac{y^{n+1}_{m} - y^{n}_{m}}{\\tau} = \\frac{1}{h}\\left[k^{n + 1}_{m + 1/2}\\frac{y^{n+1}_{m+1} - y^{n+1}_{m}}{h} - k^{n+1}_{m - 1/2}\\frac{y^{n+1}_{m} - y^{n+1}_{m - 1}}{h}\\right]\n",
    "$$"
   ],
   "metadata": {
    "collapsed": false,
    "pycharm": {
     "name": "#%% md\n"
    }
   }
  },
  {
   "cell_type": "markdown",
   "source": [
    "### Реализация"
   ],
   "metadata": {
    "collapsed": false,
    "pycharm": {
     "name": "#%% md\n"
    }
   }
  },
  {
   "cell_type": "code",
   "execution_count": 9,
   "outputs": [],
   "source": [
    "@njit\n",
    "def k_12(y_m, y_m_1, alpha, kappa=None):\n",
    "    kappa = 1 if kappa is None else kappa\n",
    "    return kappa * (y_m ** alpha + y_m_1 ** alpha) / 2"
   ],
   "metadata": {
    "collapsed": false,
    "pycharm": {
     "name": "#%%\n"
    }
   }
  },
  {
   "cell_type": "code",
   "execution_count": 10,
   "outputs": [],
   "source": [
    "@njit\n",
    "def thomas_solver(a, b, c, d):\n",
    "    # init arrays\n",
    "    M = len(b)\n",
    "    u_sol = np.zeros(M)\n",
    "    P = np.zeros(M)\n",
    "    Q = np.zeros(M)\n",
    "    # Forward first coefs\n",
    "    P[0] = c[0] / b[0]\n",
    "    Q[0] = - d[0] / b[0]\n",
    "    # Forward coefs n = 1 ... M - 1\n",
    "    for m in range(1, M - 1):\n",
    "        P[m] = c[m] / (b[m] - a[m - 1] * P[m - 1])\n",
    "        Q[m] = (a[m - 1] * Q[m - 1] - d[m]) / (b[m] - a[m - 1] * P[m - 1])\n",
    "    #Forward last\n",
    "    m = M - 1\n",
    "    Q[m] = (a[m - 1] * Q[m - 1] - d[m]) / (b[m] - a[m - 1] * P[m - 1])\n",
    "\n",
    "    # backward\n",
    "    u_sol[-1] = Q[-1]\n",
    "    for m in range(M - 1, -1, -1):\n",
    "        u_sol[m - 1] = P[m - 1] * u_sol[m] + Q[m - 1]\n",
    "\n",
    "    return u_sol"
   ],
   "metadata": {
    "collapsed": false,
    "pycharm": {
     "name": "#%%\n"
    }
   }
  },
  {
   "cell_type": "code",
   "execution_count": 11,
   "outputs": [],
   "source": [
    "@njit\n",
    "def make_diagonals(y_s, tau, h, y_n, alpha=2.5, kappa=0.2):\n",
    "    # init variables\n",
    "    M = len(y_s)\n",
    "    a = np.zeros(M - 1)\n",
    "    b = np.zeros(M)\n",
    "    c = np.zeros(M - 1)\n",
    "    d = np.zeros(M)\n",
    "    sigma = tau / h ** 2\n",
    "    dkappa = lambda x: kappa * 0.5 * alpha * x ** (alpha - 1)\n",
    "    # first row\n",
    "    b[0] = 1\n",
    "    d[0] = 0\n",
    "    # rows m = 2,...,M - 1\n",
    "    for m in range(1, M - 1):\n",
    "        a[m - 1] = k_12(y_s[m - 1], y_s[m], alpha, kappa) -  dkappa(y_s[m - 1]) * (y_s[m] - y_s[m - 1])\n",
    "        c[m] = k_12(y_s[m + 1], y_s[m], alpha, kappa) +  dkappa(y_s[m + 1]) * (y_s[m + 1] - y_s[m])\n",
    "        b[m] = 1 / sigma + k_12(y_s[m + 1], y_s[m], alpha, kappa) + k_12(y_s[m - 1], y_s[m], alpha, kappa) - dkappa(y_s[m]) * (y_s[m + 1] - y_s[m]) + dkappa(y_s[m]) * (y_s[m] - y_s[m - 1])\n",
    "        d[m] = (y_s[m] - y_n[m]) / sigma - k_12(y_s[m + 1], y_s[m], alpha, kappa) * (y_s[m + 1] - y_s[m]) + k_12(y_s[m - 1], y_s[m], alpha, kappa) * (y_s[m] - y_s[m - 1])\n",
    "    # last row\n",
    "    m = M - 1\n",
    "    b[m] = 1\n",
    "    d[m] = 0\n",
    "    return a, b, c, d"
   ],
   "metadata": {
    "collapsed": false,
    "pycharm": {
     "name": "#%%\n"
    }
   }
  },
  {
   "cell_type": "code",
   "execution_count": 12,
   "outputs": [],
   "source": [
    "@njit\n",
    "def newton_solver(y, y_left, tau, h, alpha=2.5, kappa=0.2, iter=10):\n",
    "    y_n, y_s = y, y\n",
    "    y_s[0] = y_left\n",
    "    for i in range(iter):\n",
    "        a, b, c, d = make_diagonals(y_s, tau, h, y_n, alpha=alpha, kappa=kappa)\n",
    "        dy = thomas_solver(a, b, c, d)\n",
    "        y_s = y_s + dy\n",
    "    return y_s"
   ],
   "metadata": {
    "collapsed": false,
    "pycharm": {
     "name": "#%%\n"
    }
   }
  },
  {
   "cell_type": "markdown",
   "source": [
    "### Применение"
   ],
   "metadata": {
    "collapsed": false,
    "pycharm": {
     "name": "#%% md\n"
    }
   }
  },
  {
   "cell_type": "code",
   "execution_count": 13,
   "outputs": [
    {
     "name": "stdout",
     "output_type": "stream",
     "text": [
      "v = 0.3523459179744088\n"
     ]
    }
   ],
   "source": [
    "# Начальные значения\n",
    "a = 0\n",
    "b = 2\n",
    "t_0 = 0\n",
    "T = 4\n",
    "To = 2\n",
    "const = 3\n",
    "alpha = 2.5\n",
    "kappa = 0.2\n",
    "\n",
    "print(f'v = {np.sqrt(const ** (1 / alpha) * kappa / alpha)}')"
   ],
   "metadata": {
    "collapsed": false,
    "pycharm": {
     "name": "#%%\n"
    }
   }
  },
  {
   "cell_type": "code",
   "execution_count": 14,
   "outputs": [
    {
     "name": "stdout",
     "output_type": "stream",
     "text": [
      "h= 0.02020202, tau= 0.00066678\n",
      "sigma =  0.8169\n"
     ]
    }
   ],
   "source": [
    "# Число узлов\n",
    "N = 6000\n",
    "M = 100\n",
    "\n",
    "# Размер шага сетки\n",
    "h = (b - a) / (M - 1)\n",
    "tau = (T - t_0) / (N - 1)\n",
    "print(f'{h=: .8f}, {tau=: .8f}')\n",
    "print(f'sigma = {tau / h ** 2 * 0.5: .4f}')"
   ],
   "metadata": {
    "collapsed": false,
    "pycharm": {
     "name": "#%%\n"
    }
   }
  },
  {
   "cell_type": "code",
   "execution_count": 15,
   "outputs": [],
   "source": [
    "t = np.linspace(t_0, T, N)\n",
    "x = np.linspace(a, b, M)"
   ],
   "metadata": {
    "collapsed": false,
    "pycharm": {
     "name": "#%%\n"
    }
   }
  },
  {
   "cell_type": "code",
   "execution_count": 16,
   "outputs": [],
   "source": [
    "u = np.zeros((N, M), dtype=np.double)\n",
    "u[:, 0] = const * t ** (1 / alpha)"
   ],
   "metadata": {
    "collapsed": false,
    "pycharm": {
     "name": "#%%\n"
    }
   }
  },
  {
   "cell_type": "code",
   "execution_count": 17,
   "outputs": [
    {
     "data": {
      "text/plain": "  0%|          | 0/5999 [00:00<?, ?it/s]",
      "application/vnd.jupyter.widget-view+json": {
       "version_major": 2,
       "version_minor": 0,
       "model_id": "43f4f11626a24af2a92f6de2eb331dba"
      }
     },
     "metadata": {},
     "output_type": "display_data"
    }
   ],
   "source": [
    "for n in tqdm(range(N - 1)):\n",
    "    u_sol = newton_solver(u[n, :], u[n + 1, 0], tau, h, alpha=2.5, kappa=0.2, iter=10)\n",
    "    u[n + 1, 1:] = u_sol[1:]"
   ],
   "metadata": {
    "collapsed": false,
    "pycharm": {
     "name": "#%%\n"
    }
   }
  },
  {
   "cell_type": "markdown",
   "source": [
    "#### Визуализация"
   ],
   "metadata": {
    "collapsed": false,
    "pycharm": {
     "name": "#%% md\n"
    }
   }
  },
  {
   "cell_type": "code",
   "execution_count": 18,
   "outputs": [],
   "source": [
    "def zeldovich_solution(x, t, alpha, kappa, const):\n",
    "    u_sol = np.zeros_like(x)\n",
    "    v = kappa * const ** alpha / alpha\n",
    "    for i in range(len(x)):\n",
    "        if x[i] - v * t <= 0:\n",
    "            u_sol[i] = (alpha * v / kappa * (v * t - x[i])) ** (1 / alpha)\n",
    "        else:\n",
    "            u_sol[i] = 0\n",
    "    return u_sol"
   ],
   "metadata": {
    "collapsed": false,
    "pycharm": {
     "name": "#%%\n"
    }
   }
  },
  {
   "cell_type": "code",
   "execution_count": 19,
   "outputs": [
    {
     "data": {
      "text/plain": "<Figure size 640x480 with 1 Axes>",
      "image/png": "[encoded data removed]"
     },
     "metadata": {},
     "output_type": "display_data"
    }
   ],
   "source": [
    "fig = plt.figure()\n",
    "camera = Camera(fig)\n",
    "ax = axes(xlim=(a, b), ylim=(0, 5))\n",
    "\n",
    "for i in range(0, N, 10):\n",
    "    ax.plot(x, u[i, :], color=\"red\")\n",
    "    ax.fill_between(x, u[i, :], color='red', alpha=0.3)\n",
    "    zeld_sol = zeldovich_solution(x, t[i], alpha, kappa, const)\n",
    "    ax.plot(x, zeld_sol, color=\"blue\")\n",
    "    camera.snap()"
   ],
   "metadata": {
    "collapsed": false,
    "pycharm": {
     "name": "#%%\n"
    }
   }
  },
  {
   "cell_type": "code",
   "execution_count": 20,
   "outputs": [
    {
     "name": "stderr",
     "output_type": "stream",
     "text": [
      "MovieWriter imagemagick unavailable; using Pillow instead.\n"
     ]
    }
   ],
   "source": [
    "animation = camera.animate()\n",
    "animation.save('zeldovich_true.gif', writer = 'imagemagick', fps=tau * 10 * 1e3)"
   ],
   "metadata": {
    "collapsed": false,
    "pycharm": {
     "name": "#%%\n"
    }
   }
  },
  {
   "cell_type": "markdown",
   "source": [
    "## Спитцеровская теплопроводность нелинейность на верхнем слое\n",
    "\n",
    "Для численного решения задачи будем использовать неявную разностную схему с нелинейностью на верхнем слое\n",
    "\n",
    "$$\n",
    "\\frac{y^{n+1}_{m} - y^{n}_{m}}{\\tau} = \\frac{1}{h}\\left[k^{n + 1}_{m + 1/2}\\frac{y^{n+1}_{m+1} - y^{n+1}_{m}}{h} - k^{n+1}_{m - 1/2}\\frac{y^{n+1}_{m} - y^{n+1}_{m - 1}}{h}\\right]\n",
    "$$"
   ],
   "metadata": {
    "collapsed": false,
    "pycharm": {
     "name": "#%% md\n"
    }
   }
  },
  {
   "cell_type": "markdown",
   "source": [
    "### Реализация"
   ],
   "metadata": {
    "collapsed": false,
    "pycharm": {
     "name": "#%% md\n"
    }
   }
  },
  {
   "cell_type": "code",
   "execution_count": 38,
   "outputs": [],
   "source": [
    "@njit\n",
    "def k_12(y_m, y_m_1, alpha, kappa=None):\n",
    "    kappa = 1 if kappa is None else kappa\n",
    "    return kappa * (y_m ** alpha + y_m_1 ** alpha) / 2"
   ],
   "metadata": {
    "collapsed": false,
    "pycharm": {
     "name": "#%%\n"
    }
   }
  },
  {
   "cell_type": "code",
   "execution_count": 39,
   "outputs": [],
   "source": [
    "@njit\n",
    "def thomas_solver(a, b, c, d):\n",
    "    # init arrays\n",
    "    M = len(b)\n",
    "    u_sol = np.zeros(M)\n",
    "    P = np.zeros(M)\n",
    "    Q = np.zeros(M)\n",
    "    # Forward first coefs\n",
    "    P[0] = c[0] / b[0]\n",
    "    Q[0] = - d[0] / b[0]\n",
    "    # Forward coefs n = 1 ... M - 1\n",
    "    for m in range(1, M - 1):\n",
    "        P[m] = c[m] / (b[m] - a[m - 1] * P[m - 1])\n",
    "        Q[m] = (a[m - 1] * Q[m - 1] - d[m]) / (b[m] - a[m - 1] * P[m - 1])\n",
    "    #Forward last\n",
    "    m = M - 1\n",
    "    Q[m] = (a[m - 1] * Q[m - 1] - d[m]) / (b[m] - a[m - 1] * P[m - 1])\n",
    "\n",
    "    # backward\n",
    "    u_sol[-1] = Q[-1]\n",
    "    for m in range(M - 1, -1, -1):\n",
    "        u_sol[m - 1] = P[m - 1] * u_sol[m] + Q[m - 1]\n",
    "\n",
    "    return u_sol"
   ],
   "metadata": {
    "collapsed": false,
    "pycharm": {
     "name": "#%%\n"
    }
   }
  },
  {
   "cell_type": "code",
   "execution_count": 40,
   "outputs": [],
   "source": [
    "@njit\n",
    "def make_diagonals(y_s, tau, h, y_n, alpha=2.5, kappa=0.2):\n",
    "    # init variables\n",
    "    M = len(y_s)\n",
    "    a = np.zeros(M - 1)\n",
    "    b = np.zeros(M)\n",
    "    c = np.zeros(M - 1)\n",
    "    d = np.zeros(M)\n",
    "    sigma = tau / h ** 2\n",
    "    dkappa = lambda x: kappa * 0.5 * alpha * x ** (alpha - 1)\n",
    "    # first row\n",
    "    m = 0\n",
    "    c[m] = k_12(y_s[m + 1], y_s[m], alpha, kappa) +  dkappa(y_s[m + 1]) * (y_s[m + 1] - y_s[m])\n",
    "    b[m] = 1 / sigma + k_12(y_s[m + 1], y_s[m], alpha, kappa) - dkappa(y_s[m]) * (y_s[m + 1] - y_s[m])\n",
    "    d[m] = (y_s[m] - y_n[m]) / sigma - k_12(y_s[m + 1], y_s[m], alpha, kappa) * (y_s[m + 1] - y_s[m])\n",
    "    # rows m = 2,...,M - 1\n",
    "    for m in range(1, M - 1):\n",
    "        a[m - 1] = k_12(y_s[m - 1], y_s[m], alpha, kappa) -  dkappa(y_s[m - 1]) * (y_s[m] - y_s[m - 1])\n",
    "        c[m] = k_12(y_s[m + 1], y_s[m], alpha, kappa) +  dkappa(y_s[m + 1]) * (y_s[m + 1] - y_s[m])\n",
    "        b[m] = 1 / sigma + k_12(y_s[m + 1], y_s[m], alpha, kappa) + k_12(y_s[m - 1], y_s[m], alpha, kappa) - dkappa(y_s[m]) * (y_s[m + 1] - y_s[m]) + dkappa(y_s[m]) * (y_s[m] - y_s[m - 1])\n",
    "        d[m] = (y_s[m] - y_n[m]) / sigma - k_12(y_s[m + 1], y_s[m], alpha, kappa) * (y_s[m + 1] - y_s[m]) + k_12(y_s[m - 1], y_s[m], alpha, kappa) * (y_s[m] - y_s[m - 1])\n",
    "    # last row\n",
    "    m = M - 1\n",
    "    b[m] = 1\n",
    "    d[m] = 0\n",
    "    return a, b, c, d"
   ],
   "metadata": {
    "collapsed": false,
    "pycharm": {
     "name": "#%%\n"
    }
   }
  },
  {
   "cell_type": "code",
   "execution_count": 41,
   "outputs": [],
   "source": [
    "@njit\n",
    "def newton_solver(y, tau, h, alpha=2.5, kappa=0.2, iter=10):\n",
    "    y_n, y_s = y, y\n",
    "    for i in range(iter):\n",
    "        a, b, c, d = make_diagonals(y_s, tau, h, y_n, alpha=alpha, kappa=kappa)\n",
    "        dy = thomas_solver(a, b, c, d)\n",
    "        y_s = y_s + dy\n",
    "    return y_s"
   ],
   "metadata": {
    "collapsed": false,
    "pycharm": {
     "name": "#%%\n"
    }
   }
  },
  {
   "cell_type": "markdown",
   "source": [
    "### Применение"
   ],
   "metadata": {
    "collapsed": false,
    "pycharm": {
     "name": "#%% md\n"
    }
   }
  },
  {
   "cell_type": "code",
   "execution_count": 42,
   "outputs": [
    {
     "name": "stdout",
     "output_type": "stream",
     "text": [
      "v = 0.3523459179744088\n"
     ]
    }
   ],
   "source": [
    "# Начальные значения\n",
    "a = 0\n",
    "b = 4\n",
    "t_0 = 0\n",
    "T = 4\n",
    "To = 2\n",
    "const = 3\n",
    "alpha = 2.5\n",
    "kappa = 0.2\n",
    "\n",
    "print(f'v = {np.sqrt(const ** (1 / alpha) * kappa / alpha)}')"
   ],
   "metadata": {
    "collapsed": false,
    "pycharm": {
     "name": "#%%\n"
    }
   }
  },
  {
   "cell_type": "code",
   "execution_count": 43,
   "outputs": [
    {
     "name": "stdout",
     "output_type": "stream",
     "text": [
      "h= 0.04040404, tau= 0.00066678\n",
      "sigma =  0.2042\n"
     ]
    }
   ],
   "source": [
    "# Число узлов\n",
    "N = 6000\n",
    "M = 100\n",
    "\n",
    "# Размер шага сетки\n",
    "h = (b - a) / (M - 1)\n",
    "tau = (T - t_0) / (N - 1)\n",
    "print(f'{h=: .8f}, {tau=: .8f}')\n",
    "print(f'sigma = {tau / h ** 2 * 0.5: .4f}')"
   ],
   "metadata": {
    "collapsed": false,
    "pycharm": {
     "name": "#%%\n"
    }
   }
  },
  {
   "cell_type": "code",
   "execution_count": 44,
   "outputs": [],
   "source": [
    "t = np.linspace(t_0, T, N)\n",
    "x = np.linspace(a, b, M)"
   ],
   "metadata": {
    "collapsed": false,
    "pycharm": {
     "name": "#%%\n"
    }
   }
  },
  {
   "cell_type": "code",
   "execution_count": 45,
   "outputs": [],
   "source": [
    "def u_init(x, To):\n",
    "    u = np.zeros(x.size)\n",
    "    for i in range(len(x)):\n",
    "        if x[i] <= 1:\n",
    "            u[i] = To\n",
    "    return u"
   ],
   "metadata": {
    "collapsed": false,
    "pycharm": {
     "name": "#%%\n"
    }
   }
  },
  {
   "cell_type": "code",
   "execution_count": 46,
   "outputs": [],
   "source": [
    "u1 = np.zeros((N, M), dtype=np.double)\n",
    "u1[0, :] = u_init(x, 2)\n",
    "u2 = np.zeros((N, M), dtype=np.double)\n",
    "u2[0, :] = u_init(x, 2)"
   ],
   "metadata": {
    "collapsed": false,
    "pycharm": {
     "name": "#%%\n"
    }
   }
  },
  {
   "cell_type": "code",
   "execution_count": 48,
   "outputs": [
    {
     "data": {
      "text/plain": "  0%|          | 0/5999 [00:00<?, ?it/s]",
      "application/vnd.jupyter.widget-view+json": {
       "version_major": 2,
       "version_minor": 0,
       "model_id": "a2c9c1e3ab9b454b904a44b6d3ba5bbe"
      }
     },
     "metadata": {},
     "output_type": "display_data"
    }
   ],
   "source": [
    "for n in tqdm(range(N - 1)):\n",
    "    u_sol = newton_solver(u1[n, :], tau, h, alpha=2.5, kappa=0.2, iter=10)\n",
    "    u1[n + 1, :] = u_sol\n",
    "    u_sol = newton_solver(u2[n, :], tau, h, alpha=1.5, kappa=0.3, iter=10)\n",
    "    u2[n + 1, :] = u_sol"
   ],
   "metadata": {
    "collapsed": false,
    "pycharm": {
     "name": "#%%\n"
    }
   }
  },
  {
   "cell_type": "markdown",
   "source": [
    "#### Визуализация"
   ],
   "metadata": {
    "collapsed": false,
    "pycharm": {
     "name": "#%% md\n"
    }
   }
  },
  {
   "cell_type": "code",
   "execution_count": 49,
   "outputs": [
    {
     "data": {
      "text/plain": "<Figure size 640x480 with 1 Axes>",
      "image/png": "[encoded data removed]"
     },
     "metadata": {},
     "output_type": "display_data"
    }
   ],
   "source": [
    "fig = plt.figure()\n",
    "camera = Camera(fig)\n",
    "ax = axes(xlim=(a, b), ylim=(0, 2.5))\n",
    "\n",
    "for i in range(0, N, 10):\n",
    "    ax.plot(x, u1[i, :], color=\"red\")\n",
    "    ax.fill_between(x, u1[i, :], color='red', alpha=0.3)\n",
    "    ax.plot(x, u2[i, :], color=\"blue\")\n",
    "    ax.fill_between(x, u2[i, :], color='blue', alpha=0.3)\n",
    "    #zeld_sol = zeldovich_solution(x, t[i], alpha, kappa, const)\n",
    "    #ax.plot(x, zeld_sol, color=\"blue\")\n",
    "    camera.snap()"
   ],
   "metadata": {
    "collapsed": false,
    "pycharm": {
     "name": "#%%\n"
    }
   }
  },
  {
   "cell_type": "code",
   "execution_count": 50,
   "outputs": [
    {
     "name": "stderr",
     "output_type": "stream",
     "text": [
      "MovieWriter imagemagick unavailable; using Pillow instead.\n"
     ]
    }
   ],
   "source": [
    "animation = camera.animate()\n",
    "animation.save('spitz_no_f.gif', writer = 'imagemagick', fps=tau * 10 * 1e3)"
   ],
   "metadata": {
    "collapsed": false,
    "pycharm": {
     "name": "#%%\n"
    }
   }
  },
  {
   "cell_type": "markdown",
   "source": [
    "## Неявная разностная схема с нелинейностью на верхнем слое\n",
    "\n",
    "Для численного решения задачи будем использовать неявную разностную схему с нелинейностью на нижнем слое\n",
    "\n",
    "$$\n",
    "\\frac{y^{n+1}_{m} - y^{n}_{m}}{\\tau} = \\frac{1}{h}\\left[k^{n + 1}_{m + 1/2}\\frac{y^{n+1}_{m+1} - y^{n+1}_{m}}{h} - k^{n+1}_{m - 1/2}\\frac{y^{n+1}_{m} - y^{n+1}_{m - 1}}{h}\\right]\n",
    "$$"
   ],
   "metadata": {
    "collapsed": false,
    "pycharm": {
     "name": "#%% md\n"
    }
   }
  },
  {
   "cell_type": "code",
   "execution_count": 75,
   "outputs": [],
   "source": [
    "def k_12(y_m, y_m_1, alpha, kappa=None):\n",
    "    kappa = 1 if kappa is None else kappa\n",
    "    return kappa * (y_m ** alpha + y_m_1 ** alpha) / 2"
   ],
   "metadata": {
    "collapsed": false,
    "pycharm": {
     "name": "#%%\n"
    }
   }
  },
  {
   "cell_type": "code",
   "execution_count": 76,
   "outputs": [],
   "source": [
    "from numpy.linalg import inv\n",
    "\n",
    "@njit\n",
    "def thomas_block_solver(A, B, C, D):\n",
    "    M = len(D)\n",
    "    u_sol = np.zeros_like(D)\n",
    "    P = np.zeros_like(B)\n",
    "    Q = np.zeros_like(D)\n",
    "    # Forward first coefs\n",
    "    P[0] = inv(B[0]) @ C[0]\n",
    "    Q[0] = - inv(B[0]) @ D[0]\n",
    "    # Forward coefs\n",
    "    for m in range(1, M - 1):\n",
    "        inv_denom = inv(B[m] - A[m - 1] @ P[m - 1])\n",
    "        P[m] = inv_denom @ C[m]\n",
    "        Q[m] = inv_denom @ (A[m - 1] @ Q[m - 1] - D[m])\n",
    "    #Forward last\n",
    "    m = M - 1\n",
    "    Q[m] = inv(B[m] - A[m - 1] @ P[m - 1]) @ (A[m - 1] @ Q[m - 1] - D[m])\n",
    "\n",
    "    # backward\n",
    "    u_sol[-1] = Q[-1]\n",
    "    for m in range(M - 1, -1, -1):\n",
    "        u_sol[m - 1] = P[m - 1] @ u_sol[m] + Q[m - 1]\n",
    "\n",
    "    return u_sol"
   ],
   "metadata": {
    "collapsed": false,
    "pycharm": {
     "name": "#%%\n"
    }
   }
  },
  {
   "cell_type": "code",
   "execution_count": 77,
   "outputs": [],
   "source": [
    "def make_block(u, m, tau, h, u_n, alpha=(2.5, 1.5), kappa=(0.2, 0.3)):\n",
    "    alpha = np.array(alpha)\n",
    "    kappa = np.array(kappa)\n",
    "    sigma = tau / h ** 2\n",
    "    A, B, C, D = np.zeros((2, 2)), np.zeros((2, 2)), np.zeros((2, 2)), np.zeros((2, 2))\n",
    "    dkappa = lambda x: kappa * 0.5 * alpha * x ** (alpha - 1)\n",
    "    if m == 0:\n",
    "        C = np.diagflat(k_12(u[m], u[m + 1], alpha, kappa) + dkappa(u[m + 1]) * (u[m + 1] - u[m]))\n",
    "        B = np.diagflat(1 / sigma + k_12(u[m], u[m + 1], alpha, kappa) - dkappa(u[m]) * (u[m + 1] - u[m]))\n",
    "        D = (u[m] - u_n[m]) / sigma - k_12(u[m + 1], u[m], alpha, kappa) * (u[m + 1] - u[m])\n",
    "        return C, B, D\n",
    "    A = np.diagflat(k_12(u[m - 1], u[m], alpha, kappa) - dkappa(u[m - 1]) * (u[m] - u[m - 1]))\n",
    "    C = np.diagflat(k_12(u[m], u[m + 1], alpha, kappa) + dkappa(u[m + 1]) * (u[m + 1] - u[m]))\n",
    "    B = np.diagflat(1 / sigma + k_12(u[m], u[m + 1], alpha, kappa) + k_12(u[m - 1], u[m], alpha, kappa) - dkappa(u[m]) * (u[m + 1] - u[m]) + dkappa(u[m]) * (u[m] - u[m - 1]))\n",
    "    D = (u[m] - u_n[m]) / sigma - k_12(u[m + 1], u[m], alpha, kappa) * (u[m + 1] - u[m]) + k_12(u[m], u[m - 1], alpha, kappa) * (u[m] - u[m - 1])\n",
    "    return A, B, C, D"
   ],
   "metadata": {
    "collapsed": false,
    "pycharm": {
     "name": "#%%\n"
    }
   }
  },
  {
   "cell_type": "code",
   "execution_count": 78,
   "outputs": [],
   "source": [
    "def make_block_diagonals(u1_s, u2_s, tau, h, u1_n, u2_n, alpha=(2.5, 1.5), kappa=(0.2, 0.3)):\n",
    "    M = len(u1_s)\n",
    "    A = np.zeros((M - 1, 2, 2))\n",
    "    B = np.zeros((M, 2, 2))\n",
    "    C = np.zeros((M - 1, 2, 2))\n",
    "    D = np.zeros((M, 2))\n",
    "    u_s = np.vstack([u1_s, u2_s]).T\n",
    "    u_n = np.vstack([u1_n, u2_n]).T\n",
    "    # first row\n",
    "    C[0], B[0], D[0] = make_block(u_s, 0, tau, h, u_n, alpha=alpha, kappa=kappa)\n",
    "    # rows m = 1, ..., M - 2\n",
    "    for m in range(1, M - 1):\n",
    "        A[m - 1], B[m], C[m], D[m] = make_block(u_s, m, tau, h, u_n, alpha=alpha, kappa=kappa)\n",
    "    # last row\n",
    "    B[M - 1] = np.eye(2)\n",
    "    return A, B, C, D"
   ],
   "metadata": {
    "collapsed": false,
    "pycharm": {
     "name": "#%%\n"
    }
   }
  },
  {
   "cell_type": "code",
   "execution_count": 79,
   "outputs": [],
   "source": [
    "def newton_solver(u1, u2, tau, h, alpha=(2.5, 1.5), kappa=(0.2, 0.3), iter=10):\n",
    "    u1_s, u2_s = u1, u2\n",
    "    for i in range(iter):\n",
    "        A, B, C, D = make_block_diagonals(u1_s, u2_s, tau, h, u1, u2, alpha=alpha, kappa=kappa)\n",
    "        du = thomas_block_solver(A, B, C, D)\n",
    "        u1_s = u1_s + du[:, 0]\n",
    "        u2_s = u2_s + du[:, 1]\n",
    "    return u1_s, u2_s"
   ],
   "metadata": {
    "collapsed": false,
    "pycharm": {
     "name": "#%%\n"
    }
   }
  },
  {
   "cell_type": "markdown",
   "source": [
    "### Применение"
   ],
   "metadata": {
    "collapsed": false,
    "pycharm": {
     "name": "#%% md\n"
    }
   }
  },
  {
   "cell_type": "code",
   "execution_count": 80,
   "outputs": [
    {
     "name": "stdout",
     "output_type": "stream",
     "text": [
      "v = 0.3523459179744088\n"
     ]
    }
   ],
   "source": [
    "# Начальные значения\n",
    "a = 0\n",
    "b = 4\n",
    "t_0 = 0\n",
    "T = 4\n",
    "To = 2\n",
    "const = 3\n",
    "alpha = 2.5\n",
    "kappa = 0.2\n",
    "\n",
    "print(f'v = {np.sqrt(const ** (1 / alpha) * kappa / alpha)}')"
   ],
   "metadata": {
    "collapsed": false,
    "pycharm": {
     "name": "#%%\n"
    }
   }
  },
  {
   "cell_type": "code",
   "execution_count": 81,
   "outputs": [
    {
     "name": "stdout",
     "output_type": "stream",
     "text": [
      "h= 0.04040404, tau= 0.00066678\n",
      "sigma =  0.2042\n"
     ]
    }
   ],
   "source": [
    "# Число узлов\n",
    "N = 6000\n",
    "M = 100\n",
    "\n",
    "# Размер шага сетки\n",
    "h = (b - a) / (M - 1)\n",
    "tau = (T - t_0) / (N - 1)\n",
    "print(f'{h=: .8f}, {tau=: .8f}')\n",
    "print(f'sigma = {tau / h ** 2 * 0.5: .4f}')"
   ],
   "metadata": {
    "collapsed": false,
    "pycharm": {
     "name": "#%%\n"
    }
   }
  },
  {
   "cell_type": "code",
   "execution_count": 82,
   "outputs": [],
   "source": [
    "t = np.linspace(t_0, T, N)\n",
    "x = np.linspace(a, b, M)"
   ],
   "metadata": {
    "collapsed": false,
    "pycharm": {
     "name": "#%%\n"
    }
   }
  },
  {
   "cell_type": "code",
   "execution_count": 83,
   "outputs": [],
   "source": [
    "def u_init(x, To):\n",
    "    u = np.zeros(x.size)\n",
    "    for i in range(len(x)):\n",
    "        if x[i] <= 1:\n",
    "            u[i] = To\n",
    "    return u"
   ],
   "metadata": {
    "collapsed": false,
    "pycharm": {
     "name": "#%%\n"
    }
   }
  },
  {
   "cell_type": "code",
   "execution_count": 84,
   "outputs": [],
   "source": [
    "u1 = np.zeros((N, M), dtype=np.double)\n",
    "u1[0, :] = u_init(x, 2)\n",
    "u2 = np.zeros((N, M), dtype=np.double)\n",
    "u2[0, :] = u_init(x, 2)"
   ],
   "metadata": {
    "collapsed": false,
    "pycharm": {
     "name": "#%%\n"
    }
   }
  },
  {
   "cell_type": "code",
   "execution_count": 85,
   "outputs": [
    {
     "data": {
      "text/plain": "  0%|          | 0/5999 [00:00<?, ?it/s]",
      "application/vnd.jupyter.widget-view+json": {
       "version_major": 2,
       "version_minor": 0,
       "model_id": "72c58c8f827d48e0b14f825446e432bd"
      }
     },
     "metadata": {},
     "output_type": "display_data"
    }
   ],
   "source": [
    "for n in tqdm(range(N - 1)):\n",
    "    u1_sol, u2_sol = newton_solver(u1[n, :], u2[n, :], tau, h, alpha=(2.5, 1.5), kappa=(0.2, 0.3), iter=10)\n",
    "    u1[n + 1, :], u2[n + 1, :] = u1_sol, u2_sol"
   ],
   "metadata": {
    "collapsed": false,
    "pycharm": {
     "name": "#%%\n"
    }
   }
  },
  {
   "cell_type": "markdown",
   "source": [
    "#### Визуализация"
   ],
   "metadata": {
    "collapsed": false,
    "pycharm": {
     "name": "#%% md\n"
    }
   }
  },
  {
   "cell_type": "code",
   "execution_count": 86,
   "outputs": [
    {
     "data": {
      "text/plain": "<Figure size 640x480 with 1 Axes>",
      "image/png": "[encoded data removed]"
     },
     "metadata": {},
     "output_type": "display_data"
    }
   ],
   "source": [
    "fig = plt.figure()\n",
    "camera = Camera(fig)\n",
    "ax = axes(xlim=(a, b), ylim=(0, 2.5))\n",
    "\n",
    "for i in range(0, N, 10):\n",
    "    ax.plot(x, u1[i, :], color=\"red\")\n",
    "    ax.fill_between(x, u1[i, :], color='red', alpha=0.3)\n",
    "    ax.plot(x, u2[i, :], color=\"blue\")\n",
    "    ax.fill_between(x, u2[i, :], color='blue', alpha=0.3)\n",
    "    #zeld_sol = zeldovich_solution(x, t[i], alpha, kappa, const)\n",
    "    #ax.plot(x, zeld_sol, color=\"blue\")\n",
    "    camera.snap()"
   ],
   "metadata": {
    "collapsed": false,
    "pycharm": {
     "name": "#%%\n"
    }
   }
  },
  {
   "cell_type": "code",
   "execution_count": 87,
   "outputs": [
    {
     "name": "stderr",
     "output_type": "stream",
     "text": [
      "MovieWriter imagemagick unavailable; using Pillow instead.\n"
     ]
    }
   ],
   "source": [
    "animation = camera.animate()\n",
    "animation.save('spitz_no_f_block.gif', writer = 'imagemagick', fps=tau * 10 * 1e3)"
   ],
   "metadata": {
    "collapsed": false,
    "pycharm": {
     "name": "#%%\n"
    }
   }
  }
 ],
 "metadata": {
  "kernelspec": {
   "display_name": "Python 3",
   "language": "python",
   "name": "python3"
  },
  "language_info": {
   "codemirror_mode": {
    "name": "ipython",
    "version": 2
   },
   "file_extension": ".py",
   "mimetype": "text/x-python",
   "name": "python",
   "nbconvert_exporter": "python",
   "pygments_lexer": "ipython2",
   "version": "2.7.6"
  }
 },
 "nbformat": 4,
 "nbformat_minor": 0
}