{
 "cells": [
  {
   "cell_type": "markdown",
   "source": [
    "# Для исследования разностных схем будем использовать задачу Самарского-Соболя-Зельдовича\n",
    "\n",
    "$$\n",
    "\\begin{cases}\n",
    " \\frac{\\partial u}{\\partial t} = \\frac{\\partial}{\\partial x}u^{\\alpha}\\frac{\\partial u}{\\partial x} \\\\\n",
    " u(x, 0) = 0 \\\\\n",
    " u(0, t) = ct^{1/\\alpha} \\\\\n",
    " \\lim_{x \\rightarrow +\\inf}u(x,t) = 0\n",
    " \\end{cases}\n",
    "$$"
   ],
   "metadata": {
    "collapsed": false,
    "pycharm": {
     "name": "#%% md\n"
    }
   }
  },
  {
   "cell_type": "markdown",
   "source": [
    "## Неявная разностная схема с нелинейностью на нижнем слое\n",
    "\n",
    "Для численного решения задачи будем использовать неявную разностную схему с нелинейностью на нижнем слое\n",
    "\n",
    "$$\n",
    "\\frac{y^{n+1}_{m} - y^{n}_{m}}{\\tau} = \\frac{1}{h}\\left[k^n_{m + 1/2}\\frac{y^{n+1}_{m+1} - y^{n+1}_{m}}{h} - k^n_{m - 1/2}\\frac{y^{n+1}_{m} - y^{n+1}_{m - 1}}{h}\\right]\n",
    "$$"
   ],
   "metadata": {
    "collapsed": false,
    "pycharm": {
     "name": "#%% md\n"
    }
   }
  },
  {
   "cell_type": "code",
   "execution_count": 1,
   "outputs": [],
   "source": [
    "import numpy as np\n",
    "import matplotlib.pyplot as plt\n",
    "from tqdm.notebook import tqdm\n",
    "from matplotlib.pyplot import axes\n",
    "from celluloid import Camera\n",
    "from numba import njit\n",
    "import utils"
   ],
   "metadata": {
    "collapsed": false,
    "pycharm": {
     "name": "#%%\n"
    }
   }
  },
  {
   "cell_type": "markdown",
   "source": [
    "### Реализация"
   ],
   "metadata": {
    "collapsed": false,
    "pycharm": {
     "name": "#%% md\n"
    }
   }
  },
  {
   "cell_type": "code",
   "execution_count": 40,
   "outputs": [],
   "source": [
    "@njit\n",
    "def k_12(y_m, y_m_1, alpha):\n",
    "    return (y_m ** alpha + y_m_1 ** alpha) / 2"
   ],
   "metadata": {
    "collapsed": false,
    "pycharm": {
     "name": "#%%\n"
    }
   }
  },
  {
   "cell_type": "code",
   "execution_count": 41,
   "outputs": [],
   "source": [
    "@njit\n",
    "def make_diagonals(u, n, tau, h, M, alpha=2.5, kappa=0.2):\n",
    "    # init variables\n",
    "    a = np.zeros(M - 1)\n",
    "    b = np.zeros(M)\n",
    "    c = np.zeros(M - 1)\n",
    "    d = np.zeros(M)\n",
    "    sigma = kappa * tau / h ** 2\n",
    "    y = u[n, :]\n",
    "    # first row\n",
    "    b[0] = 1\n",
    "    d[0] = - u[n + 1, 0]\n",
    "    # rows m = 2,...,M - 1\n",
    "    for m in range(1, M - 1):\n",
    "        a[m - 1] = k_12(y[m - 1], y[m], alpha) * sigma\n",
    "        c[m] = k_12(y[m], y[m + 1], alpha) * sigma\n",
    "        b[m] = 1 + a[m - 1] + c[m]\n",
    "        d[m] = - y[m]\n",
    "    # last row\n",
    "    m = M - 1\n",
    "    b[m] = 1\n",
    "    d[m] = - y[m]\n",
    "    return a, b, c, d"
   ],
   "metadata": {
    "collapsed": false,
    "pycharm": {
     "name": "#%%\n"
    }
   }
  },
  {
   "cell_type": "code",
   "execution_count": 42,
   "outputs": [],
   "source": [
    "@njit\n",
    "def thomas_solver(a, b, c, d):\n",
    "    # init arrays\n",
    "    M = len(b)\n",
    "    u_sol = np.zeros(M)\n",
    "    P = np.zeros(M)\n",
    "    Q = np.zeros(M)\n",
    "    # Forward first coefs\n",
    "    P[0] = c[0] / b[0]\n",
    "    Q[0] = - d[0] / b[0]\n",
    "    # Forward coefs n = 1 ... M - 1\n",
    "    for m in range(1, M - 1):\n",
    "        P[m] = c[m] / (b[m] - a[m - 1] * P[m - 1])\n",
    "        Q[m] = (a[m - 1] * Q[m - 1] - d[m]) / (b[m] - a[m - 1] * P[m - 1])\n",
    "    #Forward last\n",
    "    m = M - 1\n",
    "    Q[m] = (a[m - 1] * Q[m - 1] - d[m]) / (b[m] - a[m - 1] * P[m - 1])\n",
    "\n",
    "    # backward\n",
    "    u_sol[-1] = Q[-1]\n",
    "    for m in range(M - 1, -1, -1):\n",
    "        u_sol[m - 1] = P[m - 1] * u_sol[m] + Q[m - 1]\n",
    "\n",
    "    return u_sol"
   ],
   "metadata": {
    "collapsed": false,
    "pycharm": {
     "name": "#%%\n"
    }
   }
  },
  {
   "cell_type": "markdown",
   "source": [
    "### Применение"
   ],
   "metadata": {
    "collapsed": false,
    "pycharm": {
     "name": "#%% md\n"
    }
   }
  },
  {
   "cell_type": "code",
   "execution_count": 3,
   "outputs": [
    {
     "name": "stdout",
     "output_type": "stream",
     "text": [
      "v = 0.3523459179744088\n"
     ]
    }
   ],
   "source": [
    "# Начальные значения\n",
    "a = 0\n",
    "b = 2\n",
    "t_0 = 0\n",
    "T = 4\n",
    "To = 2\n",
    "const = 3\n",
    "alpha = 2.5\n",
    "kappa = 0.2\n",
    "\n",
    "print(f'v = {np.sqrt(const ** (1 / alpha) * kappa / alpha)}')"
   ],
   "metadata": {
    "collapsed": false,
    "pycharm": {
     "name": "#%%\n"
    }
   }
  },
  {
   "cell_type": "code",
   "execution_count": 4,
   "outputs": [
    {
     "name": "stdout",
     "output_type": "stream",
     "text": [
      "h= 0.02020202, tau= 0.00066678\n",
      "sigma =  0.8169\n"
     ]
    }
   ],
   "source": [
    "# Число узлов\n",
    "N = 6000\n",
    "M = 100\n",
    "\n",
    "# Размер шага сетки\n",
    "h = (b - a) / (M - 1)\n",
    "tau = (T - t_0) / (N - 1)\n",
    "print(f'{h=: .8f}, {tau=: .8f}')\n",
    "print(f'sigma = {tau / h ** 2 * 0.5: .4f}')"
   ],
   "metadata": {
    "collapsed": false,
    "pycharm": {
     "name": "#%%\n"
    }
   }
  },
  {
   "cell_type": "code",
   "execution_count": 5,
   "outputs": [],
   "source": [
    "t = np.linspace(t_0, T, N)\n",
    "x = np.linspace(a, b, M)"
   ],
   "metadata": {
    "collapsed": false,
    "pycharm": {
     "name": "#%%\n"
    }
   }
  },
  {
   "cell_type": "code",
   "execution_count": 6,
   "outputs": [],
   "source": [
    "u = np.zeros((N, M), dtype=np.double)\n",
    "u[:, 0] = const * t ** (1 / alpha)"
   ],
   "metadata": {
    "collapsed": false,
    "pycharm": {
     "name": "#%%\n"
    }
   }
  },
  {
   "cell_type": "code",
   "execution_count": 47,
   "outputs": [
    {
     "data": {
      "text/plain": "  0%|          | 0/5999 [00:00<?, ?it/s]",
      "application/vnd.jupyter.widget-view+json": {
       "version_major": 2,
       "version_minor": 0,
       "model_id": "e0ca413ddc734a56878dad42c2000db5"
      }
     },
     "metadata": {},
     "output_type": "display_data"
    }
   ],
   "source": [
    "for n in tqdm(range(N - 1)):\n",
    "    a_e, b_e, c_e, d_e = make_diagonals(u, n, tau, h, M, alpha=alpha, kappa=kappa)\n",
    "    u_sol = thomas_solver(a_e, b_e, c_e, d_e)\n",
    "    u[n + 1, :] = u_sol"
   ],
   "metadata": {
    "collapsed": false,
    "pycharm": {
     "name": "#%%\n"
    }
   }
  },
  {
   "cell_type": "markdown",
   "source": [
    "#### Визуализация"
   ],
   "metadata": {
    "collapsed": false,
    "pycharm": {
     "name": "#%% md\n"
    }
   }
  },
  {
   "cell_type": "code",
   "execution_count": 58,
   "outputs": [
    {
     "data": {
      "text/plain": "<Figure size 640x480 with 1 Axes>",
      "image/png": "[encoded data removed]"
     },
     "metadata": {},
     "output_type": "display_data"
    }
   ],
   "source": [
    "fig = plt.figure()\n",
    "camera = Camera(fig)\n",
    "ax = axes(xlim=(a, b), ylim=(0, 5))\n",
    "\n",
    "for i in range(0, N, 10):\n",
    "    ax.plot(x, u[i, :], color=\"red\")\n",
    "    ax.fill_between(x, u[i, :], color='red', alpha=0.3)\n",
    "    camera.snap()"
   ],
   "metadata": {
    "collapsed": false,
    "pycharm": {
     "name": "#%%\n"
    }
   }
  },
  {
   "cell_type": "code",
   "execution_count": 59,
   "outputs": [
    {
     "name": "stderr",
     "output_type": "stream",
     "text": [
      "MovieWriter imagemagick unavailable; using Pillow instead.\n"
     ]
    }
   ],
   "source": [
    "animation = camera.animate()\n",
    "animation.save('spitz.gif', writer = 'imagemagick', fps=tau * 10 * 1e3)"
   ],
   "metadata": {
    "collapsed": false,
    "pycharm": {
     "name": "#%%\n"
    }
   }
  },
  {
   "cell_type": "code",
   "execution_count": 60,
   "outputs": [
    {
     "data": {
      "text/html": "<img src=\"spitz.gif\"/>",
      "text/plain": "<IPython.core.display.Image object>"
     },
     "execution_count": 60,
     "metadata": {},
     "output_type": "execute_result"
    }
   ],
   "source": [
    "from IPython.display import Image\n",
    "Image(url='spitz.gif')"
   ],
   "metadata": {
    "collapsed": false,
    "pycharm": {
     "name": "#%%\n"
    }
   }
  },
  {
   "cell_type": "markdown",
   "source": [
    "## Неявная разностная схема с нелинейностью на нижнем слое для моих начальных условий\n",
    "\n",
    "Для численного решения задачи будем использовать неявную разностную схему с нелинейностью на нижнем слое\n",
    "\n",
    "$$\n",
    "\\frac{y^{n+1}_{m} - y^{n}_{m}}{\\tau} = \\frac{1}{h}\\left[k^n_{m + 1/2}\\frac{y^{n+1}_{m+1} - y^{n+1}_{m}}{h} - k^n_{m - 1/2}\\frac{y^{n+1}_{m} - y^{n+1}_{m - 1}}{h}\\right]\n",
    "$$"
   ],
   "metadata": {
    "collapsed": false,
    "pycharm": {
     "name": "#%% md\n"
    }
   }
  },
  {
   "cell_type": "markdown",
   "source": [
    "### Реализация"
   ],
   "metadata": {
    "collapsed": false,
    "pycharm": {
     "name": "#%% md\n"
    }
   }
  },
  {
   "cell_type": "code",
   "execution_count": 58,
   "outputs": [],
   "source": [
    "def k_12(y_m, y_m_1, alpha):\n",
    "    return (y_m ** alpha + y_m_1 ** alpha) / 2"
   ],
   "metadata": {
    "collapsed": false,
    "pycharm": {
     "name": "#%%\n"
    }
   }
  },
  {
   "cell_type": "code",
   "execution_count": 59,
   "outputs": [],
   "source": [
    "def make_diagonals(u, n, tau, h, M, alpha=2.5, kappa=0.2):\n",
    "    # init variables\n",
    "    a = np.zeros(M - 1)\n",
    "    b = np.zeros(M)\n",
    "    c = np.zeros(M - 1)\n",
    "    d = np.zeros(M)\n",
    "    sigma = kappa * tau / h ** 2\n",
    "    y = u[n, :]\n",
    "    # first row\n",
    "    c[0] = k_12(y[0], y[1], alpha) * sigma\n",
    "    b[0] = 1 + c[0]\n",
    "    d[0] = - y[0]\n",
    "    # rows m = 2,...,M - 1\n",
    "    for m in range(1, M - 1):\n",
    "        a[m - 1] = k_12(y[m - 1], y[m], alpha) * sigma\n",
    "        c[m] = k_12(y[m], y[m + 1], alpha) * sigma\n",
    "        b[m] = 1 + a[m - 1] + c[m]\n",
    "        d[m] = - y[m]\n",
    "    # last row\n",
    "    m = M - 1\n",
    "    b[m] = 1\n",
    "    d[m] = - y[m]\n",
    "    return a, b, c, d"
   ],
   "metadata": {
    "collapsed": false,
    "pycharm": {
     "name": "#%%\n"
    }
   }
  },
  {
   "cell_type": "code",
   "execution_count": 60,
   "outputs": [],
   "source": [
    "def thomas_solver(a, b, c, d):\n",
    "    # init arrays\n",
    "    M = len(b)\n",
    "    u_sol = np.zeros(M)\n",
    "    P = np.zeros(M)\n",
    "    Q = np.zeros(M)\n",
    "    # Forward first coefs\n",
    "    P[0] = c[0] / b[0]\n",
    "    Q[0] = - d[0] / b[0]\n",
    "    # Forward coefs n = 1 ... M - 1\n",
    "    for m in range(1, M - 1):\n",
    "        P[m] = c[m] / (b[m] - a[m - 1] * P[m - 1])\n",
    "        Q[m] = (a[m - 1] * Q[m - 1] - d[m]) / (b[m] - a[m - 1] * P[m - 1])\n",
    "    #Forward last\n",
    "    m = M - 1\n",
    "    Q[m] = (a[m - 1] * Q[m - 1] - d[m]) / (b[m] - a[m - 1] * P[m - 1])\n",
    "\n",
    "    # backward\n",
    "    u_sol[-1] = Q[-1]\n",
    "    for m in range(M - 1, -1, -1):\n",
    "        u_sol[m - 1] = P[m - 1] * u_sol[m] + Q[m - 1]\n",
    "\n",
    "    return u_sol"
   ],
   "metadata": {
    "collapsed": false,
    "pycharm": {
     "name": "#%%\n"
    }
   }
  },
  {
   "cell_type": "markdown",
   "source": [
    "### Применение"
   ],
   "metadata": {
    "collapsed": false,
    "pycharm": {
     "name": "#%% md\n"
    }
   }
  },
  {
   "cell_type": "code",
   "execution_count": 61,
   "outputs": [
    {
     "name": "stdout",
     "output_type": "stream",
     "text": [
      "v = 0.3523459179744088\n"
     ]
    }
   ],
   "source": [
    "# Начальные значения\n",
    "a = 0\n",
    "b = 2\n",
    "t_0 = 0\n",
    "T = 4\n",
    "To = 2\n",
    "const = 3\n",
    "alpha = 2.5\n",
    "kappa = 0.2\n",
    "\n",
    "print(f'v = {np.sqrt(const ** (1 / alpha) * kappa / alpha)}')"
   ],
   "metadata": {
    "collapsed": false,
    "pycharm": {
     "name": "#%%\n"
    }
   }
  },
  {
   "cell_type": "code",
   "execution_count": 62,
   "outputs": [
    {
     "name": "stdout",
     "output_type": "stream",
     "text": [
      "h= 0.02020202, tau= 0.00066678\n",
      "sigma =  0.8169\n"
     ]
    }
   ],
   "source": [
    "# Число узлов\n",
    "N = 6000\n",
    "M = 100\n",
    "\n",
    "# Размер шага сетки\n",
    "h = (b - a) / (M - 1)\n",
    "tau = (T - t_0) / (N - 1)\n",
    "print(f'{h=: .8f}, {tau=: .8f}')\n",
    "print(f'sigma = {tau / h ** 2 * 0.5: .4f}')"
   ],
   "metadata": {
    "collapsed": false,
    "pycharm": {
     "name": "#%%\n"
    }
   }
  },
  {
   "cell_type": "code",
   "execution_count": 63,
   "outputs": [],
   "source": [
    "t = np.linspace(t_0, T, N)\n",
    "x = np.linspace(a, b, M)"
   ],
   "metadata": {
    "collapsed": false,
    "pycharm": {
     "name": "#%%\n"
    }
   }
  },
  {
   "cell_type": "code",
   "execution_count": 64,
   "outputs": [],
   "source": [
    "def u_init(x, To):\n",
    "    u = np.zeros(x.size)\n",
    "    for i in range(len(x)):\n",
    "        if x[i] <= 1:\n",
    "            u[i] = To\n",
    "    return u"
   ],
   "metadata": {
    "collapsed": false,
    "pycharm": {
     "name": "#%%\n"
    }
   }
  },
  {
   "cell_type": "code",
   "execution_count": 65,
   "outputs": [],
   "source": [
    "u = np.zeros((N + 1, M), dtype=np.double)\n",
    "u[0, :] = u_init(x, 2)"
   ],
   "metadata": {
    "collapsed": false,
    "pycharm": {
     "name": "#%%\n"
    }
   }
  },
  {
   "cell_type": "code",
   "execution_count": 70,
   "outputs": [
    {
     "data": {
      "text/plain": "{'divide': 'raise', 'over': 'raise', 'under': 'raise', 'invalid': 'raise'}"
     },
     "execution_count": 70,
     "metadata": {},
     "output_type": "execute_result"
    }
   ],
   "source": [
    "np.seterr(all='warn')"
   ],
   "metadata": {
    "collapsed": false,
    "pycharm": {
     "name": "#%%\n"
    }
   }
  },
  {
   "cell_type": "code",
   "execution_count": 71,
   "outputs": [
    {
     "data": {
      "text/plain": "  0%|          | 0/5999 [00:00<?, ?it/s]",
      "application/vnd.jupyter.widget-view+json": {
       "version_major": 2,
       "version_minor": 0,
       "model_id": "f1dafe0c716445aea126b2c77276f81c"
      }
     },
     "metadata": {},
     "output_type": "display_data"
    },
    {
     "name": "stderr",
     "output_type": "stream",
     "text": [
      "C:\\Users\\aleks\\AppData\\Local\\Temp\\ipykernel_13120\\445448729.py:2: RuntimeWarning: underflow encountered in double_scalars\n",
      "  return (y_m ** alpha + y_m_1 ** alpha) / 2\n",
      "C:\\Users\\aleks\\AppData\\Local\\Temp\\ipykernel_13120\\598935392.py:12: RuntimeWarning: underflow encountered in double_scalars\n",
      "  P[m] = c[m] / (b[m] - a[m - 1] * P[m - 1])\n",
      "C:\\Users\\aleks\\AppData\\Local\\Temp\\ipykernel_13120\\598935392.py:13: RuntimeWarning: underflow encountered in double_scalars\n",
      "  Q[m] = (a[m - 1] * Q[m - 1] - d[m]) / (b[m] - a[m - 1] * P[m - 1])\n",
      "C:\\Users\\aleks\\AppData\\Local\\Temp\\ipykernel_13120\\598935392.py:21: RuntimeWarning: underflow encountered in double_scalars\n",
      "  u_sol[m - 1] = P[m - 1] * u_sol[m] + Q[m - 1]\n",
      "C:\\Users\\aleks\\AppData\\Local\\Temp\\ipykernel_13120\\3514771672.py:16: RuntimeWarning: underflow encountered in double_scalars\n",
      "  c[m] = k_12(y[m], y[m + 1], alpha) * sigma\n",
      "C:\\Users\\aleks\\AppData\\Local\\Temp\\ipykernel_13120\\3514771672.py:15: RuntimeWarning: underflow encountered in double_scalars\n",
      "  a[m - 1] = k_12(y[m - 1], y[m], alpha) * sigma\n"
     ]
    }
   ],
   "source": [
    "for n in tqdm(range(N - 1)):\n",
    "    a_e, b_e, c_e, d_e = make_diagonals(u, n, tau, h, M, alpha=alpha, kappa=kappa)\n",
    "    u_sol = thomas_solver(a_e, b_e, c_e, d_e)\n",
    "    u[n + 1, :] = u_sol"
   ],
   "metadata": {
    "collapsed": false,
    "pycharm": {
     "name": "#%%\n"
    }
   }
  },
  {
   "cell_type": "markdown",
   "source": [
    "#### Визуализация"
   ],
   "metadata": {
    "collapsed": false,
    "pycharm": {
     "name": "#%% md\n"
    }
   }
  },
  {
   "cell_type": "code",
   "execution_count": 72,
   "outputs": [
    {
     "data": {
      "text/plain": "<Figure size 640x480 with 1 Axes>",
      "image/png": "[encoded data removed]"
     },
     "metadata": {},
     "output_type": "display_data"
    }
   ],
   "source": [
    "fig = plt.figure()\n",
    "camera = Camera(fig)\n",
    "ax = axes(xlim=(a, b), ylim=(0, 3))\n",
    "\n",
    "for i in range(0, N, 10):\n",
    "    ax.plot(x, u[i, :], color=\"red\")\n",
    "    ax.fill_between(x, u[i, :], color='red', alpha=0.3)\n",
    "    camera.snap()"
   ],
   "metadata": {
    "collapsed": false,
    "pycharm": {
     "name": "#%%\n"
    }
   }
  },
  {
   "cell_type": "code",
   "execution_count": 73,
   "outputs": [
    {
     "name": "stderr",
     "output_type": "stream",
     "text": [
      "MovieWriter imagemagick unavailable; using Pillow instead.\n"
     ]
    }
   ],
   "source": [
    "animation = camera.animate()\n",
    "animation.save('spitzer_one.gif', writer = 'imagemagick', fps=tau * 10 * 1e3)"
   ],
   "metadata": {
    "collapsed": false,
    "pycharm": {
     "name": "#%%\n"
    }
   }
  },
  {
   "cell_type": "code",
   "execution_count": 60,
   "outputs": [
    {
     "data": {
      "text/html": "<img src=\"spitz.gif\"/>",
      "text/plain": "<IPython.core.display.Image object>"
     },
     "execution_count": 60,
     "metadata": {},
     "output_type": "execute_result"
    }
   ],
   "source": [
    "from IPython.display import Image\n",
    "Image(url='spitz.gif')"
   ],
   "metadata": {
    "collapsed": false,
    "pycharm": {
     "name": "#%%\n"
    }
   }
  },
  {
   "cell_type": "markdown",
   "source": [
    "## Неявная разностная схема с нелинейностью на верхнем слое\n",
    "\n",
    "Для численного решения задачи будем использовать неявную разностную схему с нелинейностью на нижнем слое\n",
    "\n",
    "$$\n",
    "\\frac{y^{n+1}_{m} - y^{n}_{m}}{\\tau} = \\frac{1}{h}\\left[k^{n + 1}_{m + 1/2}\\frac{y^{n+1}_{m+1} - y^{n+1}_{m}}{h} - k^{n+1}_{m - 1/2}\\frac{y^{n+1}_{m} - y^{n+1}_{m - 1}}{h}\\right]\n",
    "$$"
   ],
   "metadata": {
    "collapsed": false,
    "pycharm": {
     "name": "#%% md\n"
    }
   }
  },
  {
   "cell_type": "code",
   "execution_count": 26,
   "outputs": [],
   "source": [
    "def k_12(y_m, y_m_1, alpha, kappa=None):\n",
    "    kappa = 1 if kappa is None else kappa\n",
    "    return kappa * (y_m ** alpha + y_m_1 ** alpha) / 2"
   ],
   "metadata": {
    "collapsed": false,
    "pycharm": {
     "name": "#%%\n"
    }
   }
  },
  {
   "cell_type": "code",
   "execution_count": 32,
   "outputs": [],
   "source": [
    "from numpy.linalg import inv\n",
    "\n",
    "\n",
    "def thomas_block_solver(A, B, C, D):\n",
    "    M = len(D)\n",
    "    u_sol = np.zeros_like(D)\n",
    "    P = np.zeros_like(B)\n",
    "    Q = np.zeros_like(D)\n",
    "    # Forward first coefs\n",
    "    P[0] = inv(B[0]) @ C[0]\n",
    "    Q[0] = - inv(B[0]) @ D[0]\n",
    "    # Forward coefs\n",
    "    for m in range(1, M - 1):\n",
    "        inv_denom = inv(B[m] - A[m - 1] @ P[m - 1])\n",
    "        P[m] = inv_denom @ C[m]\n",
    "        Q[m] = inv_denom @ (A[m - 1] @ Q[m - 1] - D[m])\n",
    "    #Forward last\n",
    "    m = M - 1\n",
    "    Q[m] = inv(B[m] - A[m - 1] @ P[m - 1]) @ (A[m - 1] @ Q[m - 1] - D[m])\n",
    "\n",
    "    u_sol[-1] = Q[-1]\n",
    "    for m in range(M - 1, -1, -1):\n",
    "        u_sol[m - 1] = P[m - 1] @ u_sol[m] + Q[m - 1]\n",
    "\n",
    "    return u_sol"
   ],
   "metadata": {
    "collapsed": false,
    "pycharm": {
     "name": "#%%\n"
    }
   }
  },
  {
   "cell_type": "code",
   "execution_count": 31,
   "outputs": [],
   "source": [
    "def make_block(u, m, tau, h, u_prev, alpha=(2.5, 1.5), kappa=(0.2, 0.3)):\n",
    "    alpha = np.array(alpha)\n",
    "    kappa = np.array(kappa)\n",
    "    sigma = tau / h ** 2\n",
    "    dkappa = lambda x: 0.5 * kappa * alpha * x ** (alpha - 1)\n",
    "    if m == 0:\n",
    "        C = np.diagflat(k_12(u[m], u[m + 1], alpha, kappa) + dkappa(u[m + 1]) * (u[m + 1] - u[m]))\n",
    "        B = np.diagflat(1 / sigma + k_12(u[m], u[m + 1], alpha, kappa) + dkappa(u[m]) * (u[m + 1] - u[m]))\n",
    "        D = (u[m] - u_prev[m]) / sigma - k_12(u[m + 1], u[m], alpha, kappa) * (u[m + 1] - u[m])\n",
    "        return C, B, D\n",
    "    A = np.diagflat(k_12(u[m - 1], u[m], alpha, kappa) + dkappa(u[m - 1]) * (u[m] - u[m - 1]))\n",
    "    C = np.diagflat(k_12(u[m], u[m + 1], alpha, kappa) + dkappa(u[m + 1]) * (u[m + 1] - u[m]))\n",
    "    B = np.diagflat(1 / sigma + k_12(u[m], u[m + 1], alpha, kappa) + k_12(u[m - 1], u[m], alpha, kappa) + 2 * dkappa(u[m]) * (u[m + 1] - u[m - 1]))\n",
    "    D = (u[m] - u_prev[m]) / sigma - k_12(u[m + 1], u[m], alpha, kappa) * (u[m + 1] - u[m]) + k_12(u[m], u[m - 1], alpha, kappa) * (u[m] - u[m - 1])\n",
    "    return A, B, C, D"
   ],
   "metadata": {
    "collapsed": false,
    "pycharm": {
     "name": "#%%\n"
    }
   }
  },
  {
   "cell_type": "code",
   "execution_count": 33,
   "outputs": [],
   "source": [
    "def make_block_diagonals(u1, u2, tau, h, u1_init, u2_init, alpha=(2.5, 1.5), kappa=(0.2, 0.3)):\n",
    "    M = len(u1_init)\n",
    "    A = np.zeros((M - 1, 2, 2))\n",
    "    B = np.zeros((M, 2, 2))\n",
    "    C = np.zeros((M - 1, 2, 2))\n",
    "    D = np.zeros((M, 2))\n",
    "    u_prev = np.vstack([u1, u2]).reshape(-1, 2)\n",
    "    u = np.vstack([u1_init, u2_init]).reshape(-1, 2)\n",
    "    # first row\n",
    "    B[0], C[0], D[0] = make_block(u, 0, tau, h, u_prev, alpha=alpha, kappa=kappa)\n",
    "    # rows m = 1, ..., M - 2\n",
    "    for m in range(1, M - 1):\n",
    "        A[m], B[m], C[m], D[m] = make_block(u, m, tau, h, u_prev, alpha=(2.5, 1.5), kappa=(0.2, 0.3))\n",
    "    # last row\n",
    "    B[M - 1] = np.eye(2)\n",
    "    return A, B, C, D"
   ],
   "metadata": {
    "collapsed": false,
    "pycharm": {
     "name": "#%%\n"
    }
   }
  },
  {
   "cell_type": "code",
   "execution_count": 47,
   "outputs": [],
   "source": [
    "def newton_solver(u1, u2, tau, h, u1_init, u2_init, alpha=(2.5, 1.5), kappa=(0.2, 0.3), iter=10):\n",
    "    for i in range(iter):\n",
    "        print(i)\n",
    "        A, B, C, D = make_block_diagonals(u1, u2, tau, h, u1_init, u2_init, alpha=alpha, kappa=kappa)\n",
    "        du = thomas_block_solver(A, B, C, D)\n",
    "        u1_init = u1_init + du[:, 0]\n",
    "        u2_init = u2_init + du[:, 1]\n",
    "        print(du)\n",
    "    return u1_init, u2_init"
   ],
   "metadata": {
    "collapsed": false,
    "pycharm": {
     "name": "#%%\n"
    }
   }
  },
  {
   "cell_type": "markdown",
   "source": [
    "### Применение"
   ],
   "metadata": {
    "collapsed": false,
    "pycharm": {
     "name": "#%% md\n"
    }
   }
  },
  {
   "cell_type": "code",
   "execution_count": 35,
   "outputs": [
    {
     "name": "stdout",
     "output_type": "stream",
     "text": [
      "v = 0.3523459179744088\n"
     ]
    }
   ],
   "source": [
    "# Начальные значения\n",
    "a = 0\n",
    "b = 2\n",
    "t_0 = 0\n",
    "T = 4\n",
    "To = 2\n",
    "const = 3\n",
    "alpha = 2.5\n",
    "kappa = 0.2\n",
    "\n",
    "print(f'v = {np.sqrt(const ** (1 / alpha) * kappa / alpha)}')"
   ],
   "metadata": {
    "collapsed": false,
    "pycharm": {
     "name": "#%%\n"
    }
   }
  },
  {
   "cell_type": "code",
   "execution_count": 36,
   "outputs": [
    {
     "name": "stdout",
     "output_type": "stream",
     "text": [
      "h= 0.02020202, tau= 0.00066678\n",
      "sigma =  0.8169\n"
     ]
    }
   ],
   "source": [
    "# Число узлов\n",
    "N = 6000\n",
    "M = 100\n",
    "\n",
    "# Размер шага сетки\n",
    "h = (b - a) / (M - 1)\n",
    "tau = (T - t_0) / (N - 1)\n",
    "print(f'{h=: .8f}, {tau=: .8f}')\n",
    "print(f'sigma = {tau / h ** 2 * 0.5: .4f}')"
   ],
   "metadata": {
    "collapsed": false,
    "pycharm": {
     "name": "#%%\n"
    }
   }
  },
  {
   "cell_type": "code",
   "execution_count": 5,
   "outputs": [],
   "source": [
    "t = np.linspace(t_0, T, N)\n",
    "x = np.linspace(a, b, M)"
   ],
   "metadata": {
    "collapsed": false,
    "pycharm": {
     "name": "#%%\n"
    }
   }
  },
  {
   "cell_type": "code",
   "execution_count": 37,
   "outputs": [],
   "source": [
    "def u_init(x, To):\n",
    "    u = np.zeros(x.size)\n",
    "    for i in range(len(x)):\n",
    "        if x[i] <= 1:\n",
    "            u[i] = To\n",
    "    return u"
   ],
   "metadata": {
    "collapsed": false,
    "pycharm": {
     "name": "#%%\n"
    }
   }
  },
  {
   "cell_type": "code",
   "execution_count": 38,
   "outputs": [],
   "source": [
    "u1 = np.zeros((N + 1, M), dtype=np.double)\n",
    "u1[0, :] = u_init(x, 2)\n",
    "\n",
    "u2 = np.zeros((N + 1, M), dtype=np.double)\n",
    "u2[0, :] = u_init(x, 2)"
   ],
   "metadata": {
    "collapsed": false,
    "pycharm": {
     "name": "#%%\n"
    }
   }
  },
  {
   "cell_type": "code",
   "execution_count": 41,
   "outputs": [
    {
     "data": {
      "text/plain": "{'divide': 'warn', 'over': 'warn', 'under': 'ignore', 'invalid': 'warn'}"
     },
     "execution_count": 41,
     "metadata": {},
     "output_type": "execute_result"
    }
   ],
   "source": [
    "np.seterr(all='raise')"
   ],
   "metadata": {
    "collapsed": false,
    "pycharm": {
     "name": "#%%\n"
    }
   }
  },
  {
   "cell_type": "code",
   "execution_count": 48,
   "outputs": [
    {
     "data": {
      "text/plain": "  0%|          | 0/5999 [00:00<?, ?it/s]",
      "application/vnd.jupyter.widget-view+json": {
       "version_major": 2,
       "version_minor": 0,
       "model_id": "49bb1262c95f4247b9c7d5ebf1b90bc4"
      }
     },
     "metadata": {},
     "output_type": "display_data"
    },
    {
     "name": "stdout",
     "output_type": "stream",
     "text": [
      "0\n",
      "[[ 2.76155820e-08  3.68967496e-08]\n",
      " [ 1.79204693e-08  2.14348536e-08]\n",
      " [ 4.55360513e-08  5.83316033e-08]\n",
      " [ 9.77869900e-08  1.37305486e-07]\n",
      " [ 2.02941448e-07  3.15323811e-07]\n",
      " [ 4.17888804e-07  7.20798970e-07]\n",
      " [ 8.58917241e-07  1.64621790e-06]\n",
      " [ 1.76462656e-06  3.75912570e-06]\n",
      " [ 3.62501254e-06  8.58365502e-06]\n",
      " [ 7.44655839e-06  1.95999496e-05]\n",
      " [ 1.52967501e-05  4.47545436e-05]\n",
      " [ 3.14226021e-05  1.02192544e-04]\n",
      " [ 6.45483254e-05  2.33346490e-04]\n",
      " [ 1.32595193e-04  5.32823449e-04]\n",
      " [ 2.72377088e-04  1.21664923e-03]\n",
      " [ 5.59517100e-04  2.77809723e-03]\n",
      " [ 1.14936020e-03  6.34350808e-03]\n",
      " [ 2.36101608e-03  1.44847683e-02]\n",
      " [ 4.84999995e-03  3.30745245e-02]\n",
      " [ 9.96287140e-03  7.55223795e-02]\n",
      " [ 2.04657335e-02  1.72447825e-01]\n",
      " [ 4.20407161e-02  3.93767417e-01]\n",
      " [ 8.63600520e-02  8.99128642e-01]\n",
      " [ 1.77400845e-01  2.05307062e+00]\n",
      " [ 3.64416871e-01  4.68798209e+00]\n",
      " [ 1.31066927e+00  4.65715117e+00]\n",
      " [-1.81698312e+00 -1.61405422e+00]\n",
      " [ 0.00000000e+00  0.00000000e+00]\n",
      " [ 0.00000000e+00  0.00000000e+00]\n",
      " [ 0.00000000e+00  0.00000000e+00]\n",
      " [ 0.00000000e+00  0.00000000e+00]\n",
      " [ 0.00000000e+00  0.00000000e+00]\n",
      " [ 0.00000000e+00  0.00000000e+00]\n",
      " [ 0.00000000e+00  0.00000000e+00]\n",
      " [ 0.00000000e+00  0.00000000e+00]\n",
      " [ 0.00000000e+00  0.00000000e+00]\n",
      " [ 0.00000000e+00  0.00000000e+00]\n",
      " [ 0.00000000e+00  0.00000000e+00]\n",
      " [ 0.00000000e+00  0.00000000e+00]\n",
      " [ 0.00000000e+00  0.00000000e+00]\n",
      " [ 0.00000000e+00  0.00000000e+00]\n",
      " [ 0.00000000e+00  0.00000000e+00]\n",
      " [ 0.00000000e+00  0.00000000e+00]\n",
      " [ 0.00000000e+00  0.00000000e+00]\n",
      " [ 0.00000000e+00  0.00000000e+00]\n",
      " [ 0.00000000e+00  0.00000000e+00]\n",
      " [ 0.00000000e+00  0.00000000e+00]\n",
      " [ 0.00000000e+00  0.00000000e+00]\n",
      " [ 0.00000000e+00  0.00000000e+00]\n",
      " [ 5.69444721e-01  5.26550424e-01]\n",
      " [-2.32687790e-01 -2.85520779e-01]\n",
      " [-5.66370560e-02 -6.25209429e-02]\n",
      " [-2.75713036e-02 -2.73805827e-02]\n",
      " [-1.34218402e-02 -1.19910326e-02]\n",
      " [-6.53369637e-03 -5.25113789e-03]\n",
      " [-3.18033293e-03 -2.29911826e-03]\n",
      " [-1.54755426e-03 -1.00555302e-03]\n",
      " [-7.52014431e-04 -4.37337091e-04]\n",
      " [-3.63320243e-04 -1.84591503e-04]\n",
      " [-1.71185123e-04 -6.49998280e-05]\n",
      " [-7.16624819e-05  7.70463297e-06]\n",
      " [-1.09097988e-05  8.59667822e-05]\n",
      " [ 4.39405986e-05  2.26240525e-04]\n",
      " [ 1.22563201e-04  5.29711439e-04]\n",
      " [ 2.67493444e-04  1.21528635e-03]\n",
      " [ 5.57139714e-04  2.77750037e-03]\n",
      " [ 1.14820289e-03  6.34324669e-03]\n",
      " [ 2.36045273e-03  1.44846539e-02]\n",
      " [ 4.84972579e-03  3.30744744e-02]\n",
      " [ 9.96273809e-03  7.55223576e-02]\n",
      " [ 2.04656689e-02  1.72447815e-01]\n",
      " [ 4.20406853e-02  3.93767413e-01]\n",
      " [ 8.63600384e-02  8.99128641e-01]\n",
      " [ 1.77400842e-01  2.05307062e+00]\n",
      " [ 3.64416875e-01  4.68798210e+00]\n",
      " [ 1.31066928e+00  4.65715117e+00]\n",
      " [-1.81698313e+00 -1.61405422e+00]\n",
      " [ 0.00000000e+00  0.00000000e+00]\n",
      " [ 0.00000000e+00  0.00000000e+00]\n",
      " [ 0.00000000e+00  0.00000000e+00]\n",
      " [ 0.00000000e+00  0.00000000e+00]\n",
      " [ 0.00000000e+00  0.00000000e+00]\n",
      " [ 0.00000000e+00  0.00000000e+00]\n",
      " [ 0.00000000e+00  0.00000000e+00]\n",
      " [ 0.00000000e+00  0.00000000e+00]\n",
      " [ 0.00000000e+00  0.00000000e+00]\n",
      " [ 0.00000000e+00  0.00000000e+00]\n",
      " [ 0.00000000e+00  0.00000000e+00]\n",
      " [ 0.00000000e+00  0.00000000e+00]\n",
      " [ 0.00000000e+00  0.00000000e+00]\n",
      " [ 0.00000000e+00  0.00000000e+00]\n",
      " [ 0.00000000e+00  0.00000000e+00]\n",
      " [ 0.00000000e+00  0.00000000e+00]\n",
      " [ 0.00000000e+00  0.00000000e+00]\n",
      " [ 0.00000000e+00  0.00000000e+00]\n",
      " [ 0.00000000e+00  0.00000000e+00]\n",
      " [ 0.00000000e+00  0.00000000e+00]\n",
      " [ 0.00000000e+00  0.00000000e+00]\n",
      " [ 0.00000000e+00  0.00000000e+00]\n",
      " [ 0.00000000e+00  0.00000000e+00]]\n",
      "1\n"
     ]
    },
    {
     "ename": "FloatingPointError",
     "evalue": "invalid value encountered in power",
     "output_type": "error",
     "traceback": [
      "\u001B[1;31m---------------------------------------------------------------------------\u001B[0m",
      "\u001B[1;31mFloatingPointError\u001B[0m                        Traceback (most recent call last)",
      "Input \u001B[1;32mIn [48]\u001B[0m, in \u001B[0;36m<cell line: 1>\u001B[1;34m()\u001B[0m\n\u001B[0;32m      1\u001B[0m \u001B[38;5;28;01mfor\u001B[39;00m n \u001B[38;5;129;01min\u001B[39;00m tqdm(\u001B[38;5;28mrange\u001B[39m(N \u001B[38;5;241m-\u001B[39m \u001B[38;5;241m1\u001B[39m)):\n\u001B[1;32m----> 2\u001B[0m     u1_sol, u2_sol \u001B[38;5;241m=\u001B[39m \u001B[43mnewton_solver\u001B[49m\u001B[43m(\u001B[49m\u001B[43mu1\u001B[49m\u001B[43m[\u001B[49m\u001B[43mn\u001B[49m\u001B[43m,\u001B[49m\u001B[43m \u001B[49m\u001B[43m:\u001B[49m\u001B[43m]\u001B[49m\u001B[43m,\u001B[49m\u001B[43m \u001B[49m\u001B[43mu2\u001B[49m\u001B[43m[\u001B[49m\u001B[43mn\u001B[49m\u001B[43m,\u001B[49m\u001B[43m \u001B[49m\u001B[43m:\u001B[49m\u001B[43m]\u001B[49m\u001B[43m,\u001B[49m\u001B[43m \u001B[49m\u001B[43mtau\u001B[49m\u001B[43m,\u001B[49m\u001B[43m \u001B[49m\u001B[43mh\u001B[49m\u001B[43m,\u001B[49m\u001B[43m \u001B[49m\u001B[43mu1\u001B[49m\u001B[43m[\u001B[49m\u001B[43mn\u001B[49m\u001B[43m,\u001B[49m\u001B[43m \u001B[49m\u001B[43m:\u001B[49m\u001B[43m]\u001B[49m\u001B[43m,\u001B[49m\u001B[43m \u001B[49m\u001B[43mu2\u001B[49m\u001B[43m[\u001B[49m\u001B[43mn\u001B[49m\u001B[43m,\u001B[49m\u001B[43m \u001B[49m\u001B[43m:\u001B[49m\u001B[43m]\u001B[49m\u001B[43m,\u001B[49m\u001B[43m \u001B[49m\u001B[43malpha\u001B[49m\u001B[38;5;241;43m=\u001B[39;49m\u001B[43m(\u001B[49m\u001B[38;5;241;43m2.5\u001B[39;49m\u001B[43m,\u001B[49m\u001B[43m \u001B[49m\u001B[38;5;241;43m1.5\u001B[39;49m\u001B[43m)\u001B[49m\u001B[43m,\u001B[49m\u001B[43m \u001B[49m\u001B[43mkappa\u001B[49m\u001B[38;5;241;43m=\u001B[39;49m\u001B[43m(\u001B[49m\u001B[38;5;241;43m0.2\u001B[39;49m\u001B[43m,\u001B[49m\u001B[43m \u001B[49m\u001B[38;5;241;43m0.3\u001B[39;49m\u001B[43m)\u001B[49m\u001B[43m,\u001B[49m\u001B[43m \u001B[49m\u001B[38;5;28;43miter\u001B[39;49m\u001B[38;5;241;43m=\u001B[39;49m\u001B[38;5;241;43m10\u001B[39;49m\u001B[43m)\u001B[49m\n\u001B[0;32m      3\u001B[0m     u1[n \u001B[38;5;241m+\u001B[39m \u001B[38;5;241m1\u001B[39m, :], u2[n \u001B[38;5;241m+\u001B[39m \u001B[38;5;241m1\u001B[39m, :] \u001B[38;5;241m=\u001B[39m u1_sol, u2_sol\n",
      "Input \u001B[1;32mIn [47]\u001B[0m, in \u001B[0;36mnewton_solver\u001B[1;34m(u1, u2, tau, h, u1_init, u2_init, alpha, kappa, iter)\u001B[0m\n\u001B[0;32m      2\u001B[0m \u001B[38;5;28;01mfor\u001B[39;00m i \u001B[38;5;129;01min\u001B[39;00m \u001B[38;5;28mrange\u001B[39m(\u001B[38;5;28miter\u001B[39m):\n\u001B[0;32m      3\u001B[0m     \u001B[38;5;28mprint\u001B[39m(i)\n\u001B[1;32m----> 4\u001B[0m     A, B, C, D \u001B[38;5;241m=\u001B[39m \u001B[43mmake_block_diagonals\u001B[49m\u001B[43m(\u001B[49m\u001B[43mu1\u001B[49m\u001B[43m,\u001B[49m\u001B[43m \u001B[49m\u001B[43mu2\u001B[49m\u001B[43m,\u001B[49m\u001B[43m \u001B[49m\u001B[43mtau\u001B[49m\u001B[43m,\u001B[49m\u001B[43m \u001B[49m\u001B[43mh\u001B[49m\u001B[43m,\u001B[49m\u001B[43m \u001B[49m\u001B[43mu1_init\u001B[49m\u001B[43m,\u001B[49m\u001B[43m \u001B[49m\u001B[43mu2_init\u001B[49m\u001B[43m,\u001B[49m\u001B[43m \u001B[49m\u001B[43malpha\u001B[49m\u001B[38;5;241;43m=\u001B[39;49m\u001B[43malpha\u001B[49m\u001B[43m,\u001B[49m\u001B[43m \u001B[49m\u001B[43mkappa\u001B[49m\u001B[38;5;241;43m=\u001B[39;49m\u001B[43mkappa\u001B[49m\u001B[43m)\u001B[49m\n\u001B[0;32m      5\u001B[0m     du \u001B[38;5;241m=\u001B[39m thomas_block_solver(A, B, C, D)\n\u001B[0;32m      6\u001B[0m     u1_init \u001B[38;5;241m=\u001B[39m u1_init \u001B[38;5;241m+\u001B[39m du[:, \u001B[38;5;241m0\u001B[39m]\n",
      "Input \u001B[1;32mIn [33]\u001B[0m, in \u001B[0;36mmake_block_diagonals\u001B[1;34m(u1, u2, tau, h, u1_init, u2_init, alpha, kappa)\u001B[0m\n\u001B[0;32m     11\u001B[0m \u001B[38;5;66;03m# rows m = 1, ..., M - 2\u001B[39;00m\n\u001B[0;32m     12\u001B[0m \u001B[38;5;28;01mfor\u001B[39;00m m \u001B[38;5;129;01min\u001B[39;00m \u001B[38;5;28mrange\u001B[39m(\u001B[38;5;241m1\u001B[39m, M \u001B[38;5;241m-\u001B[39m \u001B[38;5;241m1\u001B[39m):\n\u001B[1;32m---> 13\u001B[0m     A[m], B[m], C[m], D[m] \u001B[38;5;241m=\u001B[39m \u001B[43mmake_block\u001B[49m\u001B[43m(\u001B[49m\u001B[43mu\u001B[49m\u001B[43m,\u001B[49m\u001B[43m \u001B[49m\u001B[43mm\u001B[49m\u001B[43m,\u001B[49m\u001B[43m \u001B[49m\u001B[43mtau\u001B[49m\u001B[43m,\u001B[49m\u001B[43m \u001B[49m\u001B[43mh\u001B[49m\u001B[43m,\u001B[49m\u001B[43m \u001B[49m\u001B[43mu_prev\u001B[49m\u001B[43m,\u001B[49m\u001B[43m \u001B[49m\u001B[43malpha\u001B[49m\u001B[38;5;241;43m=\u001B[39;49m\u001B[43m(\u001B[49m\u001B[38;5;241;43m2.5\u001B[39;49m\u001B[43m,\u001B[49m\u001B[43m \u001B[49m\u001B[38;5;241;43m1.5\u001B[39;49m\u001B[43m)\u001B[49m\u001B[43m,\u001B[49m\u001B[43m \u001B[49m\u001B[43mkappa\u001B[49m\u001B[38;5;241;43m=\u001B[39;49m\u001B[43m(\u001B[49m\u001B[38;5;241;43m0.2\u001B[39;49m\u001B[43m,\u001B[49m\u001B[43m \u001B[49m\u001B[38;5;241;43m0.3\u001B[39;49m\u001B[43m)\u001B[49m\u001B[43m)\u001B[49m\n\u001B[0;32m     14\u001B[0m \u001B[38;5;66;03m# last row\u001B[39;00m\n\u001B[0;32m     15\u001B[0m B[M \u001B[38;5;241m-\u001B[39m \u001B[38;5;241m1\u001B[39m] \u001B[38;5;241m=\u001B[39m np\u001B[38;5;241m.\u001B[39meye(\u001B[38;5;241m2\u001B[39m)\n",
      "Input \u001B[1;32mIn [31]\u001B[0m, in \u001B[0;36mmake_block\u001B[1;34m(u, m, tau, h, u_prev, alpha, kappa)\u001B[0m\n\u001B[0;32m     10\u001B[0m     \u001B[38;5;28;01mreturn\u001B[39;00m C, B, D\n\u001B[0;32m     11\u001B[0m A \u001B[38;5;241m=\u001B[39m np\u001B[38;5;241m.\u001B[39mdiagflat(k_12(u[m \u001B[38;5;241m-\u001B[39m \u001B[38;5;241m1\u001B[39m], u[m], alpha, kappa) \u001B[38;5;241m+\u001B[39m dkappa(u[m \u001B[38;5;241m-\u001B[39m \u001B[38;5;241m1\u001B[39m]) \u001B[38;5;241m*\u001B[39m (u[m] \u001B[38;5;241m-\u001B[39m u[m \u001B[38;5;241m-\u001B[39m \u001B[38;5;241m1\u001B[39m]))\n\u001B[1;32m---> 12\u001B[0m C \u001B[38;5;241m=\u001B[39m np\u001B[38;5;241m.\u001B[39mdiagflat(\u001B[43mk_12\u001B[49m\u001B[43m(\u001B[49m\u001B[43mu\u001B[49m\u001B[43m[\u001B[49m\u001B[43mm\u001B[49m\u001B[43m]\u001B[49m\u001B[43m,\u001B[49m\u001B[43m \u001B[49m\u001B[43mu\u001B[49m\u001B[43m[\u001B[49m\u001B[43mm\u001B[49m\u001B[43m \u001B[49m\u001B[38;5;241;43m+\u001B[39;49m\u001B[43m \u001B[49m\u001B[38;5;241;43m1\u001B[39;49m\u001B[43m]\u001B[49m\u001B[43m,\u001B[49m\u001B[43m \u001B[49m\u001B[43malpha\u001B[49m\u001B[43m,\u001B[49m\u001B[43m \u001B[49m\u001B[43mkappa\u001B[49m\u001B[43m)\u001B[49m \u001B[38;5;241m+\u001B[39m dkappa(u[m \u001B[38;5;241m+\u001B[39m \u001B[38;5;241m1\u001B[39m]) \u001B[38;5;241m*\u001B[39m (u[m \u001B[38;5;241m+\u001B[39m \u001B[38;5;241m1\u001B[39m] \u001B[38;5;241m-\u001B[39m u[m]))\n\u001B[0;32m     13\u001B[0m B \u001B[38;5;241m=\u001B[39m np\u001B[38;5;241m.\u001B[39mdiagflat(\u001B[38;5;241m1\u001B[39m \u001B[38;5;241m/\u001B[39m sigma \u001B[38;5;241m+\u001B[39m k_12(u[m], u[m \u001B[38;5;241m+\u001B[39m \u001B[38;5;241m1\u001B[39m], alpha, kappa) \u001B[38;5;241m+\u001B[39m k_12(u[m \u001B[38;5;241m-\u001B[39m \u001B[38;5;241m1\u001B[39m], u[m], alpha, kappa) \u001B[38;5;241m+\u001B[39m \u001B[38;5;241m2\u001B[39m \u001B[38;5;241m*\u001B[39m dkappa(u[m]) \u001B[38;5;241m*\u001B[39m (u[m \u001B[38;5;241m+\u001B[39m \u001B[38;5;241m1\u001B[39m] \u001B[38;5;241m-\u001B[39m u[m \u001B[38;5;241m-\u001B[39m \u001B[38;5;241m1\u001B[39m]))\n\u001B[0;32m     14\u001B[0m D \u001B[38;5;241m=\u001B[39m (u[m] \u001B[38;5;241m-\u001B[39m u_prev[m]) \u001B[38;5;241m/\u001B[39m sigma \u001B[38;5;241m-\u001B[39m k_12(u[m \u001B[38;5;241m+\u001B[39m \u001B[38;5;241m1\u001B[39m], u[m], alpha, kappa) \u001B[38;5;241m*\u001B[39m (u[m \u001B[38;5;241m+\u001B[39m \u001B[38;5;241m1\u001B[39m] \u001B[38;5;241m-\u001B[39m u[m]) \u001B[38;5;241m+\u001B[39m k_12(u[m], u[m \u001B[38;5;241m-\u001B[39m \u001B[38;5;241m1\u001B[39m], alpha, kappa) \u001B[38;5;241m*\u001B[39m (u[m] \u001B[38;5;241m-\u001B[39m u[m \u001B[38;5;241m-\u001B[39m \u001B[38;5;241m1\u001B[39m])\n",
      "Input \u001B[1;32mIn [26]\u001B[0m, in \u001B[0;36mk_12\u001B[1;34m(y_m, y_m_1, alpha, kappa)\u001B[0m\n\u001B[0;32m      1\u001B[0m \u001B[38;5;28;01mdef\u001B[39;00m \u001B[38;5;21mk_12\u001B[39m(y_m, y_m_1, alpha, kappa\u001B[38;5;241m=\u001B[39m\u001B[38;5;28;01mNone\u001B[39;00m):\n\u001B[0;32m      2\u001B[0m     kappa \u001B[38;5;241m=\u001B[39m \u001B[38;5;241m1\u001B[39m \u001B[38;5;28;01mif\u001B[39;00m kappa \u001B[38;5;129;01mis\u001B[39;00m \u001B[38;5;28;01mNone\u001B[39;00m \u001B[38;5;28;01melse\u001B[39;00m kappa\n\u001B[1;32m----> 3\u001B[0m     \u001B[38;5;28;01mreturn\u001B[39;00m kappa \u001B[38;5;241m*\u001B[39m (y_m \u001B[38;5;241m*\u001B[39m\u001B[38;5;241m*\u001B[39m alpha \u001B[38;5;241m+\u001B[39m \u001B[43my_m_1\u001B[49m\u001B[43m \u001B[49m\u001B[38;5;241;43m*\u001B[39;49m\u001B[38;5;241;43m*\u001B[39;49m\u001B[43m \u001B[49m\u001B[43malpha\u001B[49m) \u001B[38;5;241m/\u001B[39m \u001B[38;5;241m2\u001B[39m\n",
      "\u001B[1;31mFloatingPointError\u001B[0m: invalid value encountered in power"
     ]
    }
   ],
   "source": [
    "for n in tqdm(range(N - 1)):\n",
    "    u1_sol, u2_sol = newton_solver(u1[n, :], u2[n, :], tau, h, u1[n, :], u2[n, :], alpha=(2.5, 1.5), kappa=(0.2, 0.3), iter=10)\n",
    "    u1[n + 1, :], u2[n + 1, :] = u1_sol, u2_sol"
   ],
   "metadata": {
    "collapsed": false,
    "pycharm": {
     "name": "#%%\n"
    }
   }
  },
  {
   "cell_type": "code",
   "execution_count": 40,
   "outputs": [
    {
     "data": {
      "text/plain": "array([[ 2.,  2.,  2.,  2.,  2.,  2.,  2.,  2.,  2.,  2.,  2.,  2.,  2.,\n         2.,  2.,  2.,  2.,  2.,  2.,  2.,  2.,  2.,  2.,  2.,  2.,  2.,\n         2.,  2.,  2.,  2.,  2.,  2.,  2.,  2.,  2.,  2.,  2.,  2.,  2.,\n         2.,  2.,  2.,  2.,  2.,  2.,  2.,  2.,  2.,  2.,  2.,  0.,  0.,\n         0.,  0.,  0.,  0.,  0.,  0.,  0.,  0.,  0.,  0.,  0.,  0.,  0.,\n         0.,  0.,  0.,  0.,  0.,  0.,  0.,  0.,  0.,  0.,  0.,  0.,  0.,\n         0.,  0.,  0.,  0.,  0.,  0.,  0.,  0.,  0.,  0.,  0.,  0.,  0.,\n         0.,  0.,  0.,  0.,  0.,  0.,  0.,  0.,  0.],\n       [nan, nan, nan, nan, nan, nan, nan, nan, nan, nan, nan, nan, nan,\n        nan, nan, nan, nan, nan, nan, nan, nan, nan, nan, nan, nan, nan,\n        nan, nan, nan, nan, nan, nan, nan, nan, nan, nan, nan, nan, nan,\n        nan, nan, nan, nan, nan, nan, nan, nan, nan, nan, nan, nan, nan,\n        nan, nan, nan, nan, nan, nan, nan, nan, nan, nan, nan, nan, nan,\n        nan, nan, nan, nan, nan, nan, nan, nan, nan, nan, nan, nan, nan,\n        nan, nan, nan, nan, nan, nan, nan, nan, nan, nan, nan, nan, nan,\n        nan, nan, nan, nan, nan, nan, nan, nan, nan],\n       [nan, nan, nan, nan, nan, nan, nan, nan, nan, nan, nan, nan, nan,\n        nan, nan, nan, nan, nan, nan, nan, nan, nan, nan, nan, nan, nan,\n        nan, nan, nan, nan, nan, nan, nan, nan, nan, nan, nan, nan, nan,\n        nan, nan, nan, nan, nan, nan, nan, nan, nan, nan, nan, nan, nan,\n        nan, nan, nan, nan, nan, nan, nan, nan, nan, nan, nan, nan, nan,\n        nan, nan, nan, nan, nan, nan, nan, nan, nan, nan, nan, nan, nan,\n        nan, nan, nan, nan, nan, nan, nan, nan, nan, nan, nan, nan, nan,\n        nan, nan, nan, nan, nan, nan, nan, nan, nan],\n       [nan, nan, nan, nan, nan, nan, nan, nan, nan, nan, nan, nan, nan,\n        nan, nan, nan, nan, nan, nan, nan, nan, nan, nan, nan, nan, nan,\n        nan, nan, nan, nan, nan, nan, nan, nan, nan, nan, nan, nan, nan,\n        nan, nan, nan, nan, nan, nan, nan, nan, nan, nan, nan, nan, nan,\n        nan, nan, nan, nan, nan, nan, nan, nan, nan, nan, nan, nan, nan,\n        nan, nan, nan, nan, nan, nan, nan, nan, nan, nan, nan, nan, nan,\n        nan, nan, nan, nan, nan, nan, nan, nan, nan, nan, nan, nan, nan,\n        nan, nan, nan, nan, nan, nan, nan, nan, nan],\n       [nan, nan, nan, nan, nan, nan, nan, nan, nan, nan, nan, nan, nan,\n        nan, nan, nan, nan, nan, nan, nan, nan, nan, nan, nan, nan, nan,\n        nan, nan, nan, nan, nan, nan, nan, nan, nan, nan, nan, nan, nan,\n        nan, nan, nan, nan, nan, nan, nan, nan, nan, nan, nan, nan, nan,\n        nan, nan, nan, nan, nan, nan, nan, nan, nan, nan, nan, nan, nan,\n        nan, nan, nan, nan, nan, nan, nan, nan, nan, nan, nan, nan, nan,\n        nan, nan, nan, nan, nan, nan, nan, nan, nan, nan, nan, nan, nan,\n        nan, nan, nan, nan, nan, nan, nan, nan, nan]])"
     },
     "execution_count": 40,
     "metadata": {},
     "output_type": "execute_result"
    }
   ],
   "source": [
    "u1[:5, :]"
   ],
   "metadata": {
    "collapsed": false,
    "pycharm": {
     "name": "#%%\n"
    }
   }
  }
 ],
 "metadata": {
  "kernelspec": {
   "display_name": "Python 3",
   "language": "python",
   "name": "python3"
  },
  "language_info": {
   "codemirror_mode": {
    "name": "ipython",
    "version": 2
   },
   "file_extension": ".py",
   "mimetype": "text/x-python",
   "name": "python",
   "nbconvert_exporter": "python",
   "pygments_lexer": "ipython2",
   "version": "2.7.6"
  }
 },
 "nbformat": 4,
 "nbformat_minor": 0
}