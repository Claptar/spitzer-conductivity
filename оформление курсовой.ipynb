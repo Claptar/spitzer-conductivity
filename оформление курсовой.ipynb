{
 "cells": [
  {
   "cell_type": "markdown",
   "source": [
    "# Решение уравнения спитцеровской теплопроводности плазмы\n",
    "\n",
    "В данной работе автор ставит задачу численного решения уравнения спитцеровской теплопроводности плазмы. Для этого реализуется чисто неявная схема с нелинейностью на верхнем слое. Схема проверяется на решении модельной задачи Соболя-Самарского-Зельдовича, а так же на неоднородной постановке исходной задачи. Реализацию всех алгоритмов можно найти в [github-репозитории](https://github.com/Claptar/spitzer-conductivity.git)."
   ],
   "metadata": {
    "collapsed": false,
    "pycharm": {
     "name": "#%% md\n"
    }
   }
  },
  {
   "cell_type": "markdown",
   "source": [
    "## Постановка задачи\n",
    "Задача Коши для уравнения двухкомпонентной теплороводности плазмы:\n",
    "$$\n",
    " \\frac{\\partial u_1}{\\partial t} = \\frac{\\partial}{\\partial x}\\kappa_1 u_1^{\\alpha_1}\\frac{\\partial u_1}{\\partial x} - q_{ei}, \\\\\n",
    " \\frac{\\partial u_2}{\\partial t} = \\frac{\\partial}{\\partial x}\\kappa_2 u_2^{\\alpha_2}\\frac{\\partial u_2}{\\partial x} + q_{ei}. \\\\\n",
    "$$\n",
    "\n",
    "Начальные условия представляют равномерно прогретый слой плазмы фиксированной длинны:\n",
    "\\begin{equation*}\n",
    " u_1(x, 0) = u_2(x, 0) =\n",
    " \\begin{cases}\n",
    "   T_0, x \\le 1,\\\\\n",
    "   0, x > 1.\n",
    " \\end{cases}\n",
    "\\end{equation*}\n",
    "\n",
    "Граничные условия представляют собой теплоизолированную стенку слева и ноль на бесконечности:\n",
    "$$\n",
    " \\frac{\\partial u_1}{\\partial x} = \\frac{\\partial u_2}{\\partial x} = 0, \\\\\n",
    " \\lim_{x \\rightarrow +\\inf}u_1(x,t) = \\lim_{x \\rightarrow +\\inf}u_2(x,t) = 0.\n",
    "$$\n",
    "\n",
    "Где $q_{ei} = \\frac{u_1 - u_2}{u_1^2}$, $T_0 \\ge 1$, $\\kappa_1 = 0.2$, $\\kappa_2 = 0.3$, $\\alpha_1 = 2.5$, $\\alpha_2 = 1.5$."
   ],
   "metadata": {
    "collapsed": false,
    "pycharm": {
     "name": "#%% md\n"
    }
   }
  },
  {
   "cell_type": "markdown",
   "source": [
    "## Выбор схемы\n",
    "\n",
    "Как известно производная решения $u(x, t)$ квазилинейного уравнения теплопроводности с $\\alpha > 1$ на фронте обращается в бесконечность. Соответсвенно при расчёте по не монотонным схемам легко возникает разболтка. Поэтому для решения подобных задач удобно использовать чисто неявные схемы, которые монотонны и устойчивы при любых шагах. Будем использовать схему с нелинейностью сверху:\n",
    "\n",
    "$$\n",
    "\\frac{y^{n+1}_{m} - y^{n}_{m}}{\\tau} = \\frac{1}{h}\\left[k^{n + 1}_{m + 1/2}\\frac{y^{n+1}_{m+1} - y^{n+1}_{m}}{h} - k^{n+1}_{m - 1/2}\\frac{y^{n+1}_{m} - y^{n+1}_{m - 1}}{h}\\right] + f^{n + 1}_m, \\\\\n",
    " k^{n + 1}_{m + 1/2} = \\kappa\\frac{(u^{n + 1}_{m})^{\\alpha} - (u^{n + 1}_{m + 1})^{\\alpha}}{2}\n",
    "$$"
   ],
   "metadata": {
    "collapsed": false,
    "pycharm": {
     "name": "#%% md\n"
    }
   }
  },
  {
   "cell_type": "markdown",
   "source": [
    "### Исследование схемы\n",
    "\n",
    "\\* Тут должно быть исследование схемы (или нет)\\*"
   ],
   "metadata": {
    "collapsed": false,
    "pycharm": {
     "name": "#%% md\n"
    }
   }
  },
  {
   "cell_type": "markdown",
   "source": [
    "### Реализация схемы\n",
    "\n",
    "Запишем разностную задачу:\n",
    "$$\n",
    "\\frac{u_{\\alpha}^{n+1}_{m} - u_{\\alpha}^{n}_{m}}{\\tau} = \\frac{1}{h}\\left[k^{n + 1}_{m + 1/2}\\frac{u_{\\alpha}^{n+1}_{m+1} - u_{\\alpha}^{n+1}_{m}}{h} - k^{n+1}_{m - 1/2}\\frac{u_{\\alpha}^{n+1}_{m} - u_{\\alpha}^{n+1}_{m - 1}}{h}\\right] - \\varphi_{{\\alpha}m}^{n + 1}, m=1..M - 2, n=1..N-1 \\\\\n",
    "\\frac{u_{{\\alpha}0}^{n+1} - u_{\\alpha}^{n}_{0}}{\\tau} = \\frac{k^{n + 1}_{1/2}}{h^2}(u_{{\\alpha}1}^{n+1} - u_{{\\alpha}0}^{n+1}) - \\varphi_{{\\alpha}0}^{n + 1}, n=1..N-1 \\\\\n",
    "u_{\\alpha}(t^{n}, M) = 0, n=1..N-1 \\\\\n",
    "\\begin{equation*}\n",
    " u_{\\alpha}(x_m, 0) =\n",
    " \\begin{cases}\n",
    "   T_0, x \\le 1,\\\\\n",
    "   0, x_m > 1.\n",
    " \\end{cases}\n",
    "\\end{equation*}\n",
    "$$"
   ],
   "metadata": {
    "collapsed": false,
    "pycharm": {
     "name": "#%% md\n"
    }
   }
  },
  {
   "cell_type": "markdown",
   "source": [
    "Для реализации метода прогонки проведём линеаризацию:\n",
    "\n",
    "\n",
    "$$\n",
    "\\delta \\hat{u}^{\\alpha}_{n+1}\\left[k_{n + 1/2} + \\frac{\\partial k_{n + 1/2}}{\\partial \\hat{u}^{\\alpha}_{n+1}}(\\hat{u}^{\\alpha}_{n+1} - \\hat{u}^{\\alpha}_{n})\\right] - \\delta \\hat{u}^{\\alpha}_{n}\\left[\\frac{h^2}{\\tau} + k_{n + 1/2} + k_{n - 1/2} - \\frac{\\partial k_{n + 1/2}}{\\partial \\hat{u}^{\\alpha}_{n}}(\\hat{u}^{\\alpha}_{n+1} - \\hat{u}^{\\alpha}_{n}) + \\frac{\\partial k_{n - 1/2}}{\\partial \\hat{u}^{\\alpha}_{n}}(\\hat{u}^{\\alpha}_{n} - \\hat{u}^{\\alpha}_{n - 1}) - \\sum_ih^2\\frac{\\partial \\varphi^\\alpha}{\\partial \\hat{u}^{i}_{n}}\\right] + \\\\\n",
    " + \\delta \\hat{u}^{\\alpha}_{n-1}\\left[k_{n - 1/2} - \\frac{\\partial k_{n - 1/2}}{\\partial \\hat{u}^{\\alpha}_{n-1}}(\\hat{u}^{\\alpha}_{n} - \\hat{u}^{\\alpha}_{n-1})\\right] = \\frac{h^2}{\\tau}(\\hat{u}^{\\alpha}_{n} - u^{\\alpha}_{n}) - k_{n + 1/2}(\\hat{u}^{\\alpha}_{n+1} - \\hat{u}^{\\alpha}_{n}) + k_{n - 1/2}(\\hat{u}^{\\alpha}_{n} - \\hat{u}^{\\alpha}_{n - 1}) - h^2\\varphi^\\alpha_n \\\\\n",
    "\n",
    "\\hat{u}_n^\\alpha^{(s + 1)} = \\hat{u}_n^\\alpha^{(s)} + \\delta\\hat{u}_n^\\alpha^{(s)}\n",
    "\n",
    "$$"
   ],
   "metadata": {
    "collapsed": false,
    "pycharm": {
     "name": "#%% md\n"
    }
   }
  },
  {
   "cell_type": "markdown",
   "source": [
    "## Проверка схемы"
   ],
   "metadata": {
    "collapsed": false,
    "pycharm": {
     "name": "#%% md\n"
    }
   }
  },
  {
   "cell_type": "markdown",
   "source": [
    "### Решение задачи Соболя-Самарского-Зельдовича\n",
    "\n",
    "Будем проверять схему на модельной задаче Соболя-Самарского-Зельдовича:\n",
    "$$\n",
    "\\begin{cases}\n",
    " \\frac{\\partial u}{\\partial t} = \\frac{\\partial}{\\partial x}\\kappa u^{\\alpha}\\frac{\\partial u}{\\partial x} \\\\\n",
    " u(x, 0) = 0 \\\\\n",
    " u(0, t) = ct^{1/\\alpha} \\\\\n",
    " \\lim_{x \\rightarrow +\\inf}u(x,t) = 0\n",
    " \\end{cases}\n",
    "$$\n",
    "\n",
    "Для задачи известо аналитическое решение:\n",
    "\\begin{equation*}\n",
    " u =\n",
    " \\begin{cases}\n",
    "   \\left(\\frac{\\alpha v}{\\kappa}(vt - x)\\right)^{(1/\\alpha)}, \\text{ } x - vt \\le 0\\\\\n",
    "   0, \\text{ } x - vt > 0.\n",
    " \\end{cases}\n",
    "\\end{equation*}\n"
   ],
   "metadata": {
    "collapsed": false,
    "pycharm": {
     "name": "#%% md\n"
    }
   }
  },
  {
   "cell_type": "code",
   "execution_count": 30,
   "outputs": [],
   "source": [
    "import numpy as np\n",
    "from tqdm.notebook import tqdm\n",
    "from numba import njit\n",
    "from thomas import solve_equations, solve_blocks\n",
    "from make_diagonal import zeldovich_nonlinear, make_block_diagonals\n",
    "import matplotlib.pyplot as plt\n",
    "from matplotlib.pyplot import axes\n",
    "from celluloid import Camera"
   ],
   "metadata": {
    "collapsed": false,
    "pycharm": {
     "name": "#%%\n"
    }
   }
  },
  {
   "cell_type": "markdown",
   "source": [
    "Реализация метода Ньютона"
   ],
   "metadata": {
    "collapsed": false,
    "pycharm": {
     "name": "#%% md\n"
    }
   }
  },
  {
   "cell_type": "code",
   "execution_count": 2,
   "outputs": [],
   "source": [
    "@njit\n",
    "def newton_solver(y, y_left, tau, h, alpha=2.5, kappa=0.2, iter=10):\n",
    "    y_n, y_s = y, y\n",
    "    y_s[0] = y_left\n",
    "    for i in range(iter):\n",
    "        a, b, c, d = zeldovich_nonlinear(y_s, tau, h, y_n, alpha=alpha, kappa=kappa)\n",
    "        dy = solve_equations(a, b, c, d)\n",
    "        y_s = y_s + dy\n",
    "    return y_s"
   ],
   "metadata": {
    "collapsed": false,
    "pycharm": {
     "name": "#%%\n"
    }
   }
  },
  {
   "cell_type": "markdown",
   "source": [
    "Зададим параметры и начальные значения"
   ],
   "metadata": {
    "collapsed": false,
    "pycharm": {
     "name": "#%% md\n"
    }
   }
  },
  {
   "cell_type": "code",
   "execution_count": 3,
   "outputs": [
    {
     "name": "stdout",
     "output_type": "stream",
     "text": [
      ">>> Скорость волны v =  0.3523\n"
     ]
    }
   ],
   "source": [
    "a = 0\n",
    "b = 3\n",
    "t_0 = 0\n",
    "T = 2\n",
    "To = 2\n",
    "c = 3\n",
    "alpha = 2.5\n",
    "kappa = 0.2\n",
    "\n",
    "print(f'>>> Скорость волны v = {np.sqrt(c ** (1 / alpha) * kappa / alpha): .4f}')"
   ],
   "metadata": {
    "collapsed": false,
    "pycharm": {
     "name": "#%%\n"
    }
   }
  },
  {
   "cell_type": "markdown",
   "source": [
    "Зададим параметры сетки"
   ],
   "metadata": {
    "collapsed": false,
    "pycharm": {
     "name": "#%% md\n"
    }
   }
  },
  {
   "cell_type": "code",
   "execution_count": 4,
   "outputs": [
    {
     "name": "stdout",
     "output_type": "stream",
     "text": [
      ">>> h= 0.03030303, tau= 0.00033339\n",
      ">>> Гиперболический аналог числа куранта sigma = 0.0363\n"
     ]
    }
   ],
   "source": [
    "# Число узлов\n",
    "N = 6000\n",
    "M = 100\n",
    "\n",
    "# Размер шага сетки\n",
    "h = (b - a) / (M - 1)\n",
    "tau = (T - t_0) / (N - 1)\n",
    "\n",
    "print(f'>>> {h=: .8f}, {tau=: .8f}')\n",
    "print(f'>>> Гиперболический аналог числа куранта sigma ={kappa * tau / h ** 2 * 0.5: .4f}')"
   ],
   "metadata": {
    "collapsed": false,
    "pycharm": {
     "name": "#%%\n"
    }
   }
  },
  {
   "cell_type": "code",
   "execution_count": 5,
   "outputs": [],
   "source": [
    "t = np.linspace(t_0, T, N)\n",
    "x = np.linspace(a, b, M)"
   ],
   "metadata": {
    "collapsed": false,
    "pycharm": {
     "name": "#%%\n"
    }
   }
  },
  {
   "cell_type": "markdown",
   "source": [
    "Инициализируем сетку, начальные и граничные условия"
   ],
   "metadata": {
    "collapsed": false,
    "pycharm": {
     "name": "#%% md\n"
    }
   }
  },
  {
   "cell_type": "code",
   "execution_count": 6,
   "outputs": [],
   "source": [
    "u = np.zeros((N, M), dtype=np.double)\n",
    "u[:, 0] = c * t ** (1 / alpha)"
   ],
   "metadata": {
    "collapsed": false,
    "pycharm": {
     "name": "#%%\n"
    }
   }
  },
  {
   "cell_type": "markdown",
   "source": [
    "При решении системы уравнений будем делать 10 итераций метода Ньютона"
   ],
   "metadata": {
    "collapsed": false,
    "pycharm": {
     "name": "#%% md\n"
    }
   }
  },
  {
   "cell_type": "code",
   "execution_count": 7,
   "outputs": [
    {
     "data": {
      "text/plain": "  0%|          | 0/5999 [00:00<?, ?it/s]",
      "application/vnd.jupyter.widget-view+json": {
       "version_major": 2,
       "version_minor": 0,
       "model_id": "ea55a9f91b084a388cc2c7835eeb148e"
      }
     },
     "metadata": {},
     "output_type": "display_data"
    }
   ],
   "source": [
    "for n in tqdm(range(N - 1)):\n",
    "    u_sol = newton_solver(u[n, :], u[n + 1, 0], tau, h, alpha=2.5, kappa=0.2, iter=10)\n",
    "    u[n + 1, 1:] = u_sol[1:]"
   ],
   "metadata": {
    "collapsed": false,
    "pycharm": {
     "name": "#%%\n"
    }
   }
  },
  {
   "cell_type": "markdown",
   "source": [
    "Аналитическое решение изображено зелёным, численное -- красным. Как можно видеть, волновой фронт численного решения несколько отстаёт от аналитического."
   ],
   "metadata": {
    "collapsed": false,
    "pycharm": {
     "name": "#%% md\n"
    }
   }
  },
  {
   "cell_type": "markdown",
   "source": [
    "<img alt=\"SegmentLocal\" height=\"400\" src=\"lab_gifs\\zeldovich_true.gif\" title=\"segment\" width=\"600\"/>"
   ],
   "metadata": {
    "collapsed": false,
    "pycharm": {
     "name": "#%% md\n"
    }
   }
  },
  {
   "cell_type": "markdown",
   "source": [
    "### Решение однородной задачи"
   ],
   "metadata": {
    "collapsed": false,
    "pycharm": {
     "name": "#%% md\n"
    }
   }
  },
  {
   "cell_type": "markdown",
   "source": [
    "Реализация метода Ньютона"
   ],
   "metadata": {
    "collapsed": false,
    "pycharm": {
     "name": "#%% md\n"
    }
   }
  },
  {
   "cell_type": "code",
   "execution_count": 8,
   "outputs": [],
   "source": [
    "def newton_solver(u1, u2, tau, h, alpha=(2.5, 1.5), kappa=(0.2, 0.3), iter=10):\n",
    "    u1_s, u2_s = u1, u2\n",
    "    for i in range(iter):\n",
    "        A, B, C, D = make_block_diagonals(u1_s, u2_s, tau, h, u1, u2, alpha=alpha, kappa=kappa, nonhomogen=True)\n",
    "        du = solve_blocks(A, B, C, D)\n",
    "        u1_s = u1_s + du[:, 0]\n",
    "        u2_s = u2_s + du[:, 1]\n",
    "    return u1_s, u2_s"
   ],
   "metadata": {
    "collapsed": false,
    "pycharm": {
     "name": "#%%\n"
    }
   }
  },
  {
   "cell_type": "markdown",
   "source": [
    "Зададим параметры и начальные значения"
   ],
   "metadata": {
    "collapsed": false,
    "pycharm": {
     "name": "#%% md\n"
    }
   }
  },
  {
   "cell_type": "code",
   "execution_count": 23,
   "outputs": [],
   "source": [
    "# Начальные значения\n",
    "a = 0\n",
    "b = 3\n",
    "t_0 = 0\n",
    "T = 4\n",
    "To = 2\n",
    "alpha = [2.5, 1.5]\n",
    "kappa = [0.2, 0.3]"
   ],
   "metadata": {
    "collapsed": false,
    "pycharm": {
     "name": "#%%\n"
    }
   }
  },
  {
   "cell_type": "markdown",
   "source": [
    "Зададим параметры сетки"
   ],
   "metadata": {
    "collapsed": false,
    "pycharm": {
     "name": "#%% md\n"
    }
   }
  },
  {
   "cell_type": "code",
   "execution_count": 24,
   "outputs": [
    {
     "name": "stdout",
     "output_type": "stream",
     "text": [
      ">>> h= 0.03030303, tau= 0.00066678\n",
      ">>> Гиперболический аналог числа куранта: \n",
      " sigma_1 = 0.0726 \n",
      " sigma_2 = 0.1089\n"
     ]
    }
   ],
   "source": [
    "# Число узлов\n",
    "N = 6000\n",
    "M = 100\n",
    "\n",
    "# Размер шага сетки\n",
    "h = (b - a) / (M - 1)\n",
    "tau = (T - t_0) / (N - 1)\n",
    "\n",
    "print(f'>>> {h=: .8f}, {tau=: .8f}')\n",
    "print(f'>>> Гиперболический аналог числа куранта: \\n sigma_1 ={kappa[0] * tau / h ** 2 * 0.5: .4f} \\n sigma_2 ={kappa[1] * tau / h ** 2 * 0.5: .4f}')"
   ],
   "metadata": {
    "collapsed": false,
    "pycharm": {
     "name": "#%%\n"
    }
   }
  },
  {
   "cell_type": "code",
   "execution_count": 25,
   "outputs": [],
   "source": [
    "t = np.linspace(t_0, T, N)\n",
    "x = np.linspace(a, b, M)"
   ],
   "metadata": {
    "collapsed": false,
    "pycharm": {
     "name": "#%%\n"
    }
   }
  },
  {
   "cell_type": "markdown",
   "source": [
    "Инициализируем сетку, начальные и граничные условия"
   ],
   "metadata": {
    "collapsed": false,
    "pycharm": {
     "name": "#%% md\n"
    }
   }
  },
  {
   "cell_type": "code",
   "execution_count": 26,
   "outputs": [],
   "source": [
    "def u_init(x, To):\n",
    "    u = np.zeros(x.size)\n",
    "    for i in range(len(x)):\n",
    "        if x[i] <= 1:\n",
    "            u[i] = To\n",
    "    return u"
   ],
   "metadata": {
    "collapsed": false,
    "pycharm": {
     "name": "#%%\n"
    }
   }
  },
  {
   "cell_type": "code",
   "execution_count": 27,
   "outputs": [],
   "source": [
    "u1 = np.zeros((N, M), dtype=np.double)\n",
    "u1[0, :] = u_init(x, 2)\n",
    "u2 = np.zeros((N, M), dtype=np.double)\n",
    "u2[0, :] = u_init(x, 2)"
   ],
   "metadata": {
    "collapsed": false,
    "pycharm": {
     "name": "#%%\n"
    }
   }
  },
  {
   "cell_type": "markdown",
   "source": [
    "При решении системы уравнений будем делать 10 итераций метода Ньютона"
   ],
   "metadata": {
    "collapsed": false,
    "pycharm": {
     "name": "#%% md\n"
    }
   }
  },
  {
   "cell_type": "code",
   "execution_count": 28,
   "outputs": [
    {
     "data": {
      "text/plain": "  0%|          | 0/5999 [00:00<?, ?it/s]",
      "application/vnd.jupyter.widget-view+json": {
       "version_major": 2,
       "version_minor": 0,
       "model_id": "3021982e571846ad9536cd343e6d4153"
      }
     },
     "metadata": {},
     "output_type": "display_data"
    }
   ],
   "source": [
    "for n in tqdm(range(N - 1)):\n",
    "    u1_sol, u2_sol = newton_solver(u1[n, :], u2[n, :], tau, h, alpha=(2.5, 1.5), kappa=(0.2, 0.3), iter=10)\n",
    "    u1[n + 1, :], u2[n + 1, :] = u1_sol, u2_sol"
   ],
   "metadata": {
    "collapsed": false,
    "pycharm": {
     "name": "#%%\n"
    }
   }
  },
  {
   "cell_type": "markdown",
   "source": [
    "Синим обозначена электронная температура $T_e$, красным обозначена ионная температура. Можно заметить, что ионная волна двигается быстрее (что в целом соотносится с тем, что её коэффициент теплопроводности $\\kappa$ больше)."
   ],
   "metadata": {
    "collapsed": false,
    "pycharm": {
     "name": "#%% md\n"
    }
   }
  },
  {
   "cell_type": "markdown",
   "source": [
    "<img alt=\"SegmentLocal\" height=\"400\" src=\"lab_gifs\\spitz_no_f_block.gif\" title=\"segment\" width=\"600\"/>"
   ],
   "metadata": {
    "collapsed": false,
    "pycharm": {
     "name": "#%% md\n"
    }
   }
  },
  {
   "cell_type": "markdown",
   "source": [
    "## Решение исходной задачи"
   ],
   "metadata": {
    "collapsed": false,
    "pycharm": {
     "name": "#%% md\n"
    }
   }
  },
  {
   "cell_type": "markdown",
   "source": [
    "Реализация метода Ньютона"
   ],
   "metadata": {
    "collapsed": false,
    "pycharm": {
     "name": "#%% md\n"
    }
   }
  },
  {
   "cell_type": "code",
   "execution_count": 38,
   "outputs": [],
   "source": [
    "def newton_solver(u1, u2, tau, h, alpha=(2.5, 1.5), kappa=(0.2, 0.3), iter=10):\n",
    "    u1_s, u2_s = u1, u2\n",
    "    for i in range(iter):\n",
    "        A, B, C, D = make_block_diagonals(u1_s, u2_s, tau, h, u1, u2, alpha=alpha, kappa=kappa, nonhomogen=False)\n",
    "        du = solve_blocks(A, B, C, D)\n",
    "        u1_s = u1_s + du[:, 0]\n",
    "        u2_s = u2_s + du[:, 1]\n",
    "    return u1_s, u2_s"
   ],
   "metadata": {
    "collapsed": false,
    "pycharm": {
     "name": "#%%\n"
    }
   }
  },
  {
   "cell_type": "markdown",
   "source": [
    "Зададим параметры и начальные значения"
   ],
   "metadata": {
    "collapsed": false,
    "pycharm": {
     "name": "#%% md\n"
    }
   }
  },
  {
   "cell_type": "code",
   "execution_count": 23,
   "outputs": [],
   "source": [
    "# Начальные значения\n",
    "a = 0\n",
    "b = 3\n",
    "t_0 = 0\n",
    "T = 4\n",
    "To = 2\n",
    "alpha = [2.5, 1.5]\n",
    "kappa = [0.2, 0.3]"
   ],
   "metadata": {
    "collapsed": false,
    "pycharm": {
     "name": "#%%\n"
    }
   }
  },
  {
   "cell_type": "markdown",
   "source": [
    "Зададим параметры сетки"
   ],
   "metadata": {
    "collapsed": false,
    "pycharm": {
     "name": "#%% md\n"
    }
   }
  },
  {
   "cell_type": "code",
   "execution_count": 39,
   "outputs": [
    {
     "name": "stdout",
     "output_type": "stream",
     "text": [
      ">>> h= 0.03030303, tau= 0.00066678\n",
      ">>> Гиперболический аналог числа куранта: \n",
      " sigma_1 = 0.0726 \n",
      " sigma_2 = 0.1089\n"
     ]
    }
   ],
   "source": [
    "# Число узлов\n",
    "N = 6000\n",
    "M = 100\n",
    "\n",
    "# Размер шага сетки\n",
    "h = (b - a) / (M - 1)\n",
    "tau = (T - t_0) / (N - 1)\n",
    "\n",
    "print(f'>>> {h=: .8f}, {tau=: .8f}')\n",
    "print(f'>>> Гиперболический аналог числа куранта: \\n sigma_1 ={kappa[0] * tau / h ** 2 * 0.5: .4f} \\n sigma_2 ={kappa[1] * tau / h ** 2 * 0.5: .4f}')"
   ],
   "metadata": {
    "collapsed": false,
    "pycharm": {
     "name": "#%%\n"
    }
   }
  },
  {
   "cell_type": "code",
   "execution_count": 40,
   "outputs": [],
   "source": [
    "t = np.linspace(t_0, T, N)\n",
    "x = np.linspace(a, b, M)"
   ],
   "metadata": {
    "collapsed": false,
    "pycharm": {
     "name": "#%%\n"
    }
   }
  },
  {
   "cell_type": "markdown",
   "source": [
    "Инициализируем сетку, начальные и граничные условия"
   ],
   "metadata": {
    "collapsed": false,
    "pycharm": {
     "name": "#%% md\n"
    }
   }
  },
  {
   "cell_type": "code",
   "execution_count": 41,
   "outputs": [],
   "source": [
    "def u_init(x, To):\n",
    "    u = np.zeros(x.size)\n",
    "    for i in range(len(x)):\n",
    "        if x[i] <= 1:\n",
    "            u[i] = To\n",
    "    return u"
   ],
   "metadata": {
    "collapsed": false,
    "pycharm": {
     "name": "#%%\n"
    }
   }
  },
  {
   "cell_type": "code",
   "execution_count": 42,
   "outputs": [],
   "source": [
    "u1 = np.zeros((N, M), dtype=np.double)\n",
    "u1[0, :] = u_init(x, 2)\n",
    "u2 = np.zeros((N, M), dtype=np.double)\n",
    "u2[0, :] = u_init(x, 2)"
   ],
   "metadata": {
    "collapsed": false,
    "pycharm": {
     "name": "#%%\n"
    }
   }
  },
  {
   "cell_type": "code",
   "execution_count": 43,
   "outputs": [
    {
     "data": {
      "text/plain": "{'divide': 'warn', 'over': 'warn', 'under': 'ignore', 'invalid': 'warn'}"
     },
     "execution_count": 43,
     "metadata": {},
     "output_type": "execute_result"
    }
   ],
   "source": [
    "np.seterr(divide='raise', invalid='raise')"
   ],
   "metadata": {
    "collapsed": false,
    "pycharm": {
     "name": "#%%\n"
    }
   }
  },
  {
   "cell_type": "markdown",
   "source": [
    "При решении системы уравнений будем делать 2 итераций метода Ньютона"
   ],
   "metadata": {
    "collapsed": false,
    "pycharm": {
     "name": "#%% md\n"
    }
   }
  },
  {
   "cell_type": "code",
   "execution_count": 44,
   "outputs": [
    {
     "data": {
      "text/plain": "  0%|          | 0/5999 [00:00<?, ?it/s]",
      "application/vnd.jupyter.widget-view+json": {
       "version_major": 2,
       "version_minor": 0,
       "model_id": "85d6a474b29a42ad81e44d714f7cf590"
      }
     },
     "metadata": {},
     "output_type": "display_data"
    }
   ],
   "source": [
    "for n in tqdm(range(N - 1)):\n",
    "    u1_sol, u2_sol = newton_solver(u1[n, :], u2[n, :], tau, h, alpha=(2.5, 1.5), kappa=(0.2, 0.3), iter=2)\n",
    "    u1[n + 1, :], u2[n + 1, :] = u1_sol, u2_sol"
   ],
   "metadata": {
    "collapsed": false,
    "pycharm": {
     "name": "#%%\n"
    }
   }
  },
  {
   "cell_type": "markdown",
   "source": [
    "Синим обозначена электронная температура $T_e$, красным обозначена ионная температура. В отличии от однородного случая без теплообмена обе волны движутся с примерно одинаковой скоростью."
   ],
   "metadata": {
    "collapsed": false,
    "pycharm": {
     "name": "#%% md\n"
    }
   }
  },
  {
   "cell_type": "markdown",
   "source": [
    "<img alt=\"SegmentLocal\" height=\"400\" src=\"lab_gifs\\spitz_with_f.gif\" title=\"segment\" width=\"600\"/>"
   ],
   "metadata": {
    "collapsed": false,
    "pycharm": {
     "name": "#%% md\n"
    }
   }
  }
 ],
 "metadata": {
  "kernelspec": {
   "display_name": "Python 3",
   "language": "python",
   "name": "python3"
  },
  "language_info": {
   "codemirror_mode": {
    "name": "ipython",
    "version": 2
   },
   "file_extension": ".py",
   "mimetype": "text/x-python",
   "name": "python",
   "nbconvert_exporter": "python",
   "pygments_lexer": "ipython2",
   "version": "2.7.6"
  }
 },
 "nbformat": 4,
 "nbformat_minor": 0
}