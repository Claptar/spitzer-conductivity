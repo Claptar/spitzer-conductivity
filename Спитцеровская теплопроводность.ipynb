{
 "cells": [
  {
   "cell_type": "markdown",
   "metadata": {
    "pycharm": {
     "name": "#%% md\n"
    }
   },
   "source": [
    "# Решение спитцеровского уравнения теплопроводности плазмы"
   ]
  },
  {
   "cell_type": "markdown",
   "metadata": {
    "pycharm": {
     "name": "#%% md\n"
    }
   },
   "source": [
    "## Неявная разностная схема с нелинейностью на нижнем слое иднородностью на верхнем\n",
    "\n",
    "Для численного решения задачи будем использовать неявную разностную схему с нелинейностью на нижнем слое\n",
    "\n",
    "$$\n",
    "\\frac{y^{n+1}_{m} - y^{n}_{m}}{\\tau} = \\frac{1}{h}\\left[k^n_{m + 1/2}\\frac{y^{n+1}_{m+1} - y^{n+1}_{m}}{h} - k^n_{m - 1/2}\\frac{y^{n+1}_{m} - y^{n+1}_{m - 1}}{h}\\right] + f^{n + 1}_m\n",
    "$$"
   ]
  },
  {
   "cell_type": "code",
   "execution_count": 20,
   "metadata": {
    "pycharm": {
     "name": "#%%\n"
    }
   },
   "outputs": [],
   "source": [
    "import numpy as np\n",
    "import matplotlib.pyplot as plt\n",
    "from tqdm.notebook import tqdm\n",
    "from matplotlib.pyplot import axes\n",
    "from celluloid import Camera\n",
    "import utils"
   ]
  },
  {
   "cell_type": "code",
   "execution_count": 21,
   "metadata": {
    "pycharm": {
     "name": "#%%\n"
    }
   },
   "outputs": [],
   "source": [
    "def u_init(x, To):\n",
    "    u = np.zeros(x.size)\n",
    "    for i in range(len(x)):\n",
    "        if x[i] <= 1:\n",
    "            u[i] = To\n",
    "    return u"
   ]
  },
  {
   "cell_type": "markdown",
   "metadata": {
    "pycharm": {
     "name": "#%% md\n"
    }
   },
   "source": [
    "### Реализация метода матричной прогонки"
   ]
  },
  {
   "cell_type": "code",
   "execution_count": 22,
   "outputs": [],
   "source": [
    "def k_12(y_m, y_m_1, alpha):\n",
    "    return (y_m ** alpha + y_m_1 ** alpha) / 2"
   ],
   "metadata": {
    "collapsed": false,
    "pycharm": {
     "name": "#%%\n"
    }
   }
  },
  {
   "cell_type": "code",
   "execution_count": 48,
   "metadata": {
    "pycharm": {
     "name": "#%%\n"
    }
   },
   "outputs": [],
   "source": [
    "from numpy.linalg import inv\n",
    "\n",
    "\n",
    "def thomas_block_solver(A, B, C, D):\n",
    "    M = len(D)\n",
    "    u_sol = np.zeros_like(D)\n",
    "    P = np.zeros_like(B)\n",
    "    Q = np.zeros_like(D)\n",
    "    # Forward first coefs\n",
    "    P[0] = inv(B[0]) @ C[0]\n",
    "    Q[0] = - inv(B[0]) @ D[0]\n",
    "    # Forward coefs\n",
    "    for m in range(1, M - 1):\n",
    "        inv_denom = inv(B[m] - A[m - 1] @ P[m - 1])\n",
    "        P[m] = inv_denom @ C[m]\n",
    "        Q[m] = inv_denom @ (A[m - 1] @ Q[m - 1] - D[m])\n",
    "    #Forward last\n",
    "    m = M - 1\n",
    "    Q[m] = inv(B[m] - A[m - 1] @ P[m - 1]) @ (A[m - 1] @ Q[m - 1] - D[m])\n",
    "\n",
    "    u_sol[-1] = Q[-1]\n",
    "    for m in range(M - 1, -1, -1):\n",
    "        u_sol[m - 1] = P[m - 1] @ u_sol[m] + Q[m - 1]\n",
    "\n",
    "    return u_sol"
   ]
  },
  {
   "cell_type": "code",
   "execution_count": 49,
   "outputs": [],
   "source": [
    "def make_block_zero(u1, u2, tau, sigma, u1_init, u2_init, alpha=(2.5, 1.5)):\n",
    "    m = 0\n",
    "    C = np.diagflat([sigma[0] * k_12(u1[m], u1[m + 1], alpha[0]), sigma[1] * k_12(u2[m], u2[m + 1], alpha[1])])\n",
    "    b_f1 = tau * (2 * u1_init[m] * u2_init[m] - u2_init[m] ** 2) / u1_init[m] ** 4\n",
    "    b_f2 = tau / u1_init[m] ** 2\n",
    "    B = np.eye(2) + C + np.array([[b_f1, -b_f2], [-b_f1, b_f2]])\n",
    "    d1 = u1_init[m] - u1[m] - C[0, 0] * (u1_init[m + 1] - u1_init[m]) + tau * (u1_init[m] - u2_init[m]) / u1_init[m] ** 2\n",
    "    d2 = u2_init[m] - u2[m] - C[1, 1] * (u2_init[m + 1] - u2_init[m]) - tau * (u1_init[m] - u2_init[m]) / u1_init[m] ** 2\n",
    "    D = np.array([d1, d2])\n",
    "    return B, C, D"
   ],
   "metadata": {
    "collapsed": false,
    "pycharm": {
     "name": "#%%\n"
    }
   }
  },
  {
   "cell_type": "code",
   "execution_count": 110,
   "outputs": [],
   "source": [
    "def make_block(u1, u2, m, tau, sigma, u1_init, u2_init, alpha=(2.5, 1.5)):\n",
    "    krit_T = 1e-5\n",
    "    A = np.diagflat([sigma[0] * k_12(u1[m], u1[m - 1], alpha[0]), sigma[1] * k_12(u2[m], u2[m - 1], alpha[1])])\n",
    "    C = np.diagflat([sigma[0] * k_12(u1[m], u1[m + 1], alpha[0]), sigma[1] * k_12(u2[m], u2[m + 1], alpha[1])])\n",
    "    b_f1 = tau * (2 * u1_init[m] * u2_init[m] - u2_init[m] ** 2) / u1_init[m] ** 4 if u1_init[m] >= krit_T else 0\n",
    "    b_f2 = tau / u1_init[m] ** 2 if u1_init[m] >= krit_T else 0\n",
    "    B = np.eye(2) + A + C + np.array([[b_f1, -b_f2], [-b_f1, b_f2]])\n",
    "    d1_f = tau * (u1_init[m] - u2_init[m]) / u1_init[m] ** 2 if u1_init[m] >= krit_T else 0\n",
    "    d1 = u1_init[m] - u1[m] - C[0, 0] * (u1_init[m + 1] - u1_init[m]) + A[0, 0] * (u1_init[m] - u1_init[m - 1]) + d1_f\n",
    "    d2_f = tau * (u1_init[m] - u2_init[m]) / u1_init[m] ** 2 if u1_init[m] >= krit_T else 0\n",
    "    d2 = u2_init[m] - u2[m] - C[1, 1] * (u2_init[m + 1] - u2_init[m]) + A[1, 1] * (u2_init[m] - u2_init[m - 1]) - d2_f\n",
    "    D = np.array([d1, d2])\n",
    "    return A, B, C, D"
   ],
   "metadata": {
    "collapsed": false,
    "pycharm": {
     "name": "#%%\n"
    }
   }
  },
  {
   "cell_type": "code",
   "execution_count": 111,
   "outputs": [],
   "source": [
    "def make_block_diagonals(u1, u2, tau, h, u1_init, u2_init, alpha=(2.5, 1.5), kappa=(0.2, 0.3)):\n",
    "    M = len(u1)\n",
    "    A = np.zeros((M - 1, 2, 2))\n",
    "    B = np.zeros((M, 2, 2))\n",
    "    C = np.zeros((M - 1, 2, 2))\n",
    "    D = np.zeros((M, 2))\n",
    "    sigma = np.array(kappa) * tau / h ** 2\n",
    "    # first row\n",
    "    B[0], C[0], D[0] = make_block_zero(u1, u2, tau, sigma, u1_init, u2_init, alpha=(2.5, 1.5))\n",
    "    # rows m = 1, ..., M - 2\n",
    "    for m in range(1, M - 1):\n",
    "        A[m], B[m], C[m], D[m] = make_block(u1, u2, m, tau, sigma, u1_init, u2_init, alpha=alpha)\n",
    "    # last row\n",
    "    B[M - 1] = np.eye(2)\n",
    "    return A, B, C, D"
   ],
   "metadata": {
    "collapsed": false,
    "pycharm": {
     "name": "#%%\n"
    }
   }
  },
  {
   "cell_type": "code",
   "execution_count": 112,
   "outputs": [],
   "source": [
    "def newton_solver(u1, u2, tau, h, u1_init, u2_init, alpha=(2.5, 1.5), kappa=(0.2, 0.3), iter=10):\n",
    "    for i in range(iter):\n",
    "        A, B, C, D = make_block_diagonals(u1, u2, tau, h, u1_init, u2_init, alpha=alpha, kappa=kappa)\n",
    "        du = thomas_block_solver(A, B, C, D)\n",
    "        u1_init = u1_init + du[:, 0]\n",
    "        u2_init = u2_init + du[:, 0]\n",
    "    return u1_init, u2_init"
   ],
   "metadata": {
    "collapsed": false,
    "pycharm": {
     "name": "#%%\n"
    }
   }
  },
  {
   "cell_type": "markdown",
   "metadata": {
    "pycharm": {
     "name": "#%% md\n"
    }
   },
   "source": [
    "#### Применение метода"
   ]
  },
  {
   "cell_type": "code",
   "execution_count": 113,
   "metadata": {
    "pycharm": {
     "name": "#%%\n"
    }
   },
   "outputs": [],
   "source": [
    "# Начальные значения\n",
    "a = 0\n",
    "b = 4\n",
    "t_0 = 0\n",
    "T = 0.01\n",
    "To = 2"
   ]
  },
  {
   "cell_type": "code",
   "execution_count": 114,
   "metadata": {
    "pycharm": {
     "name": "#%%\n"
    }
   },
   "outputs": [
    {
     "name": "stdout",
     "output_type": "stream",
     "text": [
      "h=0.020100502512562814, tau= 0.00000100\n",
      "sigma =  0.0012\n"
     ]
    }
   ],
   "source": [
    "# Число узлов\n",
    "N = 10000\n",
    "M = 200\n",
    "\n",
    "# Размер шага сетки\n",
    "h = (b - a) / (M - 1)\n",
    "tau = (T - t_0) / (N - 1)\n",
    "print(f'{h=}, {tau=: .8f}')\n",
    "\n",
    "print(f'sigma = {tau / h ** 2 * 0.5: .4f}')"
   ]
  },
  {
   "cell_type": "code",
   "execution_count": 115,
   "metadata": {
    "pycharm": {
     "name": "#%%\n"
    }
   },
   "outputs": [],
   "source": [
    "t = np.linspace(t_0, T, N)\n",
    "x = np.linspace(a, b, M)"
   ]
  },
  {
   "cell_type": "code",
   "execution_count": 116,
   "metadata": {
    "pycharm": {
     "name": "#%%\n"
    }
   },
   "outputs": [],
   "source": [
    "u1 = np.zeros((N + 1, M), dtype=np.double)\n",
    "u1[0, :] = u_init(x, 2)\n",
    "\n",
    "u2 = np.zeros((N + 1, M), dtype=np.double)\n",
    "u2[0, :] = u_init(x, 2)"
   ]
  },
  {
   "cell_type": "code",
   "execution_count": 117,
   "metadata": {
    "pycharm": {
     "name": "#%%\n"
    }
   },
   "outputs": [
    {
     "data": {
      "text/plain": "  0%|          | 0/5 [00:00<?, ?it/s]",
      "application/vnd.jupyter.widget-view+json": {
       "version_major": 2,
       "version_minor": 0,
       "model_id": "61f036576ca042fdacb1042ea24bd786"
      }
     },
     "metadata": {},
     "output_type": "display_data"
    },
    {
     "name": "stderr",
     "output_type": "stream",
     "text": [
      "C:\\Users\\aleks\\AppData\\Local\\Temp\\ipykernel_1608\\445448729.py:2: RuntimeWarning: invalid value encountered in double_scalars\n",
      "  return (y_m ** alpha + y_m_1 ** alpha) / 2\n"
     ]
    }
   ],
   "source": [
    "for n in tqdm(range(5)):\n",
    "    u1_sol, u2_sol = newton_solver(u1[n, :], u2[n, :], tau, h, u1[n, :], u2[n, :], alpha=(2.5, 1.5), kappa=(0.2, 0.3), iter=20)\n",
    "    u1[n + 1, :], u2[n + 1, :] = u1_sol, u2_sol"
   ]
  },
  {
   "cell_type": "code",
   "execution_count": 118,
   "outputs": [
    {
     "data": {
      "text/plain": "array([[ 2.00000000e+00,  2.00000000e+00,  2.00000000e+00,\n         2.00000000e+00,  2.00000000e+00,  2.00000000e+00,\n         2.00000000e+00,  2.00000000e+00,  2.00000000e+00,\n         2.00000000e+00,  2.00000000e+00,  2.00000000e+00,\n         2.00000000e+00,  2.00000000e+00,  2.00000000e+00,\n         2.00000000e+00,  2.00000000e+00,  2.00000000e+00,\n         2.00000000e+00,  2.00000000e+00,  2.00000000e+00,\n         2.00000000e+00,  2.00000000e+00,  2.00000000e+00,\n         2.00000000e+00,  2.00000000e+00,  2.00000000e+00,\n         2.00000000e+00,  2.00000000e+00,  2.00000000e+00,\n         2.00000000e+00,  2.00000000e+00,  2.00000000e+00,\n         2.00000000e+00,  2.00000000e+00,  2.00000000e+00,\n         2.00000000e+00,  2.00000000e+00,  2.00000000e+00,\n         2.00000000e+00,  2.00000000e+00,  2.00000000e+00,\n         2.00000000e+00,  2.00000000e+00,  2.00000000e+00,\n         2.00000000e+00,  2.00000000e+00,  2.00000000e+00,\n         2.00000000e+00,  2.00000000e+00,  0.00000000e+00,\n         0.00000000e+00,  0.00000000e+00,  0.00000000e+00,\n         0.00000000e+00,  0.00000000e+00,  0.00000000e+00,\n         0.00000000e+00,  0.00000000e+00,  0.00000000e+00,\n         0.00000000e+00,  0.00000000e+00,  0.00000000e+00,\n         0.00000000e+00,  0.00000000e+00,  0.00000000e+00,\n         0.00000000e+00,  0.00000000e+00,  0.00000000e+00,\n         0.00000000e+00,  0.00000000e+00,  0.00000000e+00,\n         0.00000000e+00,  0.00000000e+00,  0.00000000e+00,\n         0.00000000e+00,  0.00000000e+00,  0.00000000e+00,\n         0.00000000e+00,  0.00000000e+00,  0.00000000e+00,\n         0.00000000e+00,  0.00000000e+00,  0.00000000e+00,\n         0.00000000e+00,  0.00000000e+00,  0.00000000e+00,\n         0.00000000e+00,  0.00000000e+00,  0.00000000e+00,\n         0.00000000e+00,  0.00000000e+00,  0.00000000e+00,\n         0.00000000e+00,  0.00000000e+00,  0.00000000e+00,\n         0.00000000e+00,  0.00000000e+00,  0.00000000e+00,\n         0.00000000e+00,  0.00000000e+00,  0.00000000e+00,\n         0.00000000e+00,  0.00000000e+00,  0.00000000e+00,\n         0.00000000e+00,  0.00000000e+00,  0.00000000e+00,\n         0.00000000e+00,  0.00000000e+00,  0.00000000e+00,\n         0.00000000e+00,  0.00000000e+00,  0.00000000e+00,\n         0.00000000e+00,  0.00000000e+00,  0.00000000e+00,\n         0.00000000e+00,  0.00000000e+00,  0.00000000e+00,\n         0.00000000e+00,  0.00000000e+00,  0.00000000e+00,\n         0.00000000e+00,  0.00000000e+00,  0.00000000e+00,\n         0.00000000e+00,  0.00000000e+00,  0.00000000e+00,\n         0.00000000e+00,  0.00000000e+00,  0.00000000e+00,\n         0.00000000e+00,  0.00000000e+00,  0.00000000e+00,\n         0.00000000e+00,  0.00000000e+00,  0.00000000e+00,\n         0.00000000e+00,  0.00000000e+00,  0.00000000e+00,\n         0.00000000e+00,  0.00000000e+00,  0.00000000e+00,\n         0.00000000e+00,  0.00000000e+00,  0.00000000e+00,\n         0.00000000e+00,  0.00000000e+00,  0.00000000e+00,\n         0.00000000e+00,  0.00000000e+00,  0.00000000e+00,\n         0.00000000e+00,  0.00000000e+00,  0.00000000e+00,\n         0.00000000e+00,  0.00000000e+00,  0.00000000e+00,\n         0.00000000e+00,  0.00000000e+00,  0.00000000e+00,\n         0.00000000e+00,  0.00000000e+00,  0.00000000e+00,\n         0.00000000e+00,  0.00000000e+00,  0.00000000e+00,\n         0.00000000e+00,  0.00000000e+00,  0.00000000e+00,\n         0.00000000e+00,  0.00000000e+00,  0.00000000e+00,\n         0.00000000e+00,  0.00000000e+00,  0.00000000e+00,\n         0.00000000e+00,  0.00000000e+00,  0.00000000e+00,\n         0.00000000e+00,  0.00000000e+00,  0.00000000e+00,\n         0.00000000e+00,  0.00000000e+00,  0.00000000e+00,\n         0.00000000e+00,  0.00000000e+00,  0.00000000e+00,\n         0.00000000e+00,  0.00000000e+00,  0.00000000e+00,\n         0.00000000e+00,  0.00000000e+00,  0.00000000e+00,\n         0.00000000e+00,  0.00000000e+00,  0.00000000e+00,\n         0.00000000e+00,  0.00000000e+00],\n       [ 2.00000000e+00,  2.00000000e+00,  2.00000000e+00,\n         2.00000000e+00,  2.00000000e+00,  2.00000000e+00,\n         2.00000000e+00,  2.00000000e+00,  2.00000000e+00,\n         2.00000000e+00,  2.00000000e+00,  2.00000000e+00,\n         2.00000000e+00,  2.00000000e+00,  2.00000000e+00,\n         2.00000000e+00,  2.00000000e+00,  2.00000000e+00,\n         2.00000000e+00,  2.00000000e+00,  2.00000000e+00,\n         2.00000000e+00,  2.00000000e+00,  2.00000000e+00,\n         2.00000000e+00,  2.00000000e+00,  2.00000000e+00,\n         2.00000000e+00,  2.00000000e+00,  2.00000000e+00,\n         2.00000000e+00,  2.00000000e+00,  2.00000000e+00,\n         2.00000000e+00,  2.00000000e+00,  2.00000000e+00,\n         2.00000000e+00,  2.00000000e+00,  2.00000000e+00,\n         2.00000000e+00,  2.00000000e+00,  2.00000000e+00,\n         2.00000000e+00,  2.00000000e+00,  2.00000000e+00,\n         2.00000000e+00,  2.00000000e+00,  1.99999998e+00,\n         1.99999224e+00,  1.99721499e+00,  2.71865072e-03,\n        -1.32838180e-22,  0.00000000e+00,  0.00000000e+00,\n         0.00000000e+00,  0.00000000e+00,  0.00000000e+00,\n         0.00000000e+00,  0.00000000e+00,  0.00000000e+00,\n         0.00000000e+00,  0.00000000e+00,  0.00000000e+00,\n         0.00000000e+00,  0.00000000e+00,  0.00000000e+00,\n         0.00000000e+00,  0.00000000e+00,  0.00000000e+00,\n         0.00000000e+00,  0.00000000e+00,  0.00000000e+00,\n         0.00000000e+00,  0.00000000e+00,  0.00000000e+00,\n         0.00000000e+00,  0.00000000e+00,  0.00000000e+00,\n         0.00000000e+00,  0.00000000e+00,  0.00000000e+00,\n         0.00000000e+00,  0.00000000e+00,  0.00000000e+00,\n         0.00000000e+00,  0.00000000e+00,  0.00000000e+00,\n         0.00000000e+00,  0.00000000e+00,  0.00000000e+00,\n         0.00000000e+00,  0.00000000e+00,  0.00000000e+00,\n         0.00000000e+00,  0.00000000e+00,  0.00000000e+00,\n         0.00000000e+00,  0.00000000e+00,  0.00000000e+00,\n         0.00000000e+00,  0.00000000e+00,  0.00000000e+00,\n         0.00000000e+00,  0.00000000e+00,  0.00000000e+00,\n         0.00000000e+00,  0.00000000e+00,  0.00000000e+00,\n         0.00000000e+00,  0.00000000e+00,  0.00000000e+00,\n         0.00000000e+00,  0.00000000e+00,  0.00000000e+00,\n         0.00000000e+00,  0.00000000e+00,  0.00000000e+00,\n         0.00000000e+00,  0.00000000e+00,  0.00000000e+00,\n         0.00000000e+00,  0.00000000e+00,  0.00000000e+00,\n         0.00000000e+00,  0.00000000e+00,  0.00000000e+00,\n         0.00000000e+00,  0.00000000e+00,  0.00000000e+00,\n         0.00000000e+00,  0.00000000e+00,  0.00000000e+00,\n         0.00000000e+00,  0.00000000e+00,  0.00000000e+00,\n         0.00000000e+00,  0.00000000e+00,  0.00000000e+00,\n         0.00000000e+00,  0.00000000e+00,  0.00000000e+00,\n         0.00000000e+00,  0.00000000e+00,  0.00000000e+00,\n         0.00000000e+00,  0.00000000e+00,  0.00000000e+00,\n         0.00000000e+00,  0.00000000e+00,  0.00000000e+00,\n         0.00000000e+00,  0.00000000e+00,  0.00000000e+00,\n         0.00000000e+00,  0.00000000e+00,  0.00000000e+00,\n         0.00000000e+00,  0.00000000e+00,  0.00000000e+00,\n         0.00000000e+00,  0.00000000e+00,  0.00000000e+00,\n         0.00000000e+00,  0.00000000e+00,  0.00000000e+00,\n         0.00000000e+00,  0.00000000e+00,  0.00000000e+00,\n         0.00000000e+00,  0.00000000e+00,  0.00000000e+00,\n         0.00000000e+00,  0.00000000e+00,  0.00000000e+00,\n         0.00000000e+00,  0.00000000e+00,  0.00000000e+00,\n         0.00000000e+00,  0.00000000e+00,  0.00000000e+00,\n         0.00000000e+00,  0.00000000e+00,  0.00000000e+00,\n         0.00000000e+00,  0.00000000e+00,  0.00000000e+00,\n         0.00000000e+00,  0.00000000e+00,  0.00000000e+00,\n         0.00000000e+00,  0.00000000e+00,  0.00000000e+00,\n         0.00000000e+00,  0.00000000e+00,  0.00000000e+00,\n         0.00000000e+00,  0.00000000e+00,  0.00000000e+00,\n         0.00000000e+00,  0.00000000e+00],\n       [            nan,             nan,             nan,\n                    nan,             nan,             nan,\n                    nan,             nan,             nan,\n                    nan,             nan,             nan,\n                    nan,             nan,             nan,\n                    nan,             nan,             nan,\n                    nan,             nan,             nan,\n                    nan,             nan,             nan,\n                    nan,             nan,             nan,\n                    nan,             nan,             nan,\n                    nan,             nan,             nan,\n                    nan,             nan,             nan,\n                    nan,             nan,             nan,\n                    nan,             nan,             nan,\n                    nan,             nan,             nan,\n                    nan,             nan,             nan,\n                    nan,             nan,             nan,\n                    nan,             nan,             nan,\n                    nan,             nan,             nan,\n                    nan,             nan,             nan,\n                    nan,             nan,             nan,\n                    nan,             nan,             nan,\n                    nan,             nan,             nan,\n                    nan,             nan,             nan,\n                    nan,             nan,             nan,\n                    nan,             nan,             nan,\n                    nan,             nan,             nan,\n                    nan,             nan,             nan,\n                    nan,             nan,             nan,\n                    nan,             nan,             nan,\n                    nan,             nan,             nan,\n                    nan,             nan,             nan,\n                    nan,             nan,             nan,\n                    nan,             nan,             nan,\n                    nan,             nan,             nan,\n                    nan,             nan,             nan,\n                    nan,             nan,             nan,\n                    nan,             nan,             nan,\n                    nan,             nan,             nan,\n                    nan,             nan,             nan,\n                    nan,             nan,             nan,\n                    nan,             nan,             nan,\n                    nan,             nan,             nan,\n                    nan,             nan,             nan,\n                    nan,             nan,             nan,\n                    nan,             nan,             nan,\n                    nan,             nan,             nan,\n                    nan,             nan,             nan,\n                    nan,             nan,             nan,\n                    nan,             nan,             nan,\n                    nan,             nan,             nan,\n                    nan,             nan,             nan,\n                    nan,             nan,             nan,\n                    nan,             nan,             nan,\n                    nan,             nan,             nan,\n                    nan,             nan,             nan,\n                    nan,             nan,             nan,\n                    nan,             nan,             nan,\n                    nan,             nan,             nan,\n                    nan,             nan,             nan,\n                    nan,             nan,             nan,\n                    nan,             nan,             nan,\n                    nan,             nan,             nan,\n                    nan,             nan,             nan,\n                    nan,             nan,             nan,\n                    nan,             nan,             nan,\n                    nan,             nan],\n       [            nan,             nan,             nan,\n                    nan,             nan,             nan,\n                    nan,             nan,             nan,\n                    nan,             nan,             nan,\n                    nan,             nan,             nan,\n                    nan,             nan,             nan,\n                    nan,             nan,             nan,\n                    nan,             nan,             nan,\n                    nan,             nan,             nan,\n                    nan,             nan,             nan,\n                    nan,             nan,             nan,\n                    nan,             nan,             nan,\n                    nan,             nan,             nan,\n                    nan,             nan,             nan,\n                    nan,             nan,             nan,\n                    nan,             nan,             nan,\n                    nan,             nan,             nan,\n                    nan,             nan,             nan,\n                    nan,             nan,             nan,\n                    nan,             nan,             nan,\n                    nan,             nan,             nan,\n                    nan,             nan,             nan,\n                    nan,             nan,             nan,\n                    nan,             nan,             nan,\n                    nan,             nan,             nan,\n                    nan,             nan,             nan,\n                    nan,             nan,             nan,\n                    nan,             nan,             nan,\n                    nan,             nan,             nan,\n                    nan,             nan,             nan,\n                    nan,             nan,             nan,\n                    nan,             nan,             nan,\n                    nan,             nan,             nan,\n                    nan,             nan,             nan,\n                    nan,             nan,             nan,\n                    nan,             nan,             nan,\n                    nan,             nan,             nan,\n                    nan,             nan,             nan,\n                    nan,             nan,             nan,\n                    nan,             nan,             nan,\n                    nan,             nan,             nan,\n                    nan,             nan,             nan,\n                    nan,             nan,             nan,\n                    nan,             nan,             nan,\n                    nan,             nan,             nan,\n                    nan,             nan,             nan,\n                    nan,             nan,             nan,\n                    nan,             nan,             nan,\n                    nan,             nan,             nan,\n                    nan,             nan,             nan,\n                    nan,             nan,             nan,\n                    nan,             nan,             nan,\n                    nan,             nan,             nan,\n                    nan,             nan,             nan,\n                    nan,             nan,             nan,\n                    nan,             nan,             nan,\n                    nan,             nan,             nan,\n                    nan,             nan,             nan,\n                    nan,             nan,             nan,\n                    nan,             nan,             nan,\n                    nan,             nan,             nan,\n                    nan,             nan,             nan,\n                    nan,             nan,             nan,\n                    nan,             nan,             nan,\n                    nan,             nan,             nan,\n                    nan,             nan,             nan,\n                    nan,             nan],\n       [            nan,             nan,             nan,\n                    nan,             nan,             nan,\n                    nan,             nan,             nan,\n                    nan,             nan,             nan,\n                    nan,             nan,             nan,\n                    nan,             nan,             nan,\n                    nan,             nan,             nan,\n                    nan,             nan,             nan,\n                    nan,             nan,             nan,\n                    nan,             nan,             nan,\n                    nan,             nan,             nan,\n                    nan,             nan,             nan,\n                    nan,             nan,             nan,\n                    nan,             nan,             nan,\n                    nan,             nan,             nan,\n                    nan,             nan,             nan,\n                    nan,             nan,             nan,\n                    nan,             nan,             nan,\n                    nan,             nan,             nan,\n                    nan,             nan,             nan,\n                    nan,             nan,             nan,\n                    nan,             nan,             nan,\n                    nan,             nan,             nan,\n                    nan,             nan,             nan,\n                    nan,             nan,             nan,\n                    nan,             nan,             nan,\n                    nan,             nan,             nan,\n                    nan,             nan,             nan,\n                    nan,             nan,             nan,\n                    nan,             nan,             nan,\n                    nan,             nan,             nan,\n                    nan,             nan,             nan,\n                    nan,             nan,             nan,\n                    nan,             nan,             nan,\n                    nan,             nan,             nan,\n                    nan,             nan,             nan,\n                    nan,             nan,             nan,\n                    nan,             nan,             nan,\n                    nan,             nan,             nan,\n                    nan,             nan,             nan,\n                    nan,             nan,             nan,\n                    nan,             nan,             nan,\n                    nan,             nan,             nan,\n                    nan,             nan,             nan,\n                    nan,             nan,             nan,\n                    nan,             nan,             nan,\n                    nan,             nan,             nan,\n                    nan,             nan,             nan,\n                    nan,             nan,             nan,\n                    nan,             nan,             nan,\n                    nan,             nan,             nan,\n                    nan,             nan,             nan,\n                    nan,             nan,             nan,\n                    nan,             nan,             nan,\n                    nan,             nan,             nan,\n                    nan,             nan,             nan,\n                    nan,             nan,             nan,\n                    nan,             nan,             nan,\n                    nan,             nan,             nan,\n                    nan,             nan,             nan,\n                    nan,             nan,             nan,\n                    nan,             nan,             nan,\n                    nan,             nan,             nan,\n                    nan,             nan,             nan,\n                    nan,             nan,             nan,\n                    nan,             nan,             nan,\n                    nan,             nan]])"
     },
     "execution_count": 118,
     "metadata": {},
     "output_type": "execute_result"
    }
   ],
   "source": [
    "u1[:5, :]"
   ],
   "metadata": {
    "collapsed": false,
    "pycharm": {
     "name": "#%%\n"
    }
   }
  },
  {
   "cell_type": "code",
   "execution_count": 67,
   "outputs": [
    {
     "data": {
      "text/plain": "array([[ 2.00000000e+00,  2.00000000e+00,  2.00000000e+00,\n         2.00000000e+00,  2.00000000e+00,  2.00000000e+00,\n         2.00000000e+00,  2.00000000e+00,  2.00000000e+00,\n         2.00000000e+00,  2.00000000e+00,  2.00000000e+00,\n         2.00000000e+00,  2.00000000e+00,  2.00000000e+00,\n         2.00000000e+00,  2.00000000e+00,  2.00000000e+00,\n         2.00000000e+00,  2.00000000e+00,  2.00000000e+00,\n         2.00000000e+00,  2.00000000e+00,  2.00000000e+00,\n         2.00000000e+00,  2.00000000e+00,  2.00000000e+00,\n         2.00000000e+00,  2.00000000e+00,  2.00000000e+00,\n         2.00000000e+00,  2.00000000e+00,  2.00000000e+00,\n         2.00000000e+00,  2.00000000e+00,  2.00000000e+00,\n         2.00000000e+00,  2.00000000e+00,  2.00000000e+00,\n         2.00000000e+00,  2.00000000e+00,  2.00000000e+00,\n         2.00000000e+00,  2.00000000e+00,  2.00000000e+00,\n         2.00000000e+00,  2.00000000e+00,  2.00000000e+00,\n         2.00000000e+00,  2.00000000e+00,  0.00000000e+00,\n         0.00000000e+00,  0.00000000e+00,  0.00000000e+00,\n         0.00000000e+00,  0.00000000e+00,  0.00000000e+00,\n         0.00000000e+00,  0.00000000e+00,  0.00000000e+00,\n         0.00000000e+00,  0.00000000e+00,  0.00000000e+00,\n         0.00000000e+00,  0.00000000e+00,  0.00000000e+00,\n         0.00000000e+00,  0.00000000e+00,  0.00000000e+00,\n         0.00000000e+00,  0.00000000e+00,  0.00000000e+00,\n         0.00000000e+00,  0.00000000e+00,  0.00000000e+00,\n         0.00000000e+00,  0.00000000e+00,  0.00000000e+00,\n         0.00000000e+00,  0.00000000e+00,  0.00000000e+00,\n         0.00000000e+00,  0.00000000e+00,  0.00000000e+00,\n         0.00000000e+00,  0.00000000e+00,  0.00000000e+00,\n         0.00000000e+00,  0.00000000e+00,  0.00000000e+00,\n         0.00000000e+00,  0.00000000e+00,  0.00000000e+00,\n         0.00000000e+00,  0.00000000e+00,  0.00000000e+00,\n         0.00000000e+00,  0.00000000e+00,  0.00000000e+00,\n         0.00000000e+00,  0.00000000e+00,  0.00000000e+00,\n         0.00000000e+00,  0.00000000e+00,  0.00000000e+00,\n         0.00000000e+00,  0.00000000e+00,  0.00000000e+00,\n         0.00000000e+00,  0.00000000e+00,  0.00000000e+00,\n         0.00000000e+00,  0.00000000e+00,  0.00000000e+00,\n         0.00000000e+00,  0.00000000e+00,  0.00000000e+00,\n         0.00000000e+00,  0.00000000e+00,  0.00000000e+00,\n         0.00000000e+00,  0.00000000e+00,  0.00000000e+00,\n         0.00000000e+00,  0.00000000e+00,  0.00000000e+00,\n         0.00000000e+00,  0.00000000e+00,  0.00000000e+00,\n         0.00000000e+00,  0.00000000e+00,  0.00000000e+00,\n         0.00000000e+00,  0.00000000e+00,  0.00000000e+00,\n         0.00000000e+00,  0.00000000e+00,  0.00000000e+00,\n         0.00000000e+00,  0.00000000e+00,  0.00000000e+00,\n         0.00000000e+00,  0.00000000e+00,  0.00000000e+00,\n         0.00000000e+00,  0.00000000e+00,  0.00000000e+00,\n         0.00000000e+00,  0.00000000e+00,  0.00000000e+00,\n         0.00000000e+00,  0.00000000e+00,  0.00000000e+00,\n         0.00000000e+00,  0.00000000e+00,  0.00000000e+00,\n         0.00000000e+00,  0.00000000e+00,  0.00000000e+00,\n         0.00000000e+00,  0.00000000e+00,  0.00000000e+00,\n         0.00000000e+00,  0.00000000e+00,  0.00000000e+00,\n         0.00000000e+00,  0.00000000e+00,  0.00000000e+00,\n         0.00000000e+00,  0.00000000e+00,  0.00000000e+00,\n         0.00000000e+00,  0.00000000e+00,  0.00000000e+00,\n         0.00000000e+00,  0.00000000e+00,  0.00000000e+00,\n         0.00000000e+00,  0.00000000e+00,  0.00000000e+00,\n         0.00000000e+00,  0.00000000e+00,  0.00000000e+00,\n         0.00000000e+00,  0.00000000e+00,  0.00000000e+00,\n         0.00000000e+00,  0.00000000e+00,  0.00000000e+00,\n         0.00000000e+00,  0.00000000e+00,  0.00000000e+00,\n         0.00000000e+00,  0.00000000e+00,  0.00000000e+00,\n         0.00000000e+00,  0.00000000e+00,  0.00000000e+00,\n         0.00000000e+00,  0.00000000e+00],\n       [ 2.00000000e+00,  2.00000000e+00,  2.00000000e+00,\n         2.00000000e+00,  2.00000000e+00,  2.00000000e+00,\n         2.00000000e+00,  2.00000000e+00,  2.00000000e+00,\n         2.00000000e+00,  2.00000000e+00,  2.00000000e+00,\n         2.00000000e+00,  2.00000000e+00,  2.00000000e+00,\n         2.00000000e+00,  2.00000000e+00,  2.00000000e+00,\n         2.00000000e+00,  2.00000000e+00,  2.00000000e+00,\n         2.00000000e+00,  2.00000000e+00,  2.00000000e+00,\n         2.00000000e+00,  2.00000000e+00,  2.00000000e+00,\n         2.00000000e+00,  2.00000000e+00,  2.00000000e+00,\n         2.00000000e+00,  2.00000000e+00,  2.00000000e+00,\n         2.00000000e+00,  2.00000000e+00,  2.00000000e+00,\n         2.00000000e+00,  2.00000000e+00,  2.00000000e+00,\n         2.00000000e+00,  2.00000000e+00,  2.00000000e+00,\n         2.00000000e+00,  2.00000000e+00,  2.00000000e+00,\n         2.00000000e+00,  2.00000000e+00,  1.99999990e+00,\n         1.99997861e+00,  1.99537514e+00,  4.56669552e-03,\n        -8.72163510e-07,  0.00000000e+00,  0.00000000e+00,\n         0.00000000e+00,  0.00000000e+00,  0.00000000e+00,\n         0.00000000e+00,  0.00000000e+00,  0.00000000e+00,\n         0.00000000e+00,  0.00000000e+00,  0.00000000e+00,\n         0.00000000e+00,  0.00000000e+00,  0.00000000e+00,\n         0.00000000e+00,  0.00000000e+00,  0.00000000e+00,\n         0.00000000e+00,  0.00000000e+00,  0.00000000e+00,\n         0.00000000e+00,  0.00000000e+00,  0.00000000e+00,\n         0.00000000e+00,  0.00000000e+00,  0.00000000e+00,\n         0.00000000e+00,  0.00000000e+00,  0.00000000e+00,\n         0.00000000e+00,  0.00000000e+00,  0.00000000e+00,\n         0.00000000e+00,  0.00000000e+00,  0.00000000e+00,\n         0.00000000e+00,  0.00000000e+00,  0.00000000e+00,\n         0.00000000e+00,  0.00000000e+00,  0.00000000e+00,\n         0.00000000e+00,  0.00000000e+00,  0.00000000e+00,\n         0.00000000e+00,  0.00000000e+00,  0.00000000e+00,\n         0.00000000e+00,  0.00000000e+00,  0.00000000e+00,\n         0.00000000e+00,  0.00000000e+00,  0.00000000e+00,\n         0.00000000e+00,  0.00000000e+00,  0.00000000e+00,\n         0.00000000e+00,  0.00000000e+00,  0.00000000e+00,\n         0.00000000e+00,  0.00000000e+00,  0.00000000e+00,\n         0.00000000e+00,  0.00000000e+00,  0.00000000e+00,\n         0.00000000e+00,  0.00000000e+00,  0.00000000e+00,\n         0.00000000e+00,  0.00000000e+00,  0.00000000e+00,\n         0.00000000e+00,  0.00000000e+00,  0.00000000e+00,\n         0.00000000e+00,  0.00000000e+00,  0.00000000e+00,\n         0.00000000e+00,  0.00000000e+00,  0.00000000e+00,\n         0.00000000e+00,  0.00000000e+00,  0.00000000e+00,\n         0.00000000e+00,  0.00000000e+00,  0.00000000e+00,\n         0.00000000e+00,  0.00000000e+00,  0.00000000e+00,\n         0.00000000e+00,  0.00000000e+00,  0.00000000e+00,\n         0.00000000e+00,  0.00000000e+00,  0.00000000e+00,\n         0.00000000e+00,  0.00000000e+00,  0.00000000e+00,\n         0.00000000e+00,  0.00000000e+00,  0.00000000e+00,\n         0.00000000e+00,  0.00000000e+00,  0.00000000e+00,\n         0.00000000e+00,  0.00000000e+00,  0.00000000e+00,\n         0.00000000e+00,  0.00000000e+00,  0.00000000e+00,\n         0.00000000e+00,  0.00000000e+00,  0.00000000e+00,\n         0.00000000e+00,  0.00000000e+00,  0.00000000e+00,\n         0.00000000e+00,  0.00000000e+00,  0.00000000e+00,\n         0.00000000e+00,  0.00000000e+00,  0.00000000e+00,\n         0.00000000e+00,  0.00000000e+00,  0.00000000e+00,\n         0.00000000e+00,  0.00000000e+00,  0.00000000e+00,\n         0.00000000e+00,  0.00000000e+00,  0.00000000e+00,\n         0.00000000e+00,  0.00000000e+00,  0.00000000e+00,\n         0.00000000e+00,  0.00000000e+00,  0.00000000e+00,\n         0.00000000e+00,  0.00000000e+00,  0.00000000e+00,\n         0.00000000e+00,  0.00000000e+00,  0.00000000e+00,\n         0.00000000e+00,  0.00000000e+00,  0.00000000e+00,\n         0.00000000e+00,  0.00000000e+00],\n       [            nan,             nan,             nan,\n                    nan,             nan,             nan,\n                    nan,             nan,             nan,\n                    nan,             nan,             nan,\n                    nan,             nan,             nan,\n                    nan,             nan,             nan,\n                    nan,             nan,             nan,\n                    nan,             nan,             nan,\n                    nan,             nan,             nan,\n                    nan,             nan,             nan,\n                    nan,             nan,             nan,\n                    nan,             nan,             nan,\n                    nan,             nan,             nan,\n                    nan,             nan,             nan,\n                    nan,             nan,             nan,\n                    nan,             nan,             nan,\n                    nan,             nan,             nan,\n                    nan,             nan,             nan,\n                    nan,             nan,             nan,\n                    nan,             nan,             nan,\n                    nan,             nan,             nan,\n                    nan,             nan,             nan,\n                    nan,             nan,             nan,\n                    nan,             nan,             nan,\n                    nan,             nan,             nan,\n                    nan,             nan,             nan,\n                    nan,             nan,             nan,\n                    nan,             nan,             nan,\n                    nan,             nan,             nan,\n                    nan,             nan,             nan,\n                    nan,             nan,             nan,\n                    nan,             nan,             nan,\n                    nan,             nan,             nan,\n                    nan,             nan,             nan,\n                    nan,             nan,             nan,\n                    nan,             nan,             nan,\n                    nan,             nan,             nan,\n                    nan,             nan,             nan,\n                    nan,             nan,             nan,\n                    nan,             nan,             nan,\n                    nan,             nan,             nan,\n                    nan,             nan,             nan,\n                    nan,             nan,             nan,\n                    nan,             nan,             nan,\n                    nan,             nan,             nan,\n                    nan,             nan,             nan,\n                    nan,             nan,             nan,\n                    nan,             nan,             nan,\n                    nan,             nan,             nan,\n                    nan,             nan,             nan,\n                    nan,             nan,             nan,\n                    nan,             nan,             nan,\n                    nan,             nan,             nan,\n                    nan,             nan,             nan,\n                    nan,             nan,             nan,\n                    nan,             nan,             nan,\n                    nan,             nan,             nan,\n                    nan,             nan,             nan,\n                    nan,             nan,             nan,\n                    nan,             nan,             nan,\n                    nan,             nan,             nan,\n                    nan,             nan,             nan,\n                    nan,             nan,             nan,\n                    nan,             nan,             nan,\n                    nan,             nan,             nan,\n                    nan,             nan,             nan,\n                    nan,             nan],\n       [            nan,             nan,             nan,\n                    nan,             nan,             nan,\n                    nan,             nan,             nan,\n                    nan,             nan,             nan,\n                    nan,             nan,             nan,\n                    nan,             nan,             nan,\n                    nan,             nan,             nan,\n                    nan,             nan,             nan,\n                    nan,             nan,             nan,\n                    nan,             nan,             nan,\n                    nan,             nan,             nan,\n                    nan,             nan,             nan,\n                    nan,             nan,             nan,\n                    nan,             nan,             nan,\n                    nan,             nan,             nan,\n                    nan,             nan,             nan,\n                    nan,             nan,             nan,\n                    nan,             nan,             nan,\n                    nan,             nan,             nan,\n                    nan,             nan,             nan,\n                    nan,             nan,             nan,\n                    nan,             nan,             nan,\n                    nan,             nan,             nan,\n                    nan,             nan,             nan,\n                    nan,             nan,             nan,\n                    nan,             nan,             nan,\n                    nan,             nan,             nan,\n                    nan,             nan,             nan,\n                    nan,             nan,             nan,\n                    nan,             nan,             nan,\n                    nan,             nan,             nan,\n                    nan,             nan,             nan,\n                    nan,             nan,             nan,\n                    nan,             nan,             nan,\n                    nan,             nan,             nan,\n                    nan,             nan,             nan,\n                    nan,             nan,             nan,\n                    nan,             nan,             nan,\n                    nan,             nan,             nan,\n                    nan,             nan,             nan,\n                    nan,             nan,             nan,\n                    nan,             nan,             nan,\n                    nan,             nan,             nan,\n                    nan,             nan,             nan,\n                    nan,             nan,             nan,\n                    nan,             nan,             nan,\n                    nan,             nan,             nan,\n                    nan,             nan,             nan,\n                    nan,             nan,             nan,\n                    nan,             nan,             nan,\n                    nan,             nan,             nan,\n                    nan,             nan,             nan,\n                    nan,             nan,             nan,\n                    nan,             nan,             nan,\n                    nan,             nan,             nan,\n                    nan,             nan,             nan,\n                    nan,             nan,             nan,\n                    nan,             nan,             nan,\n                    nan,             nan,             nan,\n                    nan,             nan,             nan,\n                    nan,             nan,             nan,\n                    nan,             nan,             nan,\n                    nan,             nan,             nan,\n                    nan,             nan,             nan,\n                    nan,             nan,             nan,\n                    nan,             nan,             nan,\n                    nan,             nan],\n       [            nan,             nan,             nan,\n                    nan,             nan,             nan,\n                    nan,             nan,             nan,\n                    nan,             nan,             nan,\n                    nan,             nan,             nan,\n                    nan,             nan,             nan,\n                    nan,             nan,             nan,\n                    nan,             nan,             nan,\n                    nan,             nan,             nan,\n                    nan,             nan,             nan,\n                    nan,             nan,             nan,\n                    nan,             nan,             nan,\n                    nan,             nan,             nan,\n                    nan,             nan,             nan,\n                    nan,             nan,             nan,\n                    nan,             nan,             nan,\n                    nan,             nan,             nan,\n                    nan,             nan,             nan,\n                    nan,             nan,             nan,\n                    nan,             nan,             nan,\n                    nan,             nan,             nan,\n                    nan,             nan,             nan,\n                    nan,             nan,             nan,\n                    nan,             nan,             nan,\n                    nan,             nan,             nan,\n                    nan,             nan,             nan,\n                    nan,             nan,             nan,\n                    nan,             nan,             nan,\n                    nan,             nan,             nan,\n                    nan,             nan,             nan,\n                    nan,             nan,             nan,\n                    nan,             nan,             nan,\n                    nan,             nan,             nan,\n                    nan,             nan,             nan,\n                    nan,             nan,             nan,\n                    nan,             nan,             nan,\n                    nan,             nan,             nan,\n                    nan,             nan,             nan,\n                    nan,             nan,             nan,\n                    nan,             nan,             nan,\n                    nan,             nan,             nan,\n                    nan,             nan,             nan,\n                    nan,             nan,             nan,\n                    nan,             nan,             nan,\n                    nan,             nan,             nan,\n                    nan,             nan,             nan,\n                    nan,             nan,             nan,\n                    nan,             nan,             nan,\n                    nan,             nan,             nan,\n                    nan,             nan,             nan,\n                    nan,             nan,             nan,\n                    nan,             nan,             nan,\n                    nan,             nan,             nan,\n                    nan,             nan,             nan,\n                    nan,             nan,             nan,\n                    nan,             nan,             nan,\n                    nan,             nan,             nan,\n                    nan,             nan,             nan,\n                    nan,             nan,             nan,\n                    nan,             nan,             nan,\n                    nan,             nan,             nan,\n                    nan,             nan,             nan,\n                    nan,             nan,             nan,\n                    nan,             nan,             nan,\n                    nan,             nan,             nan,\n                    nan,             nan,             nan,\n                    nan,             nan]])"
     },
     "execution_count": 67,
     "metadata": {},
     "output_type": "execute_result"
    }
   ],
   "source": [
    "u2[:5, :]"
   ],
   "metadata": {
    "collapsed": false,
    "pycharm": {
     "name": "#%%\n"
    }
   }
  },
  {
   "cell_type": "markdown",
   "metadata": {
    "pycharm": {
     "name": "#%% md\n"
    }
   },
   "source": [
    "#### Визуализация"
   ]
  },
  {
   "cell_type": "code",
   "execution_count": 81,
   "metadata": {
    "pycharm": {
     "name": "#%%\n"
    }
   },
   "outputs": [
    {
     "name": "stderr",
     "output_type": "stream",
     "text": [
      "MovieWriter imagemagick unavailable; using Pillow instead.\n"
     ]
    },
    {
     "data": {
      "image/png": "[encoded data removed]",
      "text/plain": [
       "<Figure size 640x480 with 1 Axes>"
      ]
     },
     "metadata": {},
     "output_type": "display_data"
    }
   ],
   "source": [
    "fig = plt.figure()\n",
    "camera = Camera(fig)\n",
    "ax = axes(xlim=(a, b), ylim=(-0.5, 3))\n",
    "\n",
    "for i in range(0, N, 30):\n",
    "    ax.plot(x, u1[i, :], color=\"blue\")\n",
    "    ax.plot(x, u2[i, :], color=\"red\")\n",
    "    camera.snap()\n",
    "animation = camera.animate()\n",
    "animation.save('oh_my.gif', writer = 'imagemagick')"
   ]
  },
  {
   "cell_type": "code",
   "execution_count": 11,
   "metadata": {
    "pycharm": {
     "name": "#%%\n"
    }
   },
   "outputs": [
    {
     "data": {
      "text/html": [
       "<img src=\"oh_my.gif\"/>"
      ],
      "text/plain": [
       "<IPython.core.display.Image object>"
      ]
     },
     "execution_count": 11,
     "metadata": {},
     "output_type": "execute_result"
    }
   ],
   "source": [
    "from IPython.display import Image\n",
    "Image(url='oh_my.gif')"
   ]
  },
  {
   "cell_type": "markdown",
   "metadata": {
    "pycharm": {
     "name": "#%% md\n"
    }
   },
   "source": [
    "### Метод потоковой прогонки"
   ]
  },
  {
   "cell_type": "code",
   "execution_count": 11,
   "metadata": {
    "pycharm": {
     "name": "#%%\n"
    }
   },
   "outputs": [],
   "source": [
    "from utils import qei, k_12\n",
    "from numba import njit\n",
    "\n",
    "\n",
    "def thomas_Q(u1, u2, n, tau, h, M, mode='electrons'):\n",
    "    # init\n",
    "    u_sol = np.zeros(M)\n",
    "    P = np.zeros(M)\n",
    "    R = np.zeros(M)\n",
    "    u = u1[n, :] if mode == 'electrons' else u2[n, :]\n",
    "    alpha = 2.5 if mode == 'electrons' else 1.5\n",
    "    kappa = 0.2 if mode == 'electrons' else 0.3\n",
    "    betta = -1 if mode == 'electrons' else 1\n",
    "    # Forward first step\n",
    "    P[0] = tau\n",
    "    R[0] = tau * betta * qei(u1[n, 0], u2[n, 0]) +  u[0]\n",
    "    # coefs n = 1 ... M - 2\n",
    "    for m in range(1, M - 1):\n",
    "        f = betta * qei(u1[n, m], u2[n, m])\n",
    "        D = kappa * k_12(u[m - 1], u[m], alpha)\n",
    "        B = P[m - 1] + h / D\n",
    "        A = 1 + h * B / tau\n",
    "        P[m] = B / A\n",
    "        R[m] = (B * (h * u[m] / tau - h * f) + R[m - 1])\n",
    "\n",
    "    # backward\n",
    "    for m in range(M - 1, -1, -1):\n",
    "        w = kappa * k_12(u[m - 1], u[m], alpha) * (u_sol[m + 1] - u_sol[m]) / h\n",
    "        u_sol[m] = P[m] * w + R[m]\n",
    "\n",
    "    return u_sol"
   ]
  },
  {
   "cell_type": "markdown",
   "source": [
    "#### Применение"
   ],
   "metadata": {
    "collapsed": false,
    "pycharm": {
     "name": "#%% md\n"
    }
   }
  },
  {
   "cell_type": "code",
   "execution_count": 12,
   "outputs": [],
   "source": [
    "# Начальные значения\n",
    "a = 0\n",
    "b = 2\n",
    "t_0 = 0\n",
    "T = 0.005\n",
    "To = 2"
   ],
   "metadata": {
    "collapsed": false,
    "pycharm": {
     "name": "#%%\n"
    }
   }
  },
  {
   "cell_type": "code",
   "execution_count": 13,
   "outputs": [
    {
     "name": "stdout",
     "output_type": "stream",
     "text": [
      "h=0.005, tau= 0.00000083\n",
      "sigma =  0.0167\n"
     ]
    }
   ],
   "source": [
    "# Число узлов\n",
    "N = 6000\n",
    "M = 400\n",
    "\n",
    "# Размер шага сетки\n",
    "h = (b - a) / M\n",
    "tau = (T - t_0) / N\n",
    "print(f'{h=}, {tau=: .8f}')\n",
    "\n",
    "print(f'sigma = {tau / h ** 2 * 0.5: .4f}')"
   ],
   "metadata": {
    "collapsed": false,
    "pycharm": {
     "name": "#%%\n"
    }
   }
  },
  {
   "cell_type": "code",
   "execution_count": 14,
   "outputs": [],
   "source": [
    "t = np.linspace(t_0, T, N)\n",
    "x = np.linspace(a, b, M)"
   ],
   "metadata": {
    "collapsed": false,
    "pycharm": {
     "name": "#%%\n"
    }
   }
  },
  {
   "cell_type": "code",
   "execution_count": 15,
   "outputs": [],
   "source": [
    "u1 = np.zeros((N + 1, M), dtype=np.double)\n",
    "u1[0, :] = u_init(x, 2)\n",
    "\n",
    "u2 = np.zeros((N + 1, M), dtype=np.double)\n",
    "u2[0, :] = u_init(x, 2)"
   ],
   "metadata": {
    "collapsed": false,
    "pycharm": {
     "name": "#%%\n"
    }
   }
  },
  {
   "cell_type": "code",
   "execution_count": 16,
   "outputs": [
    {
     "data": {
      "text/plain": "  0%|          | 0/6000 [00:00<?, ?it/s]",
      "application/vnd.jupyter.widget-view+json": {
       "version_major": 2,
       "version_minor": 0,
       "model_id": "368ff5bb798c4d8b8284f3e414650a5d"
      }
     },
     "metadata": {},
     "output_type": "display_data"
    },
    {
     "ename": "ZeroDivisionError",
     "evalue": "float division by zero",
     "output_type": "error",
     "traceback": [
      "\u001B[1;31m---------------------------------------------------------------------------\u001B[0m",
      "\u001B[1;31mZeroDivisionError\u001B[0m                         Traceback (most recent call last)",
      "Input \u001B[1;32mIn [16]\u001B[0m, in \u001B[0;36m<cell line: 1>\u001B[1;34m()\u001B[0m\n\u001B[0;32m      1\u001B[0m \u001B[38;5;28;01mfor\u001B[39;00m n \u001B[38;5;129;01min\u001B[39;00m tqdm(\u001B[38;5;28mrange\u001B[39m(N)):\n\u001B[1;32m----> 2\u001B[0m     u_sol \u001B[38;5;241m=\u001B[39m \u001B[43mthomas_Q\u001B[49m\u001B[43m(\u001B[49m\u001B[43mu1\u001B[49m\u001B[43m,\u001B[49m\u001B[43m \u001B[49m\u001B[43mu2\u001B[49m\u001B[43m,\u001B[49m\u001B[43m \u001B[49m\u001B[43mn\u001B[49m\u001B[43m,\u001B[49m\u001B[43m \u001B[49m\u001B[43mtau\u001B[49m\u001B[43m,\u001B[49m\u001B[43m \u001B[49m\u001B[43mh\u001B[49m\u001B[43m,\u001B[49m\u001B[43m \u001B[49m\u001B[43mM\u001B[49m\u001B[43m,\u001B[49m\u001B[43m \u001B[49m\u001B[43mmode\u001B[49m\u001B[38;5;241;43m=\u001B[39;49m\u001B[38;5;124;43m'\u001B[39;49m\u001B[38;5;124;43melectrons\u001B[39;49m\u001B[38;5;124;43m'\u001B[39;49m\u001B[43m)\u001B[49m\n\u001B[0;32m      3\u001B[0m     u1[n \u001B[38;5;241m+\u001B[39m \u001B[38;5;241m1\u001B[39m, :] \u001B[38;5;241m=\u001B[39m u_sol\n\u001B[0;32m      4\u001B[0m     u_sol \u001B[38;5;241m=\u001B[39m thomas_Q(u1, u2, n, tau, h, M, mode\u001B[38;5;241m=\u001B[39m\u001B[38;5;124m'\u001B[39m\u001B[38;5;124mions\u001B[39m\u001B[38;5;124m'\u001B[39m)\n",
      "Input \u001B[1;32mIn [11]\u001B[0m, in \u001B[0;36mthomas_Q\u001B[1;34m(u1, u2, n, tau, h, M, mode)\u001B[0m\n\u001B[0;32m     18\u001B[0m f \u001B[38;5;241m=\u001B[39m betta \u001B[38;5;241m*\u001B[39m qei(u1[n, m], u2[n, m])\n\u001B[0;32m     19\u001B[0m D \u001B[38;5;241m=\u001B[39m kappa \u001B[38;5;241m*\u001B[39m k_12(u[m \u001B[38;5;241m-\u001B[39m \u001B[38;5;241m1\u001B[39m], u[m], alpha)\n\u001B[1;32m---> 20\u001B[0m B \u001B[38;5;241m=\u001B[39m P[m \u001B[38;5;241m-\u001B[39m \u001B[38;5;241m1\u001B[39m] \u001B[38;5;241m+\u001B[39m \u001B[43mh\u001B[49m\u001B[43m \u001B[49m\u001B[38;5;241;43m/\u001B[39;49m\u001B[43m \u001B[49m\u001B[43mD\u001B[49m\n\u001B[0;32m     21\u001B[0m A \u001B[38;5;241m=\u001B[39m \u001B[38;5;241m1\u001B[39m \u001B[38;5;241m+\u001B[39m h \u001B[38;5;241m*\u001B[39m B \u001B[38;5;241m/\u001B[39m tau\n\u001B[0;32m     22\u001B[0m P[m] \u001B[38;5;241m=\u001B[39m B \u001B[38;5;241m/\u001B[39m A\n",
      "\u001B[1;31mZeroDivisionError\u001B[0m: float division by zero"
     ]
    }
   ],
   "source": [
    "for n in tqdm(range(N)):\n",
    "    u_sol = thomas_Q(u1, u2, n, tau, h, M, mode='electrons')\n",
    "    u1[n + 1, :] = u_sol\n",
    "    u_sol = thomas_Q(u1, u2, n, tau, h, M, mode='ions')\n",
    "    u2[n + 1, :] = u_sol"
   ],
   "metadata": {
    "collapsed": false,
    "pycharm": {
     "name": "#%%\n"
    }
   }
  }
 ],
 "metadata": {
  "kernelspec": {
   "display_name": "Python 3 (ipykernel)",
   "language": "python",
   "name": "python3"
  },
  "language_info": {
   "codemirror_mode": {
    "name": "ipython",
    "version": 3
   },
   "file_extension": ".py",
   "mimetype": "text/x-python",
   "name": "python",
   "nbconvert_exporter": "python",
   "pygments_lexer": "ipython3",
   "version": "3.9.13"
  }
 },
 "nbformat": 4,
 "nbformat_minor": 1
}