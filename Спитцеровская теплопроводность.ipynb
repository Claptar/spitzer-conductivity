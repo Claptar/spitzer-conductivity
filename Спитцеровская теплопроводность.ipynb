{
 "cells": [
  {
   "cell_type": "markdown",
   "metadata": {
    "pycharm": {
     "name": "#%% md\n"
    }
   },
   "source": [
    "# Решение спитцеровского уравнения теплопроводности плазмы"
   ]
  },
  {
   "cell_type": "markdown",
   "metadata": {
    "pycharm": {
     "name": "#%% md\n"
    }
   },
   "source": [
    "## Неявная разностная схема с нелинейностью на нижнем слое\n",
    "\n",
    "Для численного решения задачи будем использовать неявную разностную схему с нелинейностью на нижнем слое\n",
    "\n",
    "$$\n",
    "\\frac{y^{n+1}_{m} - y^{n}_{m}}{\\tau} = \\frac{1}{h}\\left[k^n_{m + 1/2}\\frac{y^{n+1}_{m+1} - y^{n+1}_{m}}{h} - k^n_{m - 1/2}\\frac{y^{n+1}_{m} - y^{n+1}_{m - 1}}{h}\\right] + f^n_m\n",
    "$$"
   ]
  },
  {
   "cell_type": "code",
   "execution_count": 1,
   "metadata": {
    "pycharm": {
     "name": "#%%\n"
    }
   },
   "outputs": [],
   "source": [
    "import numpy as np\n",
    "import matplotlib.pyplot as plt\n",
    "from tqdm.notebook import tqdm\n",
    "from matplotlib.pyplot import axes\n",
    "#from celluloid import Camera"
   ]
  },
  {
   "cell_type": "code",
   "execution_count": 2,
   "metadata": {
    "pycharm": {
     "name": "#%%\n"
    }
   },
   "outputs": [],
   "source": [
    "def qei(Te, Ti):\n",
    "    if Te == 0:\n",
    "        return 0.0\n",
    "    else:\n",
    "        return (Te - Ti) / Te ** 2"
   ]
  },
  {
   "cell_type": "code",
   "execution_count": 3,
   "metadata": {
    "pycharm": {
     "name": "#%%\n"
    }
   },
   "outputs": [],
   "source": [
    "def k_12(y_m, y_m_1, alpha):\n",
    "    return (y_m ** alpha + y_m_1 ** alpha) / 2"
   ]
  },
  {
   "cell_type": "code",
   "execution_count": 4,
   "metadata": {
    "pycharm": {
     "name": "#%%\n"
    }
   },
   "outputs": [],
   "source": [
    "def u_init(x, To):\n",
    "    u = np.zeros(x.size)\n",
    "    for i in range(len(x)):\n",
    "        if x[i] <= 1:\n",
    "            u[i] = To\n",
    "    return u"
   ]
  },
  {
   "cell_type": "markdown",
   "metadata": {
    "pycharm": {
     "name": "#%% md\n"
    }
   },
   "source": [
    "### Метод прогонки"
   ]
  },
  {
   "cell_type": "markdown",
   "metadata": {
    "pycharm": {
     "name": "#%% md\n"
    }
   },
   "source": [
    "#### Реализация метода"
   ]
  },
  {
   "cell_type": "code",
   "execution_count": 27,
   "outputs": [],
   "source": [
    "def make_diagonals(u1, u2, n, tau, h, M, mode='electrons'):\n",
    "    # init variables\n",
    "    a = np.zeros(M - 1)\n",
    "    b = np.zeros(M)\n",
    "    c = np.zeros(M - 1)\n",
    "    d = np.zeros(M)\n",
    "    sigma = tau / h ** 2\n",
    "    u = u1[n, :] if mode == 'electrons' else u2[n, :]\n",
    "    alpha = 2.5 if mode == 'electrons' else 1.5\n",
    "    # first row\n",
    "    c[0] = k_12(u[0], u[1], alpha) * sigma\n",
    "    b[0] = 1 + c[0]\n",
    "    d[0] = - (u[0] + qei(u1[n, 0], u2[n, 0]) * tau)\n",
    "    # rows m = 2,...,M - 1\n",
    "    for m in range(1, M - 1):\n",
    "        a[m - 1] = k_12(u[m - 1], u[m], alpha) * sigma\n",
    "        c[m] = k_12(u[m], u[m + 1], alpha) * sigma\n",
    "        b[m] = 1 + a[m - 1] + c[m]\n",
    "        d[m] = - (u[m] + qei(u1[n, m], u2[n, m]) * tau)\n",
    "    # last row\n",
    "    m = M - 1\n",
    "    a[m - 1] = k_12(u[m - 1], u[m], alpha) * sigma\n",
    "    b[m] = 1 + u[m] ** alpha + a[m - 1]\n",
    "    d[m] = - (u[m] + qei(u1[n, m], u2[n, m]) * tau)\n",
    "    return a, b, c, d"
   ],
   "metadata": {
    "collapsed": false,
    "pycharm": {
     "name": "#%%\n"
    }
   }
  },
  {
   "cell_type": "code",
   "execution_count": 20,
   "outputs": [],
   "source": [
    "def thomas_solver(a, b, c, d):\n",
    "    # init arrays\n",
    "    M = len(b)\n",
    "    u_sol = np.zeros(M)\n",
    "    P = np.zeros(M)\n",
    "    Q = np.zeros(M)\n",
    "    # Forward first coefs\n",
    "    P[0] = c[0] / b[0]\n",
    "    Q[0] = - d[0] / b[0]\n",
    "    # Forward coefs n = 1 ... M - 1\n",
    "    for m in range(1, M - 1):\n",
    "        P[m] = c[m] / (b[m] - a[m - 1] * P[m - 1])\n",
    "        Q[m] = (a[m - 1] * Q[m - 1] - d[m]) / (b[m] - a[m - 1] * P[m - 1])\n",
    "    #Forward last\n",
    "    m = M - 1\n",
    "    Q[m] = (a[m - 1] * Q[m - 1] - d[m]) / (b[m] - a[m - 1] * P[m - 1])\n",
    "\n",
    "    # backward\n",
    "    u_sol[-1] = Q[-1]\n",
    "    for m in range(M - 1, -1, -1):\n",
    "        u_sol[m - 1] = P[m - 1] * u_sol[m] + Q[m - 1]\n",
    "\n",
    "    return u_sol"
   ],
   "metadata": {
    "collapsed": false,
    "pycharm": {
     "name": "#%%\n"
    }
   }
  },
  {
   "cell_type": "code",
   "execution_count": 21,
   "outputs": [
    {
     "name": "stdout",
     "output_type": "stream",
     "text": [
      "[-0.02367942  0.8151184  -1.02003643  2.26502732]\n",
      "[-0.02367942  0.8151184  -1.02003643  2.26502732]\n"
     ]
    }
   ],
   "source": [
    "A = np.array([[11,4,0,0],\n",
    "              [3,10,4,0],\n",
    "              [0,1,7,5],\n",
    "              [0,0,3,4]])\n",
    "a = np.diag(A, -1)\n",
    "b = np.diag(A)\n",
    "c = np.diag(A, 1)\n",
    "d = np.array([3, 4, 5, 6.])\n",
    "print(np.linalg.solve(A, d))\n",
    "print(thomas_solver(a, -b, c, d))"
   ],
   "metadata": {
    "collapsed": false,
    "pycharm": {
     "name": "#%%\n"
    }
   }
  },
  {
   "cell_type": "markdown",
   "metadata": {
    "pycharm": {
     "name": "#%% md\n"
    }
   },
   "source": [
    "#### Применение метода"
   ]
  },
  {
   "cell_type": "code",
   "execution_count": 22,
   "metadata": {
    "pycharm": {
     "name": "#%%\n"
    }
   },
   "outputs": [],
   "source": [
    "# Начальные значения\n",
    "a = 0\n",
    "b = 2\n",
    "t_0 = 0\n",
    "T = 0.01\n",
    "To = 2"
   ]
  },
  {
   "cell_type": "code",
   "execution_count": 59,
   "metadata": {
    "pycharm": {
     "name": "#%%\n"
    }
   },
   "outputs": [
    {
     "name": "stdout",
     "output_type": "stream",
     "text": [
      "h=0.005, tau= 0.000002\n",
      "sigma =  0.0333\n"
     ]
    }
   ],
   "source": [
    "# Число узлов\n",
    "N = 6000\n",
    "M = 400\n",
    "\n",
    "# Размер шага сетки\n",
    "h = (b - a) / M\n",
    "tau = (T - t_0) / N\n",
    "print(f'{h=}, {tau=: .6f}')\n",
    "\n",
    "print(f'sigma = {tau / h ** 2 * 0.5: .4f}')"
   ]
  },
  {
   "cell_type": "code",
   "execution_count": 60,
   "metadata": {
    "pycharm": {
     "name": "#%%\n"
    }
   },
   "outputs": [],
   "source": [
    "t = np.linspace(t_0, T, N)\n",
    "x = np.linspace(a, b, M)"
   ]
  },
  {
   "cell_type": "code",
   "execution_count": 56,
   "metadata": {
    "pycharm": {
     "name": "#%%\n"
    }
   },
   "outputs": [],
   "source": [
    "u1 = np.zeros((N + 1, M), dtype=np.double)\n",
    "u1[0, :] = u_init(x, 2)\n",
    "\n",
    "u2 = np.zeros((N + 1, M), dtype=np.double)\n",
    "u2[0, :] = u_init(x, 2)"
   ]
  },
  {
   "cell_type": "code",
   "execution_count": 57,
   "metadata": {
    "pycharm": {
     "name": "#%%\n"
    }
   },
   "outputs": [
    {
     "data": {
      "text/plain": "  0%|          | 0/10 [00:00<?, ?it/s]",
      "application/vnd.jupyter.widget-view+json": {
       "version_major": 2,
       "version_minor": 0,
       "model_id": "21a6e2c94b274398ab0942f4752b33d8"
      }
     },
     "metadata": {},
     "output_type": "display_data"
    },
    {
     "name": "stderr",
     "output_type": "stream",
     "text": [
      "C:\\Users\\aleks\\AppData\\Local\\Temp\\ipykernel_18952\\445448729.py:2: RuntimeWarning: invalid value encountered in double_scalars\n",
      "  return (y_m ** alpha + y_m_1 ** alpha) / 2\n"
     ]
    }
   ],
   "source": [
    "for n in tqdm(range(10)):\n",
    "    a_e, b_e, c_e, d_e = make_diagonals(u1, u2, n, tau, h, M, mode='electrons')\n",
    "    u1[n + 1, :] = thomas_solver(a_e, b_e, c_e, d_e)\n",
    "    a_i, b_i, c_i, d_i = make_diagonals(u1, u2, n, tau, h, M, mode='ion')\n",
    "    u2[n + 1, :] = thomas_solver(a_i, b_i, c_i, d_i)"
   ]
  },
  {
   "cell_type": "code",
   "execution_count": 58,
   "outputs": [
    {
     "data": {
      "text/plain": "array([[ 2.,  2.,  2., ...,  0.,  0.,  0.],\n       [ 2.,  2.,  2., ...,  0.,  0.,  0.],\n       [ 2.,  2.,  2., ...,  0.,  0.,  0.],\n       ...,\n       [nan, nan, nan, ..., nan, nan, nan],\n       [nan, nan, nan, ..., nan, nan, nan],\n       [nan, nan, nan, ..., nan, nan, nan]])"
     },
     "execution_count": 58,
     "metadata": {},
     "output_type": "execute_result"
    }
   ],
   "source": [
    "u1[:10, 400:]"
   ],
   "metadata": {
    "collapsed": false,
    "pycharm": {
     "name": "#%%\n"
    }
   }
  },
  {
   "cell_type": "markdown",
   "metadata": {
    "pycharm": {
     "name": "#%% md\n"
    }
   },
   "source": [
    "#### Визуализация"
   ]
  },
  {
   "cell_type": "code",
   "execution_count": 46,
   "outputs": [
    {
     "data": {
      "text/plain": "<Figure size 432x288 with 1 Axes>",
      "image/png": "[encoded data removed]"
     },
     "metadata": {
      "needs_background": "light"
     },
     "output_type": "display_data"
    }
   ],
   "source": [
    "ax = axes(xlim=(0.9, 1.1), ylim=(0, 2.5))\n",
    "for i in range(6):\n",
    "    ax.plot(x, u1[i, :])\n",
    "    #ax.plot(x, u2[i, :], color=\"red\")"
   ],
   "metadata": {
    "collapsed": false,
    "pycharm": {
     "name": "#%%\n"
    }
   }
  },
  {
   "cell_type": "code",
   "execution_count": null,
   "metadata": {
    "pycharm": {
     "name": "#%%\n"
    }
   },
   "outputs": [],
   "source": [
    "from matplotlib import pyplot as plt\n",
    "from matplotlib.pyplot import axes\n",
    "from celluloid import Camera\n",
    "\n",
    "fig = plt.figure()\n",
    "camera = Camera(fig)\n",
    "ax = axes(xlim=(0, 1.5), ylim=(0, 2.5))\n",
    "\n",
    "for i in range(0, N, 20):\n",
    "    ax.plot(x, u1[i, :], color=\"blue\")\n",
    "    ax.plot(x, u2[i, :], color=\"red\")\n",
    "    camera.snap()\n",
    "animation = camera.animate()\n",
    "animation.save('oh_my.gif', writer = 'imagemagick')"
   ]
  },
  {
   "cell_type": "markdown",
   "metadata": {
    "pycharm": {
     "name": "#%% md\n"
    }
   },
   "source": [
    "### Метод потоковой прогонки"
   ]
  },
  {
   "cell_type": "code",
   "execution_count": null,
   "metadata": {
    "pycharm": {
     "name": "#%%\n"
    }
   },
   "outputs": [],
   "source": []
  }
 ],
 "metadata": {
  "kernelspec": {
   "display_name": "Python 3 (ipykernel)",
   "language": "python",
   "name": "python3"
  },
  "language_info": {
   "codemirror_mode": {
    "name": "ipython",
    "version": 3
   },
   "file_extension": ".py",
   "mimetype": "text/x-python",
   "name": "python",
   "nbconvert_exporter": "python",
   "pygments_lexer": "ipython3",
   "version": "3.9.12"
  }
 },
 "nbformat": 4,
 "nbformat_minor": 1
}