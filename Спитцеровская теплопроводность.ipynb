{
 "cells": [
  {
   "cell_type": "markdown",
   "metadata": {
    "pycharm": {
     "name": "#%% md\n"
    }
   },
   "source": [
    "# Решение спитцеровского уравнения теплопроводности плазмы"
   ]
  },
  {
   "cell_type": "markdown",
   "metadata": {
    "pycharm": {
     "name": "#%% md\n"
    }
   },
   "source": [
    "## Неявная разностная схема с нелинейностью на нижнем слое\n",
    "\n",
    "Для численного решения задачи будем использовать неявную разностную схему с нелинейностью на нижнем слое\n",
    "\n",
    "$$\n",
    "\\frac{y^{n+1}_{m} - y^{n}_{m}}{\\tau} = \\frac{1}{h}\\left[k^n_{m + 1/2}\\frac{y^{n+1}_{m+1} - y^{n+1}_{m}}{h} - k^n_{m - 1/2}\\frac{y^{n+1}_{m} - y^{n+1}_{m - 1}}{h}\\right] + f^n_m\n",
    "$$"
   ]
  },
  {
   "cell_type": "code",
   "execution_count": 57,
   "metadata": {
    "pycharm": {
     "name": "#%%\n"
    }
   },
   "outputs": [],
   "source": [
    "import numpy as np\n",
    "import matplotlib.pyplot as plt\n",
    "from tqdm.notebook import tqdm\n",
    "from matplotlib.pyplot import axes\n",
    "#from celluloid import Camera"
   ]
  },
  {
   "cell_type": "code",
   "execution_count": 58,
   "metadata": {
    "pycharm": {
     "name": "#%%\n"
    }
   },
   "outputs": [],
   "source": [
    "def qei(Te, Ti):\n",
    "    if Te == 0:\n",
    "        return 0.0\n",
    "    else:\n",
    "        return (Te - Ti) / Te ** 2"
   ]
  },
  {
   "cell_type": "code",
   "execution_count": 59,
   "metadata": {
    "pycharm": {
     "name": "#%%\n"
    }
   },
   "outputs": [],
   "source": [
    "def k_12(y_m, y_m_1, alpha):\n",
    "    return (y_m ** alpha + y_m_1 ** alpha) / 2"
   ]
  },
  {
   "cell_type": "code",
   "execution_count": 60,
   "metadata": {
    "pycharm": {
     "name": "#%%\n"
    }
   },
   "outputs": [],
   "source": [
    "def u_init(x, To):\n",
    "    u = np.zeros(x.size)\n",
    "    for i in range(len(x)):\n",
    "        if x[i] <= 1:\n",
    "            u[i] = To\n",
    "    return u"
   ]
  },
  {
   "cell_type": "markdown",
   "metadata": {
    "pycharm": {
     "name": "#%% md\n"
    }
   },
   "source": [
    "### Метод прогонки"
   ]
  },
  {
   "cell_type": "markdown",
   "metadata": {
    "pycharm": {
     "name": "#%% md\n"
    }
   },
   "source": [
    "#### Реализация метода"
   ]
  },
  {
   "cell_type": "code",
   "execution_count": null,
   "outputs": [],
   "source": [
    "def forward_denom(u, m, tau, h, Pm, alpha):\n",
    "    return 1 + k_12(u[m], u[m + 1], alpha) * tau / h ** 2 + k_12(u[m - 1], u[m], alpha) * tau / h ** 2 * (1 - Pm)\n",
    "\n",
    "def forward_P_numer(u, m, tau, h, alpha):\n",
    "    return k_12(u[m], u[m + 1], alpha) * tau / h ** 2\n",
    "\n",
    "def forward_Q_numer(u, m, n, tau, h, Qm, alpha, f):\n",
    "    return k_12(u[m], u[m - 1], alpha) * tau / h ** 2 * Qm + f * tau"
   ],
   "metadata": {
    "collapsed": false,
    "pycharm": {
     "name": "#%%\n"
    }
   }
  },
  {
   "cell_type": "code",
   "execution_count": null,
   "outputs": [],
   "source": [
    "def forward(u1, u2, n, tau, h, M, mode='electron'):\n",
    "    # init params\n",
    "    P = np.zeros(M)\n",
    "    Q = np.zeros(M)\n",
    "    u = u1[n, :] if mode == 'electron' else u2[n, :]\n",
    "    alpha = 2.5 if mode == 'electron' else 1.5\n",
    "    # Zero step\n",
    "    P[0] = tau * k_12(u[0], u[1], alpha) / (h ** 2 + k_12(u[0], u[1], alpha) * tau)\n",
    "    Q[0] = (u[0] + qei(u1[n, 0], u2[n, 0]) * tau) / (1 + k_12(u[0], u[1], alpha) * tau / h ** 2)\n",
    "    # n = 1,..., M - 2\n",
    "    for m in range(1, M - 1):\n",
    "        denom = forward_denom(u, m, tau, h, P[m - 1], alpha)\n",
    "        P_numer = forward_P_numer(u, m, tau, h, alpha)\n",
    "        Q_numer = forward_Q_numer(u, m, n, tau, h, Q[m - 1], alpha, qei(u1[n, m], u2[n, m]))\n",
    "        P[m] = P_numer / denom\n",
    "        Q[m] = Q_numer / denom\n",
    "    # Last step\n",
    "    m = M - 1\n",
    "    denom = 1 + u[m] ** alpha * tau / h ** 2 + k_12(u[m - 1], u[m], alpha) * tau / h ** 2 * (1 - P[m - 1])\n",
    "    Q_numer = forward_Q_numer(u, m, n, tau, h, Q[m - 1], alpha, qei(u1[n, m], u2[n, m]))\n",
    "    Q[m] = Q_numer / denom\n",
    "    return P, Q"
   ],
   "metadata": {
    "collapsed": false,
    "pycharm": {
     "name": "#%%\n"
    }
   }
  },
  {
   "cell_type": "code",
   "execution_count": 63,
   "metadata": {
    "pycharm": {
     "name": "#%%\n"
    }
   },
   "outputs": [],
   "source": [
    "def backward(P, Q):\n",
    "    M = P.size\n",
    "    y = np.zeros(M)\n",
    "    y[-1] = Q[-1]\n",
    "    for m in range(M - 2, -1, -1):\n",
    "        y[m] = P[m] * y[m + 1] + Q[m]\n",
    "    return y"
   ]
  },
  {
   "cell_type": "markdown",
   "metadata": {
    "pycharm": {
     "name": "#%% md\n"
    }
   },
   "source": [
    "#### Применение метода"
   ]
  },
  {
   "cell_type": "code",
   "execution_count": 64,
   "metadata": {
    "pycharm": {
     "name": "#%%\n"
    }
   },
   "outputs": [],
   "source": [
    "# Начальные значения\n",
    "a = 0\n",
    "b = 2\n",
    "t_0 = 0\n",
    "T = 0.01\n",
    "To = 2"
   ]
  },
  {
   "cell_type": "code",
   "execution_count": 65,
   "metadata": {
    "pycharm": {
     "name": "#%%\n"
    }
   },
   "outputs": [
    {
     "name": "stdout",
     "output_type": "stream",
     "text": [
      "h=0.005, tau= 0.000002\n",
      "sigma =  0.0333\n"
     ]
    }
   ],
   "source": [
    "# Число узлов\n",
    "N = 6000\n",
    "M = 400\n",
    "\n",
    "# Размер шага сетки\n",
    "h = (b - a) / M\n",
    "tau = (T - t_0) / N\n",
    "print(f'{h=}, {tau=: .6f}')\n",
    "\n",
    "print(f'sigma = {tau / h ** 2 * 0.5: .4f}')"
   ]
  },
  {
   "cell_type": "code",
   "execution_count": 66,
   "metadata": {
    "pycharm": {
     "name": "#%%\n"
    }
   },
   "outputs": [],
   "source": [
    "t = np.linspace(t_0, T, N)\n",
    "x = np.linspace(a, b, M)"
   ]
  },
  {
   "cell_type": "code",
   "execution_count": 67,
   "metadata": {
    "pycharm": {
     "name": "#%%\n"
    }
   },
   "outputs": [],
   "source": [
    "u1 = np.zeros((N + 1, M), dtype=np.double)\n",
    "u1[0, :] = u_init(x, 2)\n",
    "\n",
    "u2 = np.zeros((N + 1, M), dtype=np.double)\n",
    "u2[0, :] = u_init(x, 2)"
   ]
  },
  {
   "cell_type": "code",
   "execution_count": 74,
   "metadata": {
    "pycharm": {
     "name": "#%%\n"
    }
   },
   "outputs": [
    {
     "data": {
      "text/plain": "  0%|          | 0/3 [00:00<?, ?it/s]",
      "application/vnd.jupyter.widget-view+json": {
       "version_major": 2,
       "version_minor": 0,
       "model_id": "650eaeb7e4e84d9f85775e13028b3fc0"
      }
     },
     "metadata": {},
     "output_type": "display_data"
    },
    {
     "name": "stderr",
     "output_type": "stream",
     "text": [
      "C:\\Users\\aleks\\AppData\\Local\\Temp\\ipykernel_8768\\445448729.py:2: RuntimeWarning: overflow encountered in double_scalars\n",
      "  return (y_m ** alpha + y_m_1 ** alpha) / 2\n",
      "C:\\Users\\aleks\\AppData\\Local\\Temp\\ipykernel_8768\\172073463.py:15: RuntimeWarning: invalid value encountered in double_scalars\n",
      "  P[m] = P_numer / denom\n",
      "C:\\Users\\aleks\\AppData\\Local\\Temp\\ipykernel_8768\\1800418094.py:8: RuntimeWarning: invalid value encountered in double_scalars\n",
      "  return k_12(u[m], u[m - 1], alpha) * tau / h ** 2 * Qm + f * tau\n"
     ]
    }
   ],
   "source": [
    "P = []\n",
    "Q = []\n",
    "for n in tqdm(range(3)):\n",
    "    P_electron, Q_electron = forward(u1, u2, n, tau, h, M, mode='electron')\n",
    "    u1[n + 1, :] = backward(P_electron, Q_electron)\n",
    "    P_ion, Q_ion = forward(u1, u2, n, tau, h, M, mode='ion')\n",
    "    u2[n + 1, :] = backward(P_ion, Q_ion)\n",
    "    P.append(P_electron)\n",
    "    Q.append(Q_electron)"
   ]
  },
  {
   "cell_type": "code",
   "execution_count": 79,
   "outputs": [
    {
     "data": {
      "text/plain": "array([[ 1.45230245e+00,  3.31742405e-01,  7.50001150e-02, ...,\n         0.00000000e+00,  0.00000000e+00,  0.00000000e+00],\n       [ 1.40504735e+00,  1.30652526e-01,  3.34108875e-04, ...,\n         0.00000000e+00,  0.00000000e+00,  0.00000000e+00],\n       [ 1.31227661e+00,  9.76033837e-02, -2.36355731e-03, ...,\n                    nan,             nan,             nan],\n       [ 2.73848776e-01,  2.28425150e-01,  2.26079374e-01, ...,\n         0.00000000e+00,  0.00000000e+00,  0.00000000e+00],\n       [ 9.24016091e-02,  2.25666994e-03,  5.98111274e-05, ...,\n         0.00000000e+00,  0.00000000e+00,  0.00000000e+00],\n       [ 7.39832736e-02,  1.91469234e-04,  6.93144771e-11, ...,\n                    nan,             nan,  0.00000000e+00]])"
     },
     "execution_count": 79,
     "metadata": {},
     "output_type": "execute_result"
    }
   ],
   "source": [
    "np.vstack(Q + P)"
   ],
   "metadata": {
    "collapsed": false,
    "pycharm": {
     "name": "#%%\n"
    }
   }
  },
  {
   "cell_type": "markdown",
   "metadata": {
    "pycharm": {
     "name": "#%% md\n"
    }
   },
   "source": [
    "#### Визуализация"
   ]
  },
  {
   "cell_type": "code",
   "execution_count": 52,
   "outputs": [
    {
     "data": {
      "text/plain": "<Figure size 432x288 with 1 Axes>",
      "image/png": "[encoded data removed]"
     },
     "metadata": {},
     "output_type": "display_data"
    }
   ],
   "source": [
    "for i in range(2):\n",
    "    plt.plot(x, u1[i, :], color=\"red\")\n",
    "    #ax.plot(x, u2[i, :], color=\"red\")"
   ],
   "metadata": {
    "collapsed": false,
    "pycharm": {
     "name": "#%%\n"
    }
   }
  },
  {
   "cell_type": "code",
   "execution_count": null,
   "metadata": {
    "pycharm": {
     "name": "#%%\n"
    }
   },
   "outputs": [],
   "source": [
    "from matplotlib import pyplot as plt\n",
    "from matplotlib.pyplot import axes\n",
    "from celluloid import Camera\n",
    "\n",
    "fig = plt.figure()\n",
    "camera = Camera(fig)\n",
    "ax = axes(xlim=(0, 1.5), ylim=(0, 2.5))\n",
    "\n",
    "for i in range(0, N, 20):\n",
    "    ax.plot(x, u1[i, :], color=\"blue\")\n",
    "    ax.plot(x, u2[i, :], color=\"red\")\n",
    "    camera.snap()\n",
    "animation = camera.animate()\n",
    "animation.save('oh_my.gif', writer = 'imagemagick')"
   ]
  },
  {
   "cell_type": "markdown",
   "metadata": {
    "pycharm": {
     "name": "#%% md\n"
    }
   },
   "source": [
    "### Метод потоковой прогонки"
   ]
  },
  {
   "cell_type": "code",
   "execution_count": null,
   "metadata": {
    "pycharm": {
     "name": "#%%\n"
    }
   },
   "outputs": [],
   "source": []
  }
 ],
 "metadata": {
  "kernelspec": {
   "display_name": "Python 3 (ipykernel)",
   "language": "python",
   "name": "python3"
  },
  "language_info": {
   "codemirror_mode": {
    "name": "ipython",
    "version": 3
   },
   "file_extension": ".py",
   "mimetype": "text/x-python",
   "name": "python",
   "nbconvert_exporter": "python",
   "pygments_lexer": "ipython3",
   "version": "3.9.12"
  }
 },
 "nbformat": 4,
 "nbformat_minor": 1
}