{
 "cells": [
  {
   "cell_type": "markdown",
   "metadata": {
    "pycharm": {
     "name": "#%% md\n"
    }
   },
   "source": [
    "# Решение спитцеровского уравнения теплопроводности плазмы"
   ]
  },
  {
   "cell_type": "markdown",
   "metadata": {
    "pycharm": {
     "name": "#%% md\n"
    }
   },
   "source": [
    "## Неявная разностная схема с нелинейностью на нижнем слое\n",
    "\n",
    "Для численного решения задачи будем использовать неявную разностную схему с нелинейностью на нижнем слое\n",
    "\n",
    "$$\n",
    "\\frac{y^{n+1}_{m} - y^{n}_{m}}{\\tau} = \\frac{1}{h}\\left[k^n_{m + 1/2}\\frac{y^{n+1}_{m+1} - y^{n+1}_{m}}{h} - k^n_{m - 1/2}\\frac{y^{n+1}_{m} - y^{n+1}_{m - 1}}{h}\\right] + f^n_m\n",
    "$$"
   ]
  },
  {
   "cell_type": "code",
   "execution_count": 39,
   "metadata": {
    "pycharm": {
     "name": "#%%\n"
    }
   },
   "outputs": [],
   "source": [
    "import numpy as np\n",
    "import matplotlib.pyplot as plt\n",
    "from tqdm.notebook import tqdm\n",
    "from matplotlib.pyplot import axes\n",
    "from celluloid import Camera\n",
    "import utils"
   ]
  },
  {
   "cell_type": "code",
   "execution_count": 40,
   "metadata": {
    "pycharm": {
     "name": "#%%\n"
    }
   },
   "outputs": [],
   "source": [
    "def u_init(x, To):\n",
    "    u = np.zeros(x.size)\n",
    "    for i in range(len(x)):\n",
    "        if x[i] <= 1:\n",
    "            u[i] = To\n",
    "    return u"
   ]
  },
  {
   "cell_type": "markdown",
   "metadata": {
    "pycharm": {
     "name": "#%% md\n"
    }
   },
   "source": [
    "### Метод прогонки"
   ]
  },
  {
   "cell_type": "code",
   "execution_count": 41,
   "metadata": {
    "pycharm": {
     "name": "#%%\n"
    }
   },
   "outputs": [
    {
     "name": "stdout",
     "output_type": "stream",
     "text": [
      "[-0.02367942  0.8151184  -1.02003643  2.26502732]\n",
      "[-0.02367942  0.8151184  -1.02003643  2.26502732]\n"
     ]
    }
   ],
   "source": [
    "A = np.array([[11,4,0,0],\n",
    "              [3,10,4,0],\n",
    "              [0,1,7,5],\n",
    "              [0,0,3,4]])\n",
    "a = np.diag(A, -1)\n",
    "b = np.diag(A)\n",
    "c = np.diag(A, 1)\n",
    "d = np.array([3, 4, 5, 6.])\n",
    "print(np.linalg.solve(A, d))\n",
    "print(utils.thomas_solver(a, -b, c, d))"
   ]
  },
  {
   "cell_type": "markdown",
   "metadata": {
    "pycharm": {
     "name": "#%% md\n"
    }
   },
   "source": [
    "#### Применение метода"
   ]
  },
  {
   "cell_type": "code",
   "execution_count": 73,
   "outputs": [
    {
     "data": {
      "text/plain": "<module 'utils' from 'C:\\\\Users\\\\aleks\\\\Documents\\\\Projects\\\\Comp math\\\\utils.py'>"
     },
     "execution_count": 73,
     "metadata": {},
     "output_type": "execute_result"
    }
   ],
   "source": [
    "import importlib\n",
    "importlib.reload(utils)"
   ],
   "metadata": {
    "collapsed": false,
    "pycharm": {
     "name": "#%%\n"
    }
   }
  },
  {
   "cell_type": "code",
   "execution_count": 74,
   "outputs": [],
   "source": [
    "# Начальные значения\n",
    "a = 0\n",
    "b = 4\n",
    "t_0 = 0\n",
    "T = 0.005\n",
    "To = 2"
   ],
   "metadata": {
    "collapsed": false,
    "pycharm": {
     "name": "#%%\n"
    }
   }
  },
  {
   "cell_type": "code",
   "execution_count": 75,
   "outputs": [
    {
     "name": "stdout",
     "output_type": "stream",
     "text": [
      "h=0.002, tau= 0.00000025\n",
      "sigma =  0.0312\n"
     ]
    }
   ],
   "source": [
    "# Число узлов\n",
    "N = 20000\n",
    "M = 2000\n",
    "\n",
    "# Размер шага сетки\n",
    "h = (b - a) / M\n",
    "tau = (T - t_0) / N\n",
    "print(f'{h=}, {tau=: .8f}')\n",
    "\n",
    "print(f'sigma = {tau / h ** 2 * 0.5: .4f}')"
   ],
   "metadata": {
    "collapsed": false,
    "pycharm": {
     "name": "#%%\n"
    }
   }
  },
  {
   "cell_type": "code",
   "execution_count": 76,
   "outputs": [],
   "source": [
    "t = np.linspace(t_0, T, N)\n",
    "x = np.linspace(a, b, M)"
   ],
   "metadata": {
    "collapsed": false,
    "pycharm": {
     "name": "#%%\n"
    }
   }
  },
  {
   "cell_type": "code",
   "execution_count": 77,
   "outputs": [],
   "source": [
    "u1 = np.zeros((N + 1, M), dtype=np.double)\n",
    "u1[0, :] = u_init(x, 2)\n",
    "\n",
    "u2 = np.zeros((N + 1, M), dtype=np.double)\n",
    "u2[0, :] = u_init(x, 2)"
   ],
   "metadata": {
    "collapsed": false,
    "pycharm": {
     "name": "#%%\n"
    }
   }
  },
  {
   "cell_type": "code",
   "execution_count": 78,
   "outputs": [
    {
     "data": {
      "text/plain": "  0%|          | 0/20000 [00:00<?, ?it/s]",
      "application/vnd.jupyter.widget-view+json": {
       "version_major": 2,
       "version_minor": 0,
       "model_id": "86a25f4d07a54009bf9939858f852a75"
      }
     },
     "metadata": {},
     "output_type": "display_data"
    }
   ],
   "source": [
    "for n in tqdm(range(N)):\n",
    "    a_e, b_e, c_e, d_e = utils.make_diagonals(u1, u2, n, tau, h, M, mode='electrons')\n",
    "    u_sol = utils.thomas_solver(a_e, b_e, c_e, d_e)\n",
    "    u1[n + 1, :] = u_sol\n",
    "    a_i, b_i, c_i, d_i = utils.make_diagonals(u1, u2, n, tau, h, M, mode='ion')\n",
    "    u2[n + 1, :] = utils.thomas_solver(a_i, b_i, c_i, d_i)"
   ],
   "metadata": {
    "collapsed": false,
    "pycharm": {
     "name": "#%%\n"
    }
   }
  },
  {
   "cell_type": "markdown",
   "source": [
    "#### Визуализация"
   ],
   "metadata": {
    "collapsed": false,
    "pycharm": {
     "name": "#%% md\n"
    }
   }
  },
  {
   "cell_type": "code",
   "execution_count": 81,
   "outputs": [
    {
     "name": "stderr",
     "output_type": "stream",
     "text": [
      "MovieWriter imagemagick unavailable; using Pillow instead.\n"
     ]
    },
    {
     "data": {
      "text/plain": "<Figure size 640x480 with 1 Axes>",
      "image/png": "[encoded data removed]"
     },
     "metadata": {},
     "output_type": "display_data"
    }
   ],
   "source": [
    "fig = plt.figure()\n",
    "camera = Camera(fig)\n",
    "ax = axes(xlim=(a, b), ylim=(-0.5, 3))\n",
    "\n",
    "for i in range(0, N, 30):\n",
    "    ax.plot(x, u1[i, :], color=\"blue\")\n",
    "    ax.plot(x, u2[i, :], color=\"red\")\n",
    "    camera.snap()\n",
    "animation = camera.animate()\n",
    "animation.save('oh_my.gif', writer = 'imagemagick')"
   ],
   "metadata": {
    "collapsed": false,
    "pycharm": {
     "name": "#%%\n"
    }
   }
  },
  {
   "cell_type": "code",
   "execution_count": 11,
   "outputs": [
    {
     "data": {
      "text/html": "<img src=\"oh_my.gif\"/>",
      "text/plain": "<IPython.core.display.Image object>"
     },
     "execution_count": 11,
     "metadata": {},
     "output_type": "execute_result"
    }
   ],
   "source": [
    "from IPython.display import Image\n",
    "Image(url='oh_my.gif')"
   ],
   "metadata": {
    "collapsed": false,
    "pycharm": {
     "name": "#%%\n"
    }
   }
  },
  {
   "cell_type": "markdown",
   "metadata": {
    "pycharm": {
     "name": "#%% md\n"
    }
   },
   "source": [
    "### Метод потоковой прогонки"
   ]
  },
  {
   "cell_type": "code",
   "execution_count": null,
   "metadata": {
    "pycharm": {
     "name": "#%%\n"
    }
   },
   "outputs": [],
   "source": []
  }
 ],
 "metadata": {
  "kernelspec": {
   "display_name": "Python 3 (ipykernel)",
   "language": "python",
   "name": "python3"
  },
  "language_info": {
   "codemirror_mode": {
    "name": "ipython",
    "version": 3
   },
   "file_extension": ".py",
   "mimetype": "text/x-python",
   "name": "python",
   "nbconvert_exporter": "python",
   "pygments_lexer": "ipython3",
   "version": "3.9.12"
  }
 },
 "nbformat": 4,
 "nbformat_minor": 1
}